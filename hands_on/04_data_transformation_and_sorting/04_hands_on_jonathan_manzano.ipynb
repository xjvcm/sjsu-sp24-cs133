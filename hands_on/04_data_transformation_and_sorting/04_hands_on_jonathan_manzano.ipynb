{
 "cells": [
  {
   "cell_type": "markdown",
   "metadata": {
    "id": "KaXHUmuvM4cH"
   },
   "source": [
    "## Hands-on 4\n",
    "Let's continue to use the dataset from the wine magazine used in lecture to practice data transformation, grouping, and sorting.\n",
    "\n",
    "<img src=\"https://secure.static.meredith.com/crt/store/covers/magazines/nmo/9826_l.jpg\">"
   ]
  },
  {
   "cell_type": "code",
   "execution_count": 92,
   "metadata": {
    "id": "Iv968XwaM4cI",
    "outputId": "8b673ae1-7dea-4a06-f5fa-041b5873d6ce",
    "ExecuteTime": {
     "end_time": "2024-02-14T07:28:44.470647600Z",
     "start_time": "2024-02-14T07:28:39.608432400Z"
    }
   },
   "outputs": [
    {
     "data": {
      "text/plain": "    country                                        description  \\\n0     Italy  Aromas include tropical fruit, broom, brimston...   \n1  Portugal  This is ripe and fruity, a wine that is smooth...   \n2        US  Tart and snappy, the flavors of lime flesh and...   \n3        US  Pineapple rind, lemon pith and orange blossom ...   \n4        US  Much like the regular bottling from 2012, this...   \n\n                          designation  points  price           province  \\\n0                        Vulkà Bianco      87    NaN  Sicily & Sardinia   \n1                            Avidagos      87   15.0              Douro   \n2                                 NaN      87   14.0             Oregon   \n3                Reserve Late Harvest      87   13.0           Michigan   \n4  Vintner's Reserve Wild Child Block      87   65.0             Oregon   \n\n              region_1           region_2         taster_name  \\\n0                 Etna                NaN       Kerin O’Keefe   \n1                  NaN                NaN          Roger Voss   \n2    Willamette Valley  Willamette Valley        Paul Gregutt   \n3  Lake Michigan Shore                NaN  Alexander Peartree   \n4    Willamette Valley  Willamette Valley        Paul Gregutt   \n\n  taster_twitter_handle                                              title  \\\n0          @kerinokeefe                  Nicosia 2013 Vulkà Bianco  (Etna)   \n1            @vossroger      Quinta dos Avidagos 2011 Avidagos Red (Douro)   \n2           @paulgwine       Rainstorm 2013 Pinot Gris (Willamette Valley)   \n3                   NaN  St. Julian 2013 Reserve Late Harvest Riesling ...   \n4           @paulgwine   Sweet Cheeks 2012 Vintner's Reserve Wild Child...   \n\n          variety               winery  \n0     White Blend              Nicosia  \n1  Portuguese Red  Quinta dos Avidagos  \n2      Pinot Gris            Rainstorm  \n3        Riesling           St. Julian  \n4      Pinot Noir         Sweet Cheeks  ",
      "text/html": "<div>\n<style scoped>\n    .dataframe tbody tr th:only-of-type {\n        vertical-align: middle;\n    }\n\n    .dataframe tbody tr th {\n        vertical-align: top;\n    }\n\n    .dataframe thead th {\n        text-align: right;\n    }\n</style>\n<table border=\"1\" class=\"dataframe\">\n  <thead>\n    <tr style=\"text-align: right;\">\n      <th></th>\n      <th>country</th>\n      <th>description</th>\n      <th>designation</th>\n      <th>points</th>\n      <th>price</th>\n      <th>province</th>\n      <th>region_1</th>\n      <th>region_2</th>\n      <th>taster_name</th>\n      <th>taster_twitter_handle</th>\n      <th>title</th>\n      <th>variety</th>\n      <th>winery</th>\n    </tr>\n  </thead>\n  <tbody>\n    <tr>\n      <th>0</th>\n      <td>Italy</td>\n      <td>Aromas include tropical fruit, broom, brimston...</td>\n      <td>Vulkà Bianco</td>\n      <td>87</td>\n      <td>NaN</td>\n      <td>Sicily &amp; Sardinia</td>\n      <td>Etna</td>\n      <td>NaN</td>\n      <td>Kerin O’Keefe</td>\n      <td>@kerinokeefe</td>\n      <td>Nicosia 2013 Vulkà Bianco  (Etna)</td>\n      <td>White Blend</td>\n      <td>Nicosia</td>\n    </tr>\n    <tr>\n      <th>1</th>\n      <td>Portugal</td>\n      <td>This is ripe and fruity, a wine that is smooth...</td>\n      <td>Avidagos</td>\n      <td>87</td>\n      <td>15.0</td>\n      <td>Douro</td>\n      <td>NaN</td>\n      <td>NaN</td>\n      <td>Roger Voss</td>\n      <td>@vossroger</td>\n      <td>Quinta dos Avidagos 2011 Avidagos Red (Douro)</td>\n      <td>Portuguese Red</td>\n      <td>Quinta dos Avidagos</td>\n    </tr>\n    <tr>\n      <th>2</th>\n      <td>US</td>\n      <td>Tart and snappy, the flavors of lime flesh and...</td>\n      <td>NaN</td>\n      <td>87</td>\n      <td>14.0</td>\n      <td>Oregon</td>\n      <td>Willamette Valley</td>\n      <td>Willamette Valley</td>\n      <td>Paul Gregutt</td>\n      <td>@paulgwine</td>\n      <td>Rainstorm 2013 Pinot Gris (Willamette Valley)</td>\n      <td>Pinot Gris</td>\n      <td>Rainstorm</td>\n    </tr>\n    <tr>\n      <th>3</th>\n      <td>US</td>\n      <td>Pineapple rind, lemon pith and orange blossom ...</td>\n      <td>Reserve Late Harvest</td>\n      <td>87</td>\n      <td>13.0</td>\n      <td>Michigan</td>\n      <td>Lake Michigan Shore</td>\n      <td>NaN</td>\n      <td>Alexander Peartree</td>\n      <td>NaN</td>\n      <td>St. Julian 2013 Reserve Late Harvest Riesling ...</td>\n      <td>Riesling</td>\n      <td>St. Julian</td>\n    </tr>\n    <tr>\n      <th>4</th>\n      <td>US</td>\n      <td>Much like the regular bottling from 2012, this...</td>\n      <td>Vintner's Reserve Wild Child Block</td>\n      <td>87</td>\n      <td>65.0</td>\n      <td>Oregon</td>\n      <td>Willamette Valley</td>\n      <td>Willamette Valley</td>\n      <td>Paul Gregutt</td>\n      <td>@paulgwine</td>\n      <td>Sweet Cheeks 2012 Vintner's Reserve Wild Child...</td>\n      <td>Pinot Noir</td>\n      <td>Sweet Cheeks</td>\n    </tr>\n  </tbody>\n</table>\n</div>"
     },
     "execution_count": 92,
     "metadata": {},
     "output_type": "execute_result"
    }
   ],
   "source": [
    "csvurl = (\n",
    "    \"https://gist.githubusercontent.com/clairehq/\"\n",
    "    + \"79acab35be50eaf1c383948ed3fd1129/raw/407a02139ae1e134992b90b4b2b8c329b3d73a6a/winemag-data-130k-v2.csv\"\n",
    ")\n",
    "import pandas as pd\n",
    "\n",
    "wine = pd.read_csv(csvurl)\n",
    "wine.drop(wine.columns[0], axis=\"columns\", inplace=True)\n",
    "wine.head()"
   ]
  },
  {
   "cell_type": "markdown",
   "metadata": {
    "id": "B5icW1ooM4cK"
   },
   "source": [
    "#### Question 1: ####  \n",
    "What is the mean of the points column?"
   ]
  },
  {
   "cell_type": "code",
   "source": [
    "# According to Jones (2020) on page 22, we have wide ranges of methods to\n",
    "# produce descriptive statistics\n",
    "wine[\"points\"].mean()"
   ],
   "metadata": {
    "id": "zfLRcH-QNZk8",
    "ExecuteTime": {
     "end_time": "2024-02-14T07:28:44.499690800Z",
     "start_time": "2024-02-14T07:28:44.474690Z"
    }
   },
   "execution_count": 93,
   "outputs": [
    {
     "data": {
      "text/plain": "88.43403716087269"
     },
     "execution_count": 93,
     "metadata": {},
     "output_type": "execute_result"
    }
   ]
  },
  {
   "cell_type": "markdown",
   "source": [
    "The mean of the points column is computed to be 88.43"
   ],
   "metadata": {
    "collapsed": false
   }
  },
  {
   "cell_type": "markdown",
   "metadata": {
    "id": "xgUNI-hfM4cK"
   },
   "source": [
    "#### Question 2: ####  \n",
    "How many countries are present in this dataset? (Only count each country once)"
   ]
  },
  {
   "cell_type": "code",
   "source": [
    "# Display participating countries in the country column.\n",
    "wine[\"country\"].unique()"
   ],
   "metadata": {
    "id": "3VtO-ngdNau1",
    "ExecuteTime": {
     "end_time": "2024-02-14T07:28:44.548648400Z",
     "start_time": "2024-02-14T07:28:44.488647500Z"
    }
   },
   "execution_count": 94,
   "outputs": [
    {
     "data": {
      "text/plain": "array(['Italy', 'Portugal', 'US', 'Spain', 'France', 'Germany',\n       'Argentina', 'Chile', 'Australia', 'Austria', 'South Africa',\n       'New Zealand', 'Israel', 'Hungary', 'Greece', 'Romania', 'Mexico',\n       'Canada', nan, 'Turkey', 'Czech Republic', 'Slovenia',\n       'Luxembourg', 'Croatia', 'Georgia', 'Uruguay', 'England',\n       'Lebanon', 'Serbia', 'Brazil', 'Moldova', 'Morocco', 'Peru',\n       'India', 'Bulgaria', 'Cyprus', 'Armenia', 'Switzerland',\n       'Bosnia and Herzegovina', 'Ukraine', 'Slovakia', 'Macedonia'],\n      dtype=object)"
     },
     "execution_count": 94,
     "metadata": {},
     "output_type": "execute_result"
    }
   ]
  },
  {
   "cell_type": "code",
   "outputs": [
    {
     "data": {
      "text/plain": "42"
     },
     "execution_count": 95,
     "metadata": {},
     "output_type": "execute_result"
    }
   ],
   "source": [
    "# Pass the returned object from the `unique` function to python's builtin `len()` function\n",
    "# to output the length of the array of distinct country names.\n",
    "len(wine[\"country\"].unique())"
   ],
   "metadata": {
    "collapsed": false,
    "ExecuteTime": {
     "end_time": "2024-02-14T07:28:44.670646100Z",
     "start_time": "2024-02-14T07:28:44.505648300Z"
    }
   },
   "execution_count": 95
  },
  {
   "cell_type": "code",
   "outputs": [
    {
     "data": {
      "text/plain": "41"
     },
     "execution_count": 96,
     "metadata": {},
     "output_type": "execute_result"
    }
   ],
   "source": [
    "wine[\"country\"].nunique()"
   ],
   "metadata": {
    "collapsed": false,
    "ExecuteTime": {
     "end_time": "2024-02-14T07:28:44.672646700Z",
     "start_time": "2024-02-14T07:28:44.526647600Z"
    }
   },
   "execution_count": 96
  },
  {
   "cell_type": "code",
   "outputs": [
    {
     "data": {
      "text/plain": "42"
     },
     "execution_count": 97,
     "metadata": {},
     "output_type": "execute_result"
    }
   ],
   "source": [
    "wine[\"country\"].nunique(dropna=False)"
   ],
   "metadata": {
    "collapsed": false,
    "ExecuteTime": {
     "end_time": "2024-02-14T07:28:44.740686400Z",
     "start_time": "2024-02-14T07:28:44.535646700Z"
    }
   },
   "execution_count": 97
  },
  {
   "cell_type": "markdown",
   "source": [
    "According to [Difference in len() and .nunique with relation to pandas dataframe](https://stackoverflow.com/questions/65826794/difference-in-len-and-nunique-with-relation-to-pandas-dataframe)\n",
    "Using Python's builtin `len` function gives 42. Invoking `nunique` function on the \"country\" column outputs 41. The reason why the `len` function outputs 42 is because it counts the column header row. You need to pass `dropna=False` in `nunique()`\n",
    "\n",
    "The methods `unique` outputs a series and details 42 rows. There are 42  countries."
   ],
   "metadata": {
    "collapsed": false
   }
  },
  {
   "cell_type": "markdown",
   "metadata": {
    "id": "o0LDb6ahM4cL"
   },
   "source": [
    "#### Question 3: ####\n",
    "How many times does each country appeared in this dataset? Show each country and the corresponding count (show counts in ascending order)"
   ]
  },
  {
   "cell_type": "code",
   "source": [
    "# According to Jones (2020) on page 46, the `value_counts` displays the occurrences for each country\n",
    "# Invoke the `value_counts()` methods to display the number of occurrences for each country in\n",
    "# wine dataframe.\n",
    "wine[\"country\"].value_counts()"
   ],
   "metadata": {
    "id": "tLZ7v1RYNdDm",
    "ExecuteTime": {
     "end_time": "2024-02-14T07:28:44.742699900Z",
     "start_time": "2024-02-14T07:28:44.560648400Z"
    }
   },
   "execution_count": 98,
   "outputs": [
    {
     "data": {
      "text/plain": "country\nUS                        27177\nFrance                    11174\nItaly                     10005\nSpain                      3409\nPortugal                   2963\nChile                      2258\nArgentina                  1907\nAustria                    1635\nAustralia                  1177\nGermany                    1051\nSouth Africa                737\nNew Zealand                 733\nIsrael                      259\nGreece                      242\nCanada                      108\nBulgaria                     68\nRomania                      67\nHungary                      61\nUruguay                      61\nCroatia                      44\nTurkey                       43\nSlovenia                     39\nGeorgia                      37\nEngland                      36\nMexico                       31\nBrazil                       31\nMoldova                      30\nLebanon                      20\nMorocco                      11\nPeru                          8\nSerbia                        7\nCyprus                        6\nMacedonia                     6\nCzech Republic                6\nUkraine                       5\nIndia                         4\nSwitzerland                   4\nLuxembourg                    4\nArmenia                       1\nBosnia and Herzegovina        1\nSlovakia                      1\nName: count, dtype: int64"
     },
     "execution_count": 98,
     "metadata": {},
     "output_type": "execute_result"
    }
   ]
  },
  {
   "cell_type": "markdown",
   "metadata": {
    "id": "OpkB90HkM4cL"
   },
   "source": [
    "#### Question 4: ####\n",
    "Create a variable `adjusted_price` containing the adjusted price which is the price subtracted by the average price. *This is called **\"centering\" transformation** - a method commonly used in the preprocessing step before applying various machine learning algorithms.*"
   ]
  },
  {
   "cell_type": "code",
   "source": [
    "# Talked to Hannah on Discord (I am Eggplant) to clarify variable = column\n",
    "adjusted_price = wine[\"price\"] - wine[\"price\"].mean()\n",
    "adjusted_price"
   ],
   "metadata": {
    "id": "PiNrXHhMNeTD",
    "ExecuteTime": {
     "end_time": "2024-02-14T07:28:44.753686100Z",
     "start_time": "2024-02-14T07:28:44.584647300Z"
    }
   },
   "execution_count": 99,
   "outputs": [
    {
     "data": {
      "text/plain": "0              NaN\n1       -20.232932\n2       -21.232932\n3       -22.232932\n4        29.767068\n           ...    \n65494     9.767068\n65495   -13.232932\n65496   -15.232932\n65497    -4.232932\n65498   -25.232932\nName: price, Length: 65499, dtype: float64"
     },
     "execution_count": 99,
     "metadata": {},
     "output_type": "execute_result"
    }
   ]
  },
  {
   "cell_type": "markdown",
   "metadata": {
    "id": "AkOtVGS6M4cL"
   },
   "source": [
    "#### Question 5: ####\n",
    "What is the title of the wine that has the highest points-to-price ratio in the dataset?"
   ]
  },
  {
   "cell_type": "code",
   "outputs": [
    {
     "data": {
      "text/plain": "designation    NaN\nName: 64590, dtype: object"
     },
     "execution_count": 100,
     "metadata": {},
     "output_type": "execute_result"
    }
   ],
   "source": [
    "# According to https://pandas.pydata.org/docs/reference/api/pandas.DataFrame.loc.html\n",
    "# Using `loc` we can pass a \"Conditional that returns a boolean Series with column labels specified\"\n",
    "# According to https://pandas.pydata.org/pandas-docs/stable/reference/api/pandas.DataFrame.idxmax.html\n",
    "# Using `idxmax` we can return the index of the max value\n",
    "wine.loc[(wine[\"points\"] / wine[\"price\"]).idxmax(), [\"designation\"]]"
   ],
   "metadata": {
    "collapsed": false,
    "ExecuteTime": {
     "end_time": "2024-02-14T07:28:44.754650600Z",
     "start_time": "2024-02-14T07:28:44.600649Z"
    }
   },
   "execution_count": 100
  },
  {
   "cell_type": "markdown",
   "metadata": {
    "id": "Zqt78i-eM4cL"
   },
   "source": [
    "#### Question 6: ####\n",
    "Create a series `flavor_counts` that contains two values: the number of wines that has the word \"tart\" in the `description` column and the number of wines that has the word \"berries\" in the `description` column. The index of the Series should be \"Tart\" and \"Berries\" for the corresponding values."
   ]
  },
  {
   "cell_type": "code",
   "execution_count": 101,
   "metadata": {
    "id": "uzqdreKSM4cM",
    "ExecuteTime": {
     "end_time": "2024-02-14T07:28:49.253737100Z",
     "start_time": "2024-02-14T07:28:44.642688200Z"
    }
   },
   "outputs": [
    {
     "data": {
      "text/plain": "Tart       4172\nBerries    3503\ndtype: int64"
     },
     "execution_count": 101,
     "metadata": {},
     "output_type": "execute_result"
    }
   ],
   "source": [
    "# According to https://pandas.pydata.org/docs/reference/api/pandas.Series.str.contains.html\n",
    "# and According to https://pandas.pydata.org/docs/reference/api/pandas.DataFrame.sum.html\n",
    "# We can search and count the number of occurrences\n",
    "# Look for the word \"tart\", not case-sensitive, not a substring of another word.\n",
    "# Same applies to the word \"berries\"\n",
    "\n",
    "tart_count = wine[\"description\"].str.contains(\"tart\").sum()\n",
    "berries_count = wine[\"description\"].str.contains(\"berries\").sum()\n",
    "flavour_counts = pd.Series([tart_count, berries_count], index=[\"Tart\", \"Berries\"])\n",
    "flavour_counts"
   ]
  },
  {
   "cell_type": "markdown",
   "metadata": {
    "id": "wSVdmOw9M4cM"
   },
   "source": [
    "#### Question 7: ####\n",
    "Let's convert the points into simple star ratings. A score of 90 or higher counts as 3 stars, a score of at least 80 but less than 90 is 2 stars. Any other score is 1 star.\n",
    "\n",
    "Also, any wines from France should automatically get 3 stars, regardless of points.\n",
    "\n",
    "Add this new column `star_ratings` to the dataframe with the number of stars for each wine in the dataset. "
   ]
  },
  {
   "cell_type": "code",
   "execution_count": 102,
   "metadata": {
    "id": "yOucjOJZM4cN",
    "ExecuteTime": {
     "end_time": "2024-02-14T07:28:49.254744600Z",
     "start_time": "2024-02-14T07:28:44.774647100Z"
    }
   },
   "outputs": [],
   "source": [
    "# Followed the example from the lecture by DeBaets (2024) to create a function and\n",
    "# use the `map` function\n",
    "def make_stars(points):\n",
    "    if points >= 90:\n",
    "        return \"***\"\n",
    "    elif points >= 80 & points < 90:\n",
    "        return \"**\"\n",
    "    else:\n",
    "        return \"*\"\n",
    "\n",
    "\n",
    "wine[\"star_ratings\"] = wine[\"points\"].map(make_stars)"
   ]
  },
  {
   "cell_type": "markdown",
   "metadata": {
    "id": "v9btZBA6M4cN"
   },
   "source": [
    "#### Question 8: ####\n",
    "Who are the most common wine reviewers in the dataset? Create a Series whose index is the taster_twitter_handle category from the dataset, and whose values count how many reviews each person wrote."
   ]
  },
  {
   "cell_type": "code",
   "source": [
    "wine.groupby([\"taster_twitter_handle\"]).size()"
   ],
   "metadata": {
    "id": "dqsUgtGBNiQZ",
    "ExecuteTime": {
     "end_time": "2024-02-14T07:28:49.255736100Z",
     "start_time": "2024-02-14T07:28:44.805647400Z"
    }
   },
   "execution_count": 103,
   "outputs": [
    {
     "data": {
      "text/plain": "taster_twitter_handle\n@AnneInVino          1769\n@JoeCz               2605\n@bkfiona               11\n@gordone_cellars     2032\n@kerinokeefe         5313\n@laurbuzz             938\n@mattkettmann        3035\n@paulgwine           4851\n@suskostrzewa         593\n@vboone              4696\n@vossroger          13045\n@wawinereport        2358\n@wineschach          7752\n@winewchristina         4\n@worldwineguys        465\ndtype: int64"
     },
     "execution_count": 103,
     "metadata": {},
     "output_type": "execute_result"
    }
   ]
  },
  {
   "cell_type": "markdown",
   "metadata": {
    "id": "rIO81pKrM4cN"
   },
   "source": [
    "#### Question 9: ####\n",
    "What combination of countries and varieties are most common? Create a Series whose index is a MultiIndexof {country, variety} pairs. For example, a pinot noir produced in the US should map to {\"US\", \"Pinot Noir\"}. Sort the values in the Series in descending order based on wine count."
   ]
  },
  {
   "cell_type": "code",
   "source": [
    "# According to https://pandas.pydata.org/docs/reference/api/pandas.DataFrame.sort_values.html\n",
    "# and according to https://pandas.pydata.org/docs/reference/api/pandas.DataFrame.groupby.html\n",
    "# We can use `grouby` function by passing a tuple.\n",
    "# Use `sort_values` to sort the values in descending order\n",
    "wine.groupby([\"country\", \"variety\"]).size().sort_values(ascending=False)"
   ],
   "metadata": {
    "id": "4Is2muZjNjxd",
    "ExecuteTime": {
     "end_time": "2024-02-14T07:28:49.366714800Z",
     "start_time": "2024-02-14T07:28:44.844693400Z"
    }
   },
   "execution_count": 104,
   "outputs": [
    {
     "data": {
      "text/plain": "country  variety                 \nUS       Pinot Noir                  4918\n         Cabernet Sauvignon          3649\n         Chardonnay                  3412\nFrance   Bordeaux-style Red Blend    2380\nItaly    Red Blend                   1870\n                                     ... \n         Torbato                        1\n         Vespaiolo                      1\n         Vespolina                      1\n         Vitovska                       1\nUruguay  Tempranillo-Tannat             1\nLength: 1304, dtype: int64"
     },
     "execution_count": 104,
     "metadata": {},
     "output_type": "execute_result"
    }
   ]
  },
  {
   "cell_type": "markdown",
   "metadata": {
    "id": "C6sj-ABlM4cO"
   },
   "source": [
    "#### Question 10 #####\n",
    "Create a Series whose index is reviewers and whose values is the average score given out by that reviewer. Hint: you will need the `taster_name` and `points` columns."
   ]
  },
  {
   "cell_type": "code",
   "source": [
    "# https://pandas.pydata.org/docs/reference/api/pandas.DataFrame.groupby.html\n",
    "wine.groupby([\"taster_name\"])[\"points\"].mean()"
   ],
   "metadata": {
    "id": "QFseCkVwNlAk",
    "ExecuteTime": {
     "end_time": "2024-02-14T07:28:49.367773400Z",
     "start_time": "2024-02-14T07:28:44.892644900Z"
    }
   },
   "execution_count": 105,
   "outputs": [
    {
     "data": {
      "text/plain": "taster_name\nAlexander Peartree    86.014286\nAnna Lee C. Iijima    88.380506\nAnne Krebiehl MW      90.587903\nCarrie Dykes          86.644444\nChristina Pickard     89.500000\nFiona Adams           87.090909\nJeff Jenssen          88.273504\nJim Gordon            88.604331\nJoe Czerwinski        88.519770\nKerin O’Keefe         88.827969\nLauren Buzzeo         87.831557\nMatt Kettmann         90.021087\nMichael Schachner     86.904541\nMike DeSimone         89.030303\nPaul Gregutt          89.095032\nRoger Voss            88.678957\nSean P. Sullivan      88.666243\nSusan Kostrzewa       86.408094\nVirginie Boone        89.229557\nName: points, dtype: float64"
     },
     "execution_count": 105,
     "metadata": {},
     "output_type": "execute_result"
    }
   ]
  },
  {
   "cell_type": "markdown",
   "source": [
    "## References\n",
    "\n",
    "DeBaets, H. (2024). Additional Pandas Problems.ipynb. Unknown Publisher\n",
    "Jones, M. (2020). Biological data exploration with Python, pandas and seaborn. Independently published."
   ],
   "metadata": {
    "collapsed": false
   }
  },
  {
   "cell_type": "code",
   "outputs": [],
   "source": [],
   "metadata": {
    "collapsed": false,
    "ExecuteTime": {
     "end_time": "2024-02-14T07:28:49.368756400Z",
     "start_time": "2024-02-14T07:28:44.916686500Z"
    }
   },
   "execution_count": 105
  }
 ],
 "metadata": {
  "kernelspec": {
   "display_name": "Python 3",
   "language": "python",
   "name": "python3"
  },
  "language_info": {
   "codemirror_mode": {
    "name": "ipython",
    "version": 3
   },
   "file_extension": ".py",
   "mimetype": "text/x-python",
   "name": "python",
   "nbconvert_exporter": "python",
   "pygments_lexer": "ipython3",
   "version": "3.7.6"
  },
  "colab": {
   "name": "CS133_ho4.ipynb",
   "provenance": [],
   "collapsed_sections": []
  }
 },
 "nbformat": 4,
 "nbformat_minor": 0
}
