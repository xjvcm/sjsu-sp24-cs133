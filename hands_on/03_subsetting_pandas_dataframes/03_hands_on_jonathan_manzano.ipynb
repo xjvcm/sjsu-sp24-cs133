{
 "cells": [
  {
   "cell_type": "markdown",
   "metadata": {
    "id": "iBkOEcnqJ8Kt"
   },
   "source": [
    "## Exploring the Tree of Life\n",
    "\n",
    "<table>\n",
    "  <tr>\n",
    "    <td><img\n",
    "      src=\"https://i.guim.co.uk/img/static/sys-images/Guardian/Pix/pictures/2008/04/17/DarwinSketch.article.jpg?width=445&quality=85&auto=format&fit=max&s=c7f89552d12b8495b2b4eb4d7a5bc391\"\n",
    "      alt=\"A page from Darwin's Notebook B showing his sketch of the tree of life\" width=\"200\"><a\n",
    "      href=\"https://i.guim.co.uk/img/static/sys-images/Guardian/Pix/pictures/2008/04/17/DarwinSketch.article.jpg?width=445&quality=85&auto=format&fit=max&s=c7f89552d12b8495b2b4eb4d7a5bc391\">Source</a>\n",
    "    </td>\n",
    "    <td><img src=\"https://www.greennature.ca/greennature/taxonomy/tree_of_life.png\" alt=\"the tree of life\"\n",
    "             width=\"300\"><a href=\"https://www.greennature.ca/greennature/taxonomy/tree_of_life.png\">Source</a></td>\n",
    "  </tr>\n",
    "</table>"
   ]
  },
  {
   "cell_type": "markdown",
   "metadata": {
    "id": "zlq_EnyFJ8Kv"
   },
   "source": [
    "In this hands-on exercise, you answer the following questions by using pandas data structures and methods to analyze the eukaryote genome data store in the following tab-delimited file. `https://raw.githubusercontent.com/csbfx/advpy122-data/master/euk.tsv`"
   ]
  },
  {
   "cell_type": "code",
   "outputs": [],
   "source": [
    "import pandas as pd"
   ],
   "metadata": {
    "collapsed": false,
    "ExecuteTime": {
     "end_time": "2024-02-13T22:39:30.898709Z",
     "start_time": "2024-02-13T22:39:30.825641200Z"
    }
   },
   "execution_count": 16
  },
  {
   "cell_type": "code",
   "execution_count": 17,
   "metadata": {
    "id": "5ap-dlxTJ8Kw",
    "outputId": "4a083f4f-94cc-431f-b62c-0070f9308776",
    "ExecuteTime": {
     "end_time": "2024-02-13T22:39:31.288651300Z",
     "start_time": "2024-02-13T22:39:30.929013700Z"
    }
   },
   "outputs": [
    {
     "data": {
      "text/plain": "                         Species   Kingdom           Class   Size (Mb)  \\\n0     Emiliania huxleyi CCMP1516  Protists  Other Protists  167.676000   \n1           Arabidopsis thaliana    Plants     Land Plants  119.669000   \n2                    Glycine max    Plants     Land Plants  979.046000   \n3            Medicago truncatula    Plants     Land Plants  412.924000   \n4           Solanum lycopersicum    Plants     Land Plants  828.349000   \n...                          ...       ...             ...         ...   \n8297    Saccharomyces cerevisiae     Fungi     Ascomycetes    3.993920   \n8298    Saccharomyces cerevisiae     Fungi     Ascomycetes    0.586761   \n8299    Saccharomyces cerevisiae     Fungi     Ascomycetes   12.020400   \n8300    Saccharomyces cerevisiae     Fungi     Ascomycetes   11.960900   \n8301    Saccharomyces cerevisiae     Fungi     Ascomycetes   11.820700   \n\n          GC% Number of genes Number of proteins  Publication year  \\\n0        64.5           38549              38554              2013   \n1     36.0529           38311              48265              2001   \n2     35.1153           59847              71219              2010   \n3      34.047           37603              41939              2011   \n4     35.6991           31200              37660              2010   \n...       ...             ...                ...               ...   \n8297     38.2               -                  -              2017   \n8298  38.5921             155                298              1992   \n8299  38.2971               -                  -              2018   \n8300  38.2413               -                  -              2018   \n8301  38.2536               -                  -              2018   \n\n     Assembly status  \n0           Scaffold  \n1         Chromosome  \n2         Chromosome  \n3         Chromosome  \n4         Chromosome  \n...              ...  \n8297        Scaffold  \n8298      Chromosome  \n8299      Chromosome  \n8300      Chromosome  \n8301      Chromosome  \n\n[8302 rows x 9 columns]",
      "text/html": "<div>\n<style scoped>\n    .dataframe tbody tr th:only-of-type {\n        vertical-align: middle;\n    }\n\n    .dataframe tbody tr th {\n        vertical-align: top;\n    }\n\n    .dataframe thead th {\n        text-align: right;\n    }\n</style>\n<table border=\"1\" class=\"dataframe\">\n  <thead>\n    <tr style=\"text-align: right;\">\n      <th></th>\n      <th>Species</th>\n      <th>Kingdom</th>\n      <th>Class</th>\n      <th>Size (Mb)</th>\n      <th>GC%</th>\n      <th>Number of genes</th>\n      <th>Number of proteins</th>\n      <th>Publication year</th>\n      <th>Assembly status</th>\n    </tr>\n  </thead>\n  <tbody>\n    <tr>\n      <th>0</th>\n      <td>Emiliania huxleyi CCMP1516</td>\n      <td>Protists</td>\n      <td>Other Protists</td>\n      <td>167.676000</td>\n      <td>64.5</td>\n      <td>38549</td>\n      <td>38554</td>\n      <td>2013</td>\n      <td>Scaffold</td>\n    </tr>\n    <tr>\n      <th>1</th>\n      <td>Arabidopsis thaliana</td>\n      <td>Plants</td>\n      <td>Land Plants</td>\n      <td>119.669000</td>\n      <td>36.0529</td>\n      <td>38311</td>\n      <td>48265</td>\n      <td>2001</td>\n      <td>Chromosome</td>\n    </tr>\n    <tr>\n      <th>2</th>\n      <td>Glycine max</td>\n      <td>Plants</td>\n      <td>Land Plants</td>\n      <td>979.046000</td>\n      <td>35.1153</td>\n      <td>59847</td>\n      <td>71219</td>\n      <td>2010</td>\n      <td>Chromosome</td>\n    </tr>\n    <tr>\n      <th>3</th>\n      <td>Medicago truncatula</td>\n      <td>Plants</td>\n      <td>Land Plants</td>\n      <td>412.924000</td>\n      <td>34.047</td>\n      <td>37603</td>\n      <td>41939</td>\n      <td>2011</td>\n      <td>Chromosome</td>\n    </tr>\n    <tr>\n      <th>4</th>\n      <td>Solanum lycopersicum</td>\n      <td>Plants</td>\n      <td>Land Plants</td>\n      <td>828.349000</td>\n      <td>35.6991</td>\n      <td>31200</td>\n      <td>37660</td>\n      <td>2010</td>\n      <td>Chromosome</td>\n    </tr>\n    <tr>\n      <th>...</th>\n      <td>...</td>\n      <td>...</td>\n      <td>...</td>\n      <td>...</td>\n      <td>...</td>\n      <td>...</td>\n      <td>...</td>\n      <td>...</td>\n      <td>...</td>\n    </tr>\n    <tr>\n      <th>8297</th>\n      <td>Saccharomyces cerevisiae</td>\n      <td>Fungi</td>\n      <td>Ascomycetes</td>\n      <td>3.993920</td>\n      <td>38.2</td>\n      <td>-</td>\n      <td>-</td>\n      <td>2017</td>\n      <td>Scaffold</td>\n    </tr>\n    <tr>\n      <th>8298</th>\n      <td>Saccharomyces cerevisiae</td>\n      <td>Fungi</td>\n      <td>Ascomycetes</td>\n      <td>0.586761</td>\n      <td>38.5921</td>\n      <td>155</td>\n      <td>298</td>\n      <td>1992</td>\n      <td>Chromosome</td>\n    </tr>\n    <tr>\n      <th>8299</th>\n      <td>Saccharomyces cerevisiae</td>\n      <td>Fungi</td>\n      <td>Ascomycetes</td>\n      <td>12.020400</td>\n      <td>38.2971</td>\n      <td>-</td>\n      <td>-</td>\n      <td>2018</td>\n      <td>Chromosome</td>\n    </tr>\n    <tr>\n      <th>8300</th>\n      <td>Saccharomyces cerevisiae</td>\n      <td>Fungi</td>\n      <td>Ascomycetes</td>\n      <td>11.960900</td>\n      <td>38.2413</td>\n      <td>-</td>\n      <td>-</td>\n      <td>2018</td>\n      <td>Chromosome</td>\n    </tr>\n    <tr>\n      <th>8301</th>\n      <td>Saccharomyces cerevisiae</td>\n      <td>Fungi</td>\n      <td>Ascomycetes</td>\n      <td>11.820700</td>\n      <td>38.2536</td>\n      <td>-</td>\n      <td>-</td>\n      <td>2018</td>\n      <td>Chromosome</td>\n    </tr>\n  </tbody>\n</table>\n<p>8302 rows × 9 columns</p>\n</div>"
     },
     "execution_count": 17,
     "metadata": {},
     "output_type": "execute_result"
    }
   ],
   "source": [
    "%matplotlib inline\n",
    "# this input file is tab-delimited instead of comma-delimited\n",
    "tsvFile = \"https://raw.githubusercontent.com/csbfx/advpy122-data/master/euk.tsv\"\n",
    "# Load the csv file into a dataframe\n",
    "euk = pd.read_csv(tsvFile, sep=\"\\t\")\n",
    "euk"
   ]
  },
  {
   "cell_type": "markdown",
   "metadata": {
    "id": "8Z2GVGoBJ8Ky"
   },
   "source": [
    "## Q1. How many Mammals have at least 20,000 genes? What are their scientific names? \n",
    "*Note:* \n",
    "- *Mammals are under Class*\n",
    "- *Scientific names are under Species*"
   ]
  },
  {
   "cell_type": "code",
   "execution_count": 22,
   "metadata": {
    "collapsed": false,
    "ExecuteTime": {
     "end_time": "2024-02-13T22:40:05.255806200Z",
     "start_time": "2024-02-13T22:40:05.017484400Z"
    }
   },
   "outputs": [
    {
     "name": "stdout",
     "output_type": "stream",
     "text": [
      "There are  134  mammals with at least 20,000 genes\n"
     ]
    }
   ],
   "source": [
    "# According to Jones (2020) on pages 18–19, we desire short names as possible.\n",
    "my_names = [\n",
    "    \"species\",\n",
    "    \"kingdom\",\n",
    "    \"class\",\n",
    "    \"size\",\n",
    "    \"gc\",\n",
    "    \"genes\",\n",
    "    \"proteins\",\n",
    "    \"year\",\n",
    "    \"status\",\n",
    "]\n",
    "\n",
    "# https://pandas.pydata.org/docs/user_guide/basics.html#dtypes\n",
    "# According to Jones (2020) on page 15, we can explicitly set each Series/column\n",
    "# to a specific data type.\n",
    "my_types = {\n",
    "    \"species\": \"string\",\n",
    "    \"kingdom\": \"string\",\n",
    "    \"class\": \"string\",\n",
    "    \"genes\": \"Int64\",\n",
    "    \"proteins\": \"Int64\",\n",
    "    \"status\": \"string\",\n",
    "}\n",
    "\n",
    "# According to Jones (2020) on page 15, reassign `euk` with the same data set\n",
    "# but define the `-` values to `NaN` with the defined column names.\n",
    "#\n",
    "# According to https://pandas.pydata.org/docs/reference/api/pandas.read_csv.html,\n",
    "# if column names are being explicitly passed, then `header=0` needs to be\n",
    "# explicitly passed too.\n",
    "euk = pd.read_csv(\n",
    "    tsvFile, sep=\"\\t\", header=0, names=my_names, dtype=my_types, na_values=[\"-\"]\n",
    ")\n",
    "\n",
    "# According to Jones (2020) on pages 31–34, it outlines how to select and filter\n",
    "# rows and columns.\n",
    "#\n",
    "# According to Jones (2020) on page 18, we can use the `len` function to count\n",
    "# rows.\n",
    "# Mammal's with 20,000 or more genes:\n",
    "mammals_genes20k = euk[(euk[\"class\"] == \"Mammals\") & (euk[\"genes\"] >= 20_000)]\n",
    "print(\n",
    "    \"There are \",\n",
    "    len(mammals_genes20k),\n",
    "    \" mammals with at least 20,000 genes\",\n",
    ")"
   ]
  },
  {
   "cell_type": "code",
   "outputs": [
    {
     "data": {
      "text/plain": "['Homo sapiens',\n 'Mus musculus',\n 'Rattus norvegicus',\n 'Felis catus',\n 'Bos taurus',\n 'Ovis aries',\n 'Canis lupus familiaris',\n 'Sus scrofa',\n 'Ornithorhynchus anatinus',\n 'Equus caballus',\n 'Pan troglodytes',\n 'Macaca mulatta',\n 'Monodelphis domestica',\n 'Loxodonta africana',\n 'Sorex araneus',\n 'Erinaceus europaeus',\n 'Cavia porcellus',\n 'Echinops telfairi',\n 'Dasypus novemcinctus',\n 'Oryctolagus cuniculus',\n 'Pongo abelii',\n 'Canis lupus dingo',\n 'Papio anubis',\n 'Callithrix jacchus',\n 'Otolemur garnettii',\n 'Ictidomys tridecemlineatus',\n 'Nomascus leucogenys',\n 'Myotis lucifugus',\n 'Pteropus vampyrus',\n 'Tursiops truncatus',\n 'Microcebus murinus',\n 'Dipodomys ordii',\n 'Macaca fascicularis',\n 'Ochotona princeps',\n 'Bubalus bubalis',\n 'Galeopterus variegatus',\n 'Vicugna pacos',\n 'Gorilla gorilla gorilla',\n 'Ailuropoda melanoleuca',\n 'Cricetulus griseus',\n 'Sarcophilus harrisii',\n 'Mustela putorius furo',\n 'Bos indicus',\n 'Odocoileus virginianus texanus',\n 'Saimiri boliviensis boliviensis',\n 'Heterocephalus glaber',\n 'Equus asinus',\n 'Vombatus ursinus',\n 'Eumetopias jubatus',\n 'Rousettus aegyptiacus',\n 'Rhinopithecus roxellana',\n 'Vulpes vulpes',\n 'Neomonachus schauinslandi',\n 'Callorhinus ursinus',\n 'Enhydra lutris kenyoni',\n 'Gulo gulo',\n 'Panthera pardus',\n 'Bison bison bison',\n 'Castor canadensis',\n 'Rhinopithecus bieti',\n 'Chinchilla lanigera',\n 'Leptonychotes weddellii',\n 'Pan paniscus',\n 'Capra hircus',\n 'Camelus dromedarius',\n 'Camelus bactrianus',\n 'Jaculus jaculus',\n 'Balaenoptera acutorostrata scammoni',\n 'Pantholops hodgsonii',\n 'Cervus elaphus hippelaphus',\n 'Panthera tigris altaica',\n 'Microtus ochrogaster',\n 'Condylura cristata',\n 'Peromyscus maniculatus bairdii',\n 'Eptesicus fuscus',\n 'Orycteropus afer afer',\n 'Chrysochloris asiatica',\n 'Octodon degus',\n 'Elephantulus edwardii',\n 'Camelus ferus',\n 'Mesocricetus auratus',\n 'Pteropus alecto',\n 'Puma concolor',\n 'Nannospalax galili',\n 'Tupaia chinensis',\n 'Physeter catodon',\n 'Chlorocebus sabaeus',\n 'Urocitellus parryii',\n 'Delphinapterus leucas',\n 'Macaca nemestrina',\n 'Cercocebus atys',\n 'Zalophus californianus',\n 'Odobenus rosmarus divergens',\n 'Orcinus orca',\n 'Aotus nancymaae',\n 'Acinonyx jubatus',\n 'Myotis davidii',\n 'Lipotes vexillifer',\n 'Hipposideros armiger',\n 'Desmodus rotundus',\n 'Theropithecus gelada',\n 'Fukomys damarensis',\n 'Ursus maritimus',\n 'Myotis brandtii',\n 'Bos mutus',\n 'Phascolarctos cinereus',\n 'Ursus arctos horribilis',\n 'Meriones unguiculatus',\n 'Propithecus coquereli',\n 'Trichechus manatus latirostris',\n 'Ceratotherium simum simum',\n 'Equus przewalskii',\n 'Mus caroli',\n 'Neophocaena asiaeorientalis asiaeorientalis',\n 'Marmota marmota marmota',\n 'Mandrillus leucophaeus',\n 'Colobus angolensis palliatus',\n 'Manis javanica',\n 'Miniopterus natalensis',\n 'Cebus capucinus imitator',\n 'Carlito syrichta',\n 'Mus pahari',\n 'Lagenorhynchus obliquidens',\n 'Piliocolobus tephrosceles',\n 'Bos indicus x Bos taurus',\n 'Marmota flaviventris']"
     },
     "execution_count": 23,
     "metadata": {},
     "output_type": "execute_result"
    }
   ],
   "source": [
    "# According to https://pandas.pydata.org/docs/reference/api/pandas.Series.unique.html\n",
    "# After filtering, and selecting the species column, since columns are the\n",
    "# Series data structure, it has a function call `unique()` which will return\n",
    "# the unique/distinct values in the 20k gene mammals species Series data\n",
    "# structure, no repeats\n",
    "#\n",
    "# The `tolist()` function was suggested by my IDE (JetBrains' DataSpell)\n",
    "mammals_genes20k[\"species\"].unique().tolist()"
   ],
   "metadata": {
    "id": "hmDqV-67J8Ky",
    "ExecuteTime": {
     "end_time": "2024-02-13T22:40:15.374630600Z",
     "start_time": "2024-02-13T22:40:15.326000900Z"
    }
   },
   "execution_count": 23
  },
  {
   "cell_type": "markdown",
   "metadata": {
    "id": "rGumzDISJ8Kz"
   },
   "source": [
    "### Q2. Animals are a part of Kingdom. How many records are there for each Class of Animals?"
   ]
  },
  {
   "cell_type": "code",
   "execution_count": 19,
   "metadata": {
    "id": "32JhePXNJ8K0",
    "ExecuteTime": {
     "end_time": "2024-02-13T22:39:31.665956600Z",
     "start_time": "2024-02-13T22:39:31.506447700Z"
    }
   },
   "outputs": [
    {
     "data": {
      "text/plain": "class\nAmphibians         7\nBirds            172\nFishes           282\nFlatworms         47\nInsects          602\nMammals          658\nOther Animals    210\nReptiles          41\nRoundworms       162\ndtype: int64"
     },
     "execution_count": 19,
     "metadata": {},
     "output_type": "execute_result"
    }
   ],
   "source": [
    "# According to Jones (2020) on page 180, the function `groupby()` for the dataframe\n",
    "# data structure to group rows by a particular column. It will return a\n",
    "# DataFrameGroupBy object. With that object we can invoke the `size` function to\n",
    "# count the number of rows in each group.\n",
    "euk[(euk[\"kingdom\"] == \"Animals\")].groupby(euk[\"class\"]).size()"
   ]
  },
  {
   "cell_type": "markdown",
   "metadata": {
    "id": "CVl99HmAJ8K0"
   },
   "source": [
    "### Q3. Animals are a part of Kingdom. How many unique Species are there for each Class of Animals?"
   ]
  },
  {
   "cell_type": "code",
   "execution_count": 20,
   "metadata": {
    "id": "k21_L0DxJ8K1",
    "ExecuteTime": {
     "end_time": "2024-02-13T22:39:31.721135700Z",
     "start_time": "2024-02-13T22:39:31.541481400Z"
    }
   },
   "outputs": [
    {
     "data": {
      "text/plain": "class\nAmphibians         6\nBirds            144\nFishes           218\nFlatworms         34\nInsects          402\nMammals          313\nOther Animals    171\nReptiles          38\nRoundworms       116\nName: species, dtype: int64"
     },
     "execution_count": 20,
     "metadata": {},
     "output_type": "execute_result"
    }
   ],
   "source": [
    "# According to https://saturncloud.io/blog/how-to-extract-column-values-based-on-another-column-in-pandas/#method-3-using-the-groupby-method\n",
    "# and https://pandas.pydata.org/docs/reference/api/pandas.DataFrame.groupby.html\n",
    "# DataFrame data structure has a `groupby()` function to group by one or more\n",
    "# columns and extract specific data based on another column/series.\n",
    "#\n",
    "# Using the `value_counts()` function to get the count for each distinct species\n",
    "euk[euk[\"kingdom\"] == \"Animals\"].groupby(euk[\"class\"])[\"species\"].nunique()"
   ]
  },
  {
   "cell_type": "markdown",
   "metadata": {
    "id": "GM7drElwJ8K2"
   },
   "source": [
    "### Q4. What are the unique scientific names of Mammals with the genus name Macaca?\n",
    "*Recall: the scientific name starts with genus followed by a space and then the species name. Example: Homo sapiens.*"
   ]
  },
  {
   "cell_type": "code",
   "execution_count": 21,
   "metadata": {
    "id": "p201a7g3J8K2",
    "ExecuteTime": {
     "end_time": "2024-02-13T22:39:31.722274900Z",
     "start_time": "2024-02-13T22:39:31.570672Z"
    }
   },
   "outputs": [
    {
     "ename": "AttributeError",
     "evalue": "'int' object has no attribute 'tolist'",
     "output_type": "error",
     "traceback": [
      "\u001b[1;31m---------------------------------------------------------------------------\u001b[0m",
      "\u001b[1;31mAttributeError\u001b[0m                            Traceback (most recent call last)",
      "Cell \u001b[1;32mIn[21], line 5\u001b[0m\n\u001b[0;32m      1\u001b[0m \u001b[38;5;66;03m# According to Jones (2020), there is a boolean expression for selecting things\u001b[39;00m\n\u001b[0;32m      2\u001b[0m \u001b[38;5;66;03m# based on specific string properties: `.str.startswith(\"*string*\")`\u001b[39;00m\n\u001b[0;32m      3\u001b[0m \u001b[38;5;66;03m#\u001b[39;00m\n\u001b[0;32m      4\u001b[0m \u001b[38;5;66;03m# Using the `unique().tolist()` for better output\u001b[39;00m\n\u001b[1;32m----> 5\u001b[0m \u001b[43meuk\u001b[49m\u001b[43m[\u001b[49m\u001b[43m(\u001b[49m\u001b[43meuk\u001b[49m\u001b[43m[\u001b[49m\u001b[38;5;124;43m\"\u001b[39;49m\u001b[38;5;124;43mclass\u001b[39;49m\u001b[38;5;124;43m\"\u001b[39;49m\u001b[43m]\u001b[49m\u001b[43m \u001b[49m\u001b[38;5;241;43m==\u001b[39;49m\u001b[43m \u001b[49m\u001b[38;5;124;43m\"\u001b[39;49m\u001b[38;5;124;43mMammals\u001b[39;49m\u001b[38;5;124;43m\"\u001b[39;49m\u001b[43m)\u001b[49m\u001b[43m \u001b[49m\u001b[38;5;241;43m&\u001b[39;49m\u001b[43m \u001b[49m\u001b[43m(\u001b[49m\u001b[43meuk\u001b[49m\u001b[43m[\u001b[49m\u001b[38;5;124;43m\"\u001b[39;49m\u001b[38;5;124;43mspecies\u001b[39;49m\u001b[38;5;124;43m\"\u001b[39;49m\u001b[43m]\u001b[49m\u001b[38;5;241;43m.\u001b[39;49m\u001b[43mstr\u001b[49m\u001b[38;5;241;43m.\u001b[39;49m\u001b[43mstartswith\u001b[49m\u001b[43m(\u001b[49m\u001b[38;5;124;43m\"\u001b[39;49m\u001b[38;5;124;43mMacaca\u001b[39;49m\u001b[38;5;124;43m\"\u001b[39;49m\u001b[43m)\u001b[49m\u001b[43m)\u001b[49m\u001b[43m]\u001b[49m\u001b[43m[\u001b[49m\n\u001b[0;32m      6\u001b[0m \u001b[43m    \u001b[49m\u001b[38;5;124;43m\"\u001b[39;49m\u001b[38;5;124;43mspecies\u001b[39;49m\u001b[38;5;124;43m\"\u001b[39;49m\n\u001b[0;32m      7\u001b[0m \u001b[43m]\u001b[49m\u001b[38;5;241;43m.\u001b[39;49m\u001b[43mnunique\u001b[49m\u001b[43m(\u001b[49m\u001b[43m)\u001b[49m\u001b[38;5;241;43m.\u001b[39;49m\u001b[43mtolist\u001b[49m()\n",
      "\u001b[1;31mAttributeError\u001b[0m: 'int' object has no attribute 'tolist'"
     ]
    }
   ],
   "source": [
    "# According to Jones (2020), there is a boolean expression for selecting things\n",
    "# based on specific string properties: `.str.startswith(\"*string*\")`\n",
    "#\n",
    "# Using the `unique().tolist()` for better output\n",
    "euk[(euk[\"class\"] == \"Mammals\") & (euk[\"species\"].str.startswith(\"Macaca\"))][\n",
    "    \"species\"\n",
    "].nunique().tolist()"
   ]
  },
  {
   "cell_type": "markdown",
   "metadata": {
    "id": "E0xOV7Q5J8K3"
   },
   "source": [
    "### Q5. Modify the Species names to only contain the scientific names  and create a new dataframe.\n",
    "\n",
    "Some of the names in the Species column have more than two parts, such as `Emiliania huxleyi CCMP1516`. Create a new column `Species` that contains only the first two parts of name, such as `Emiliania huxleyi`. Combine this new Species column with `Kingdom`, `Class`, `Size (Mb)`, `Number of genes`, and `Number of proteins` and store this new dataframe as `df_species`.\n",
    "\n",
    "Hint: Follow Q3 in Lecture 4 with a little twist. Instead of just getting the first element from the split results, you will get the first two elements using `.str[0:2]` which will give you a list. You can then use `.str.join(\" \")` to change it back to a string."
   ]
  },
  {
   "cell_type": "code",
   "execution_count": null,
   "metadata": {
    "scrolled": true,
    "id": "y5fftb5nJ8K3",
    "ExecuteTime": {
     "start_time": "2024-02-13T22:39:31.618587900Z"
    }
   },
   "outputs": [],
   "source": [
    "euk[\"Species\"] = euk[\"species\"].str.split(\" \").str[0:2].str.join(\" \")\n",
    "df_species = euk[[\"Species\", \"kingdom\", \"class\", \"size\", \"genes\", \"proteins\"]]\n",
    "df_species"
   ]
  },
  {
   "cell_type": "markdown",
   "metadata": {
    "id": "scEqHzdtJ8K4"
   },
   "source": [
    "### Q6. Create a pie plot using pandas to show the number of unique Species in each Class of Animals using the new dataframe you created in Q5\n",
    "Hint: First, create a new dataframe that contains the number of unique Species and the index is the corresponding Animals Class. Then, use that dataframe to plot the pie plot.\n",
    "[Check out this documentation](https://pandas.pydata.org/pandas-docs/stable/reference/api/pandas.DataFrame.plot.pie.html)"
   ]
  },
  {
   "cell_type": "code",
   "execution_count": null,
   "metadata": {
    "id": "J68Euje-J8K5",
    "ExecuteTime": {
     "start_time": "2024-02-13T22:39:31.626367200Z"
    }
   },
   "outputs": [],
   "source": [
    "# Create a new dataframe that contains the number of unique Species and\n",
    "# the index is the corresponding Animals Class.\n",
    "\n",
    "unique_animal_species = (\n",
    "    df_species[df_species[\"kingdom\"] == \"Animals\"]\n",
    "    .groupby([\"class\"])[\"Species\"]\n",
    "    .nunique()\n",
    ")\n",
    "\n",
    "unique_animal_species"
   ]
  },
  {
   "cell_type": "code",
   "execution_count": null,
   "metadata": {
    "id": "E6z0SAooJ8K5",
    "ExecuteTime": {
     "start_time": "2024-02-13T22:39:31.629628400Z"
    }
   },
   "outputs": [],
   "source": [
    "# Create a panda pie plot using the dataframe above\n",
    "unique_animal_species.plot.pie(\n",
    "    y=\"Species\",\n",
    "    title=\"Unique Animal Species\",\n",
    "    autopct=\"%1.1f%%\",\n",
    "    explode=(0.07, 0.07, 0.07, 0.07, 0.07, 0.07, 0.07, 0.07, 0.07),\n",
    "    startangle=70,\n",
    "    pctdistance=0.75,\n",
    "    # labeldistance=.6\n",
    "    # shadow=True\n",
    "    # legend=True\n",
    "    # hatch=['**O', 'oO', 'O.O', '.||.']\n",
    ")"
   ]
  },
  {
   "cell_type": "markdown",
   "source": [
    "## Reference(s)\n",
    "\n",
    "Jones, M. (2020). Biological data exploration with Python, pandas and seaborn. Independently published."
   ],
   "metadata": {
    "collapsed": false
   }
  },
  {
   "cell_type": "code",
   "outputs": [],
   "source": [],
   "metadata": {
    "collapsed": false,
    "ExecuteTime": {
     "start_time": "2024-02-13T22:39:31.632626Z"
    }
   }
  }
 ],
 "metadata": {
  "kernelspec": {
   "display_name": "Python 3",
   "language": "python",
   "name": "python3"
  },
  "language_info": {
   "codemirror_mode": {
    "name": "ipython",
    "version": 3
   },
   "file_extension": ".py",
   "mimetype": "text/x-python",
   "name": "python",
   "nbconvert_exporter": "python",
   "pygments_lexer": "ipython3",
   "version": "3.7.6"
  },
  "colab": {
   "provenance": [],
   "collapsed_sections": []
  }
 },
 "nbformat": 4,
 "nbformat_minor": 0
}
