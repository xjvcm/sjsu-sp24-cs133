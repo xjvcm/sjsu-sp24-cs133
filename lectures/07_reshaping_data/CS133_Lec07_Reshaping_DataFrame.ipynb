{
 "cells": [
  {
   "cell_type": "markdown",
   "metadata": {
    "id": "sJ7GuB4l1joI"
   },
   "source": [
    "# Reshaping Pandas DataFrames\n",
    "\n",
    "![](https://cdn.hackersandslackers.com/2020/11/_retina/reshapingpandas-1@2x.jpg)\n",
    "\n",
    "## Wide / summary form data \n",
    "In real data, we might have a large number of measurements on each line. And the data are presented in wide form (aka summary form) like the one below - each row presents a summary of one year with 12 separate measurements.\n"
   ]
  },
  {
   "cell_type": "code",
   "execution_count": 1,
   "metadata": {
    "colab": {
     "base_uri": "https://localhost:8080/",
     "height": 206
    },
    "id": "BBFdWzzD1joL",
    "executionInfo": {
     "status": "ok",
     "timestamp": 1664306403970,
     "user_tz": 420,
     "elapsed": 831,
     "user": {
      "displayName": "Wendy Lee",
      "userId": "00975543233646854828"
     }
    },
    "outputId": "c255ca1a-5125-4926-b2ef-5d551c2a620e",
    "ExecuteTime": {
     "end_time": "2024-02-21T17:48:22.795267Z",
     "start_time": "2024-02-21T17:48:22.512306Z"
    }
   },
   "outputs": [
    {
     "data": {
      "text/plain": "   Year  January  February  March  April    May    June   July  August  \\\n0  1960    479.0     480.0  339.0  124.0  456.0   428.0  672.0   608.0   \n1  1961    644.0     551.0   57.0  508.0  172.0   292.0  262.0   476.0   \n2  1962    761.0     126.0  358.0  418.0  296.0    61.0  828.0   529.0   \n3  1963    129.0      66.0  682.0  521.0  337.0   483.0  281.0   534.0   \n4  1964    178.0     168.0  951.0  735.0  461.0  1101.0  202.0   212.0   \n\n   September  October  November  December  \n0      753.0   1555.0     895.0     566.0  \n1      648.0    568.0     525.0     886.0  \n2      884.0    376.0     419.0     528.0  \n3      490.0    347.0    1190.0     165.0  \n4      111.0    292.0     296.0     299.0  ",
      "text/html": "<div>\n<style scoped>\n    .dataframe tbody tr th:only-of-type {\n        vertical-align: middle;\n    }\n\n    .dataframe tbody tr th {\n        vertical-align: top;\n    }\n\n    .dataframe thead th {\n        text-align: right;\n    }\n</style>\n<table border=\"1\" class=\"dataframe\">\n  <thead>\n    <tr style=\"text-align: right;\">\n      <th></th>\n      <th>Year</th>\n      <th>January</th>\n      <th>February</th>\n      <th>March</th>\n      <th>April</th>\n      <th>May</th>\n      <th>June</th>\n      <th>July</th>\n      <th>August</th>\n      <th>September</th>\n      <th>October</th>\n      <th>November</th>\n      <th>December</th>\n    </tr>\n  </thead>\n  <tbody>\n    <tr>\n      <th>0</th>\n      <td>1960</td>\n      <td>479.0</td>\n      <td>480.0</td>\n      <td>339.0</td>\n      <td>124.0</td>\n      <td>456.0</td>\n      <td>428.0</td>\n      <td>672.0</td>\n      <td>608.0</td>\n      <td>753.0</td>\n      <td>1555.0</td>\n      <td>895.0</td>\n      <td>566.0</td>\n    </tr>\n    <tr>\n      <th>1</th>\n      <td>1961</td>\n      <td>644.0</td>\n      <td>551.0</td>\n      <td>57.0</td>\n      <td>508.0</td>\n      <td>172.0</td>\n      <td>292.0</td>\n      <td>262.0</td>\n      <td>476.0</td>\n      <td>648.0</td>\n      <td>568.0</td>\n      <td>525.0</td>\n      <td>886.0</td>\n    </tr>\n    <tr>\n      <th>2</th>\n      <td>1962</td>\n      <td>761.0</td>\n      <td>126.0</td>\n      <td>358.0</td>\n      <td>418.0</td>\n      <td>296.0</td>\n      <td>61.0</td>\n      <td>828.0</td>\n      <td>529.0</td>\n      <td>884.0</td>\n      <td>376.0</td>\n      <td>419.0</td>\n      <td>528.0</td>\n    </tr>\n    <tr>\n      <th>3</th>\n      <td>1963</td>\n      <td>129.0</td>\n      <td>66.0</td>\n      <td>682.0</td>\n      <td>521.0</td>\n      <td>337.0</td>\n      <td>483.0</td>\n      <td>281.0</td>\n      <td>534.0</td>\n      <td>490.0</td>\n      <td>347.0</td>\n      <td>1190.0</td>\n      <td>165.0</td>\n    </tr>\n    <tr>\n      <th>4</th>\n      <td>1964</td>\n      <td>178.0</td>\n      <td>168.0</td>\n      <td>951.0</td>\n      <td>735.0</td>\n      <td>461.0</td>\n      <td>1101.0</td>\n      <td>202.0</td>\n      <td>212.0</td>\n      <td>111.0</td>\n      <td>292.0</td>\n      <td>296.0</td>\n      <td>299.0</td>\n    </tr>\n  </tbody>\n</table>\n</div>"
     },
     "execution_count": 1,
     "metadata": {},
     "output_type": "execute_result"
    }
   ],
   "source": [
    "import pandas as pd\n",
    "\n",
    "london_rain = pd.read_csv(\"https://raw.githubusercontent.com/csbfx/advpy122-data/master/london_rainfall.csv\")\n",
    "london_rain.head()"
   ]
  },
  {
   "cell_type": "code",
   "outputs": [
    {
     "name": "stdout",
     "output_type": "stream",
     "text": [
      "<class 'pandas.core.frame.DataFrame'>\n",
      "RangeIndex: 60 entries, 0 to 59\n",
      "Data columns (total 13 columns):\n",
      " #   Column     Non-Null Count  Dtype  \n",
      "---  ------     --------------  -----  \n",
      " 0   Year       60 non-null     int64  \n",
      " 1   January    60 non-null     float64\n",
      " 2   February   60 non-null     float64\n",
      " 3   March      60 non-null     float64\n",
      " 4   April      60 non-null     float64\n",
      " 5   May        60 non-null     float64\n",
      " 6   June       60 non-null     float64\n",
      " 7   July       60 non-null     float64\n",
      " 8   August     59 non-null     float64\n",
      " 9   September  59 non-null     float64\n",
      " 10  October    59 non-null     float64\n",
      " 11  November   59 non-null     float64\n",
      " 12  December   59 non-null     float64\n",
      "dtypes: float64(12), int64(1)\n",
      "memory usage: 6.2 KB\n"
     ]
    }
   ],
   "source": [
    "london_rain.info()"
   ],
   "metadata": {
    "collapsed": false,
    "ExecuteTime": {
     "end_time": "2024-02-21T17:48:50.111263Z",
     "start_time": "2024-02-21T17:48:50.083266Z"
    }
   },
   "execution_count": 2
  },
  {
   "cell_type": "markdown",
   "metadata": {
    "id": "BLzjm7bh1joN"
   },
   "source": [
    "Data in wide form makes it easy to answer some questions about the data. For example, the difference in rainfall between January and June:"
   ]
  },
  {
   "cell_type": "code",
   "execution_count": 4,
   "metadata": {
    "id": "P7sMeq5S1joO",
    "outputId": "a5a35e49-72c5-472d-e4b0-2e6e3780f9b9",
    "colab": {
     "base_uri": "https://localhost:8080/"
    },
    "executionInfo": {
     "status": "ok",
     "timestamp": 1664306403971,
     "user_tz": 420,
     "elapsed": 7,
     "user": {
      "displayName": "Wendy Lee",
      "userId": "00975543233646854828"
     }
    },
    "ExecuteTime": {
     "end_time": "2024-02-21T17:49:44.817568Z",
     "start_time": "2024-02-21T17:49:44.796568Z"
    }
   },
   "outputs": [
    {
     "data": {
      "text/plain": "0      -51.0\n1     -352.0\n2     -700.0\n3      354.0\n4      923.0\n5      116.0\n6      341.0\n7      146.0\n8     -102.0\n9     -451.0\n10      24.0\n11     572.0\n12    -399.0\n13     555.0\n14     141.0\n15    -691.0\n16     -76.0\n17    -111.0\n18    -307.0\n19    -223.0\n20     765.0\n21      68.0\n22     466.0\n23    -352.0\n24    -372.0\n25     476.0\n26    -884.0\n27     588.0\n28    -626.0\n29      95.0\n30    -316.0\n31     189.0\n32      99.0\n33    -192.0\n34    -630.0\n35   -1026.0\n36    -295.0\n37     693.0\n38     210.0\n39     295.0\n40      27.0\n41    -361.0\n42     232.0\n43    -260.0\n44    -315.0\n45     110.0\n46     -50.0\n47      78.0\n48    -234.0\n49    -384.0\n50    -394.0\n51      72.0\n52     764.0\n53    -385.0\n54   -1216.0\n55    -512.0\n56     186.0\n57    -138.0\n58    -570.0\n59     520.0\ndtype: float64"
     },
     "execution_count": 4,
     "metadata": {},
     "output_type": "execute_result"
    }
   ],
   "source": [
    "london_rain[\"June\"] - london_rain[\"January\"]"
   ]
  },
  {
   "cell_type": "markdown",
   "metadata": {
    "id": "zH_F4ezw1joO"
   },
   "source": [
    "We can store that as a new column in the dataframe and visualize it"
   ]
  },
  {
   "cell_type": "code",
   "execution_count": 5,
   "metadata": {
    "colab": {
     "base_uri": "https://localhost:8080/",
     "height": 206
    },
    "id": "AjTLnYkO1joP",
    "executionInfo": {
     "status": "ok",
     "timestamp": 1663698179231,
     "user_tz": 420,
     "elapsed": 7,
     "user": {
      "displayName": "Wendy Lee",
      "userId": "00975543233646854828"
     }
    },
    "outputId": "4bed9a20-1054-4b25-8291-f82ed64dfc8c",
    "ExecuteTime": {
     "end_time": "2024-02-21T17:49:46.636192Z",
     "start_time": "2024-02-21T17:49:46.606190Z"
    }
   },
   "outputs": [
    {
     "data": {
      "text/plain": "   Year  January  February  March  April    May    June   July  August  \\\n0  1960    479.0     480.0  339.0  124.0  456.0   428.0  672.0   608.0   \n1  1961    644.0     551.0   57.0  508.0  172.0   292.0  262.0   476.0   \n2  1962    761.0     126.0  358.0  418.0  296.0    61.0  828.0   529.0   \n3  1963    129.0      66.0  682.0  521.0  337.0   483.0  281.0   534.0   \n4  1964    178.0     168.0  951.0  735.0  461.0  1101.0  202.0   212.0   \n\n   September  October  November  December  January -> June difference  \n0      753.0   1555.0     895.0     566.0                       -51.0  \n1      648.0    568.0     525.0     886.0                      -352.0  \n2      884.0    376.0     419.0     528.0                      -700.0  \n3      490.0    347.0    1190.0     165.0                       354.0  \n4      111.0    292.0     296.0     299.0                       923.0  ",
      "text/html": "<div>\n<style scoped>\n    .dataframe tbody tr th:only-of-type {\n        vertical-align: middle;\n    }\n\n    .dataframe tbody tr th {\n        vertical-align: top;\n    }\n\n    .dataframe thead th {\n        text-align: right;\n    }\n</style>\n<table border=\"1\" class=\"dataframe\">\n  <thead>\n    <tr style=\"text-align: right;\">\n      <th></th>\n      <th>Year</th>\n      <th>January</th>\n      <th>February</th>\n      <th>March</th>\n      <th>April</th>\n      <th>May</th>\n      <th>June</th>\n      <th>July</th>\n      <th>August</th>\n      <th>September</th>\n      <th>October</th>\n      <th>November</th>\n      <th>December</th>\n      <th>January -&gt; June difference</th>\n    </tr>\n  </thead>\n  <tbody>\n    <tr>\n      <th>0</th>\n      <td>1960</td>\n      <td>479.0</td>\n      <td>480.0</td>\n      <td>339.0</td>\n      <td>124.0</td>\n      <td>456.0</td>\n      <td>428.0</td>\n      <td>672.0</td>\n      <td>608.0</td>\n      <td>753.0</td>\n      <td>1555.0</td>\n      <td>895.0</td>\n      <td>566.0</td>\n      <td>-51.0</td>\n    </tr>\n    <tr>\n      <th>1</th>\n      <td>1961</td>\n      <td>644.0</td>\n      <td>551.0</td>\n      <td>57.0</td>\n      <td>508.0</td>\n      <td>172.0</td>\n      <td>292.0</td>\n      <td>262.0</td>\n      <td>476.0</td>\n      <td>648.0</td>\n      <td>568.0</td>\n      <td>525.0</td>\n      <td>886.0</td>\n      <td>-352.0</td>\n    </tr>\n    <tr>\n      <th>2</th>\n      <td>1962</td>\n      <td>761.0</td>\n      <td>126.0</td>\n      <td>358.0</td>\n      <td>418.0</td>\n      <td>296.0</td>\n      <td>61.0</td>\n      <td>828.0</td>\n      <td>529.0</td>\n      <td>884.0</td>\n      <td>376.0</td>\n      <td>419.0</td>\n      <td>528.0</td>\n      <td>-700.0</td>\n    </tr>\n    <tr>\n      <th>3</th>\n      <td>1963</td>\n      <td>129.0</td>\n      <td>66.0</td>\n      <td>682.0</td>\n      <td>521.0</td>\n      <td>337.0</td>\n      <td>483.0</td>\n      <td>281.0</td>\n      <td>534.0</td>\n      <td>490.0</td>\n      <td>347.0</td>\n      <td>1190.0</td>\n      <td>165.0</td>\n      <td>354.0</td>\n    </tr>\n    <tr>\n      <th>4</th>\n      <td>1964</td>\n      <td>178.0</td>\n      <td>168.0</td>\n      <td>951.0</td>\n      <td>735.0</td>\n      <td>461.0</td>\n      <td>1101.0</td>\n      <td>202.0</td>\n      <td>212.0</td>\n      <td>111.0</td>\n      <td>292.0</td>\n      <td>296.0</td>\n      <td>299.0</td>\n      <td>923.0</td>\n    </tr>\n  </tbody>\n</table>\n</div>"
     },
     "execution_count": 5,
     "metadata": {},
     "output_type": "execute_result"
    }
   ],
   "source": [
    "london_rain[\"January -> June difference\"] = (\n",
    "        london_rain[\"June\"] - london_rain[\"January\"]\n",
    ")\n",
    "london_rain.head()"
   ]
  },
  {
   "cell_type": "code",
   "execution_count": 6,
   "metadata": {
    "colab": {
     "base_uri": "https://localhost:8080/",
     "height": 400
    },
    "id": "mI7jMu2o1joP",
    "executionInfo": {
     "status": "ok",
     "timestamp": 1663698180196,
     "user_tz": 420,
     "elapsed": 971,
     "user": {
      "displayName": "Wendy Lee",
      "userId": "00975543233646854828"
     }
    },
    "outputId": "8fa85cd3-ec27-4a16-d425-fca0f6a4f047",
    "ExecuteTime": {
     "end_time": "2024-02-21T17:50:00.851613Z",
     "start_time": "2024-02-21T17:50:00.076607Z"
    }
   },
   "outputs": [
    {
     "data": {
      "text/plain": "<Figure size 500x500 with 1 Axes>",
      "image/png": "[encoded data removed]"
     },
     "metadata": {},
     "output_type": "display_data"
    }
   ],
   "source": [
    "import seaborn as sns\n",
    "import matplotlib.pyplot as plt\n",
    "\n",
    "sns.displot(london_rain[\"January -> June difference\"], color=\"purple\")\n",
    "plt.title(\n",
    "    \"\"\"Distribution of difference in total rainfall \n",
    "    between January and June in London\"\"\");"
   ]
  },
  {
   "cell_type": "markdown",
   "metadata": {
    "id": "oh2Ejq6C1joQ"
   },
   "source": [
    "However, many other visualizations require the data to be in long-form or tidy form. With data in summary form, there is no way to use month as a category, so we can't draw charts that are colored by month, or draw a boxplot with month on the categorical axis. "
   ]
  },
  {
   "cell_type": "markdown",
   "metadata": {
    "id": "3rwzhiXo1joQ"
   },
   "source": [
    "## Reshape data from wide (summary) to long (tidy) form using `melt`"
   ]
  },
  {
   "cell_type": "code",
   "execution_count": 7,
   "metadata": {
    "colab": {
     "base_uri": "https://localhost:8080/"
    },
    "id": "wgxD5tOE1joR",
    "executionInfo": {
     "status": "ok",
     "timestamp": 1664306406522,
     "user_tz": 420,
     "elapsed": 186,
     "user": {
      "displayName": "Wendy Lee",
      "userId": "00975543233646854828"
     }
    },
    "outputId": "98bd7b0d-e8a5-48ff-95f0-bba58fa50fc5",
    "ExecuteTime": {
     "end_time": "2024-02-21T17:50:07.102428Z",
     "start_time": "2024-02-21T17:50:07.025429Z"
    }
   },
   "outputs": [
    {
     "data": {
      "text/plain": "(60, 13)"
     },
     "execution_count": 7,
     "metadata": {},
     "output_type": "execute_result"
    }
   ],
   "source": [
    "london_rain = pd.read_csv(\"https://raw.githubusercontent.com/csbfx/advpy122-data/master/london_rainfall.csv\")\n",
    "london_rain.shape"
   ]
  },
  {
   "cell_type": "code",
   "execution_count": 8,
   "metadata": {
    "colab": {
     "base_uri": "https://localhost:8080/",
     "height": 423
    },
    "id": "hKp1jfYu1joS",
    "executionInfo": {
     "status": "ok",
     "timestamp": 1664306407538,
     "user_tz": 420,
     "elapsed": 247,
     "user": {
      "displayName": "Wendy Lee",
      "userId": "00975543233646854828"
     }
    },
    "outputId": "2b6e5618-95ab-4f38-ea7c-fa708e3a29ae",
    "ExecuteTime": {
     "end_time": "2024-02-21T17:50:55.888176Z",
     "start_time": "2024-02-21T17:50:55.855180Z"
    }
   },
   "outputs": [
    {
     "data": {
      "text/plain": "     Year     Month  Rainfall (mm)\n0    1960   January          479.0\n1    1961   January          644.0\n2    1962   January          761.0\n3    1963   January          129.0\n4    1964   January          178.0\n..    ...       ...            ...\n715  2015  December          394.0\n716  2016  December          104.0\n717  2017  December          812.0\n718  2018  December          664.0\n719  2019  December            NaN\n\n[720 rows x 3 columns]",
      "text/html": "<div>\n<style scoped>\n    .dataframe tbody tr th:only-of-type {\n        vertical-align: middle;\n    }\n\n    .dataframe tbody tr th {\n        vertical-align: top;\n    }\n\n    .dataframe thead th {\n        text-align: right;\n    }\n</style>\n<table border=\"1\" class=\"dataframe\">\n  <thead>\n    <tr style=\"text-align: right;\">\n      <th></th>\n      <th>Year</th>\n      <th>Month</th>\n      <th>Rainfall (mm)</th>\n    </tr>\n  </thead>\n  <tbody>\n    <tr>\n      <th>0</th>\n      <td>1960</td>\n      <td>January</td>\n      <td>479.0</td>\n    </tr>\n    <tr>\n      <th>1</th>\n      <td>1961</td>\n      <td>January</td>\n      <td>644.0</td>\n    </tr>\n    <tr>\n      <th>2</th>\n      <td>1962</td>\n      <td>January</td>\n      <td>761.0</td>\n    </tr>\n    <tr>\n      <th>3</th>\n      <td>1963</td>\n      <td>January</td>\n      <td>129.0</td>\n    </tr>\n    <tr>\n      <th>4</th>\n      <td>1964</td>\n      <td>January</td>\n      <td>178.0</td>\n    </tr>\n    <tr>\n      <th>...</th>\n      <td>...</td>\n      <td>...</td>\n      <td>...</td>\n    </tr>\n    <tr>\n      <th>715</th>\n      <td>2015</td>\n      <td>December</td>\n      <td>394.0</td>\n    </tr>\n    <tr>\n      <th>716</th>\n      <td>2016</td>\n      <td>December</td>\n      <td>104.0</td>\n    </tr>\n    <tr>\n      <th>717</th>\n      <td>2017</td>\n      <td>December</td>\n      <td>812.0</td>\n    </tr>\n    <tr>\n      <th>718</th>\n      <td>2018</td>\n      <td>December</td>\n      <td>664.0</td>\n    </tr>\n    <tr>\n      <th>719</th>\n      <td>2019</td>\n      <td>December</td>\n      <td>NaN</td>\n    </tr>\n  </tbody>\n</table>\n<p>720 rows × 3 columns</p>\n</div>"
     },
     "execution_count": 8,
     "metadata": {},
     "output_type": "execute_result"
    }
   ],
   "source": [
    "tidy_rain = london_rain.melt(\n",
    "    id_vars=['Year'],  # columns that you want to keep unchanged\n",
    "    var_name=\"Month\",  # header for the summary columns\n",
    "    value_name=\"Rainfall (mm)\"  # header for the values\n",
    ")\n",
    "tidy_rain"
   ]
  },
  {
   "cell_type": "markdown",
   "metadata": {
    "id": "uWCu_eMN1joS"
   },
   "source": [
    "Recall: a tidy dataset stores a unique observation per row. The dataframe `tidy_rain` above is a tidy dataset that has a single measurement per row. \n",
    "\n",
    "Now, we can use the month as a category to create a categorical plot using seaborn."
   ]
  },
  {
   "cell_type": "code",
   "source": [
    "import numpy as np\n",
    "\n",
    "np.sort(london_rain.Year.unique())"
   ],
   "metadata": {
    "colab": {
     "base_uri": "https://localhost:8080/"
    },
    "id": "plGThPhOHXaP",
    "executionInfo": {
     "status": "ok",
     "timestamp": 1663698180197,
     "user_tz": 420,
     "elapsed": 10,
     "user": {
      "displayName": "Wendy Lee",
      "userId": "00975543233646854828"
     }
    },
    "outputId": "50e3544b-bc25-43d8-80cb-db98196bd568",
    "ExecuteTime": {
     "end_time": "2024-02-21T17:55:20.891476Z",
     "start_time": "2024-02-21T17:55:20.878432Z"
    }
   },
   "execution_count": 9,
   "outputs": [
    {
     "data": {
      "text/plain": "array([1960, 1961, 1962, 1963, 1964, 1965, 1966, 1967, 1968, 1969, 1970,\n       1971, 1972, 1973, 1974, 1975, 1976, 1977, 1978, 1979, 1980, 1981,\n       1982, 1983, 1984, 1985, 1986, 1987, 1988, 1989, 1990, 1991, 1992,\n       1993, 1994, 1995, 1996, 1997, 1998, 1999, 2000, 2001, 2002, 2003,\n       2004, 2005, 2006, 2007, 2008, 2009, 2010, 2011, 2012, 2013, 2014,\n       2015, 2016, 2017, 2018, 2019], dtype=int64)"
     },
     "execution_count": 9,
     "metadata": {},
     "output_type": "execute_result"
    }
   ]
  },
  {
   "cell_type": "code",
   "execution_count": 10,
   "metadata": {
    "colab": {
     "base_uri": "https://localhost:8080/",
     "height": 267
    },
    "id": "yHgzFV8s1joS",
    "executionInfo": {
     "status": "ok",
     "timestamp": 1663701828674,
     "user_tz": 420,
     "elapsed": 972,
     "user": {
      "displayName": "Wendy Lee",
      "userId": "00975543233646854828"
     }
    },
    "outputId": "5a503e80-83cf-427c-ae39-ba8302384f31",
    "ExecuteTime": {
     "end_time": "2024-02-21T17:55:32.662503Z",
     "start_time": "2024-02-21T17:55:31.280505Z"
    }
   },
   "outputs": [
    {
     "data": {
      "text/plain": "<Figure size 1061.11x350 with 1 Axes>",
      "image/png": "[encoded data removed]"
     },
     "metadata": {},
     "output_type": "display_data"
    }
   ],
   "source": [
    "g = sns.catplot(\n",
    "    data=tidy_rain,\n",
    "    x=\"Month\",\n",
    "    y=\"Rainfall (mm)\",\n",
    "    kind=\"point\",\n",
    "    aspect=3,\n",
    "    height=3.5\n",
    ")\n",
    "\n",
    "g.fig.suptitle('''Mean total monthly rainfall in London \n",
    "between 1960 and 2019''');"
   ]
  },
  {
   "cell_type": "code",
   "execution_count": 11,
   "metadata": {
    "colab": {
     "base_uri": "https://localhost:8080/",
     "height": 402
    },
    "id": "DkiShD1t1joT",
    "executionInfo": {
     "status": "ok",
     "timestamp": 1663702229380,
     "user_tz": 420,
     "elapsed": 841,
     "user": {
      "displayName": "Wendy Lee",
      "userId": "00975543233646854828"
     }
    },
    "outputId": "40610c1c-6890-4941-eb86-1c8493677976",
    "ExecuteTime": {
     "end_time": "2024-02-21T17:57:17.784289Z",
     "start_time": "2024-02-21T17:57:16.401295Z"
    }
   },
   "outputs": [
    {
     "data": {
      "text/plain": "<Figure size 1011.11x500 with 1 Axes>",
      "image/png": "[encoded data removed]"
     },
     "metadata": {},
     "output_type": "display_data"
    }
   ],
   "source": [
    "g = sns.catplot(\n",
    "    data=tidy_rain,\n",
    "    y=\"Month\",\n",
    "    x=\"Rainfall (mm)\",\n",
    "    kind=\"box\",\n",
    "    aspect=2\n",
    "    #height=6\n",
    ")\n",
    "g.fig.suptitle('''Mean total monthly rainfall in London \n",
    "between 1960 and 2019''', y=1.06);"
   ]
  },
  {
   "cell_type": "markdown",
   "metadata": {
    "id": "E7DqzRyA1joT"
   },
   "source": [
    "In addition to `melt`, pandas also another function called `wide_to_long`. We can use pandas’ `wide_to_long()` to reshape the wide dataframe into long/tall dataframe. Under the hood pandas `wide_to_long()` uses pandas’ `melt` function. However, Pandas’ wide_to_long() is easier to use. Another benefit of using pandas `wide_to_long()` is that we can easily take care of the prefix in the column names."
   ]
  },
  {
   "cell_type": "code",
   "execution_count": 12,
   "metadata": {
    "scrolled": true,
    "colab": {
     "base_uri": "https://localhost:8080/",
     "height": 317
    },
    "id": "A8tOY_rs1joU",
    "executionInfo": {
     "status": "ok",
     "timestamp": 1663702256752,
     "user_tz": 420,
     "elapsed": 318,
     "user": {
      "displayName": "Wendy Lee",
      "userId": "00975543233646854828"
     }
    },
    "outputId": "09abc996-3b37-4e98-c67b-4088cbc86732",
    "ExecuteTime": {
     "end_time": "2024-02-21T17:57:36.704991Z",
     "start_time": "2024-02-21T17:57:36.411992Z"
    }
   },
   "outputs": [
    {
     "data": {
      "text/plain": "  continent       country  gdpPercap_1952  gdpPercap_1957  gdpPercap_1962  \\\n0    Africa       Algeria     2449.008185     3013.976023     2550.816880   \n1    Africa        Angola     3520.610273     3827.940465     4269.276742   \n2    Africa         Benin     1062.752200      959.601080      949.499064   \n3    Africa      Botswana      851.241141      918.232535      983.653976   \n4    Africa  Burkina Faso      543.255241      617.183465      722.512021   \n\n   gdpPercap_1967  gdpPercap_1972  gdpPercap_1977  gdpPercap_1982  \\\n0     3246.991771     4182.663766     4910.416756     5745.160213   \n1     5522.776375     5473.288005     3008.647355     2756.953672   \n2     1035.831411     1085.796879     1029.161251     1277.897616   \n3     1214.709294     2263.611114     3214.857818     4551.142150   \n4      794.826560      854.735976      743.387037      807.198586   \n\n   gdpPercap_1987  ...    pop_1962    pop_1967    pop_1972    pop_1977  \\\n0     5681.358539  ...  11000948.0  12760499.0  14760787.0  17152804.0   \n1     2430.208311  ...   4826015.0   5247469.0   5894858.0   6162675.0   \n2     1225.856010  ...   2151895.0   2427334.0   2761407.0   3168267.0   \n3     6205.883850  ...    512764.0    553541.0    619351.0    781472.0   \n4      912.063142  ...   4919632.0   5127935.0   5433886.0   5889574.0   \n\n     pop_1982    pop_1987    pop_1992    pop_1997  pop_2002  pop_2007  \n0  20033753.0  23254956.0  26298373.0  29072015.0  31287142  33333216  \n1   7016384.0   7874230.0   8735988.0   9875024.0  10866106  12420476  \n2   3641603.0   4243788.0   4981671.0   6066080.0   7026113   8078314  \n3    970347.0   1151184.0   1342614.0   1536536.0   1630347   1639131  \n4   6634596.0   7586551.0   8878303.0  10352843.0  12251209  14326203  \n\n[5 rows x 38 columns]",
      "text/html": "<div>\n<style scoped>\n    .dataframe tbody tr th:only-of-type {\n        vertical-align: middle;\n    }\n\n    .dataframe tbody tr th {\n        vertical-align: top;\n    }\n\n    .dataframe thead th {\n        text-align: right;\n    }\n</style>\n<table border=\"1\" class=\"dataframe\">\n  <thead>\n    <tr style=\"text-align: right;\">\n      <th></th>\n      <th>continent</th>\n      <th>country</th>\n      <th>gdpPercap_1952</th>\n      <th>gdpPercap_1957</th>\n      <th>gdpPercap_1962</th>\n      <th>gdpPercap_1967</th>\n      <th>gdpPercap_1972</th>\n      <th>gdpPercap_1977</th>\n      <th>gdpPercap_1982</th>\n      <th>gdpPercap_1987</th>\n      <th>...</th>\n      <th>pop_1962</th>\n      <th>pop_1967</th>\n      <th>pop_1972</th>\n      <th>pop_1977</th>\n      <th>pop_1982</th>\n      <th>pop_1987</th>\n      <th>pop_1992</th>\n      <th>pop_1997</th>\n      <th>pop_2002</th>\n      <th>pop_2007</th>\n    </tr>\n  </thead>\n  <tbody>\n    <tr>\n      <th>0</th>\n      <td>Africa</td>\n      <td>Algeria</td>\n      <td>2449.008185</td>\n      <td>3013.976023</td>\n      <td>2550.816880</td>\n      <td>3246.991771</td>\n      <td>4182.663766</td>\n      <td>4910.416756</td>\n      <td>5745.160213</td>\n      <td>5681.358539</td>\n      <td>...</td>\n      <td>11000948.0</td>\n      <td>12760499.0</td>\n      <td>14760787.0</td>\n      <td>17152804.0</td>\n      <td>20033753.0</td>\n      <td>23254956.0</td>\n      <td>26298373.0</td>\n      <td>29072015.0</td>\n      <td>31287142</td>\n      <td>33333216</td>\n    </tr>\n    <tr>\n      <th>1</th>\n      <td>Africa</td>\n      <td>Angola</td>\n      <td>3520.610273</td>\n      <td>3827.940465</td>\n      <td>4269.276742</td>\n      <td>5522.776375</td>\n      <td>5473.288005</td>\n      <td>3008.647355</td>\n      <td>2756.953672</td>\n      <td>2430.208311</td>\n      <td>...</td>\n      <td>4826015.0</td>\n      <td>5247469.0</td>\n      <td>5894858.0</td>\n      <td>6162675.0</td>\n      <td>7016384.0</td>\n      <td>7874230.0</td>\n      <td>8735988.0</td>\n      <td>9875024.0</td>\n      <td>10866106</td>\n      <td>12420476</td>\n    </tr>\n    <tr>\n      <th>2</th>\n      <td>Africa</td>\n      <td>Benin</td>\n      <td>1062.752200</td>\n      <td>959.601080</td>\n      <td>949.499064</td>\n      <td>1035.831411</td>\n      <td>1085.796879</td>\n      <td>1029.161251</td>\n      <td>1277.897616</td>\n      <td>1225.856010</td>\n      <td>...</td>\n      <td>2151895.0</td>\n      <td>2427334.0</td>\n      <td>2761407.0</td>\n      <td>3168267.0</td>\n      <td>3641603.0</td>\n      <td>4243788.0</td>\n      <td>4981671.0</td>\n      <td>6066080.0</td>\n      <td>7026113</td>\n      <td>8078314</td>\n    </tr>\n    <tr>\n      <th>3</th>\n      <td>Africa</td>\n      <td>Botswana</td>\n      <td>851.241141</td>\n      <td>918.232535</td>\n      <td>983.653976</td>\n      <td>1214.709294</td>\n      <td>2263.611114</td>\n      <td>3214.857818</td>\n      <td>4551.142150</td>\n      <td>6205.883850</td>\n      <td>...</td>\n      <td>512764.0</td>\n      <td>553541.0</td>\n      <td>619351.0</td>\n      <td>781472.0</td>\n      <td>970347.0</td>\n      <td>1151184.0</td>\n      <td>1342614.0</td>\n      <td>1536536.0</td>\n      <td>1630347</td>\n      <td>1639131</td>\n    </tr>\n    <tr>\n      <th>4</th>\n      <td>Africa</td>\n      <td>Burkina Faso</td>\n      <td>543.255241</td>\n      <td>617.183465</td>\n      <td>722.512021</td>\n      <td>794.826560</td>\n      <td>854.735976</td>\n      <td>743.387037</td>\n      <td>807.198586</td>\n      <td>912.063142</td>\n      <td>...</td>\n      <td>4919632.0</td>\n      <td>5127935.0</td>\n      <td>5433886.0</td>\n      <td>5889574.0</td>\n      <td>6634596.0</td>\n      <td>7586551.0</td>\n      <td>8878303.0</td>\n      <td>10352843.0</td>\n      <td>12251209</td>\n      <td>14326203</td>\n    </tr>\n  </tbody>\n</table>\n<p>5 rows × 38 columns</p>\n</div>"
     },
     "execution_count": 12,
     "metadata": {},
     "output_type": "execute_result"
    }
   ],
   "source": [
    "worldwide = pd.read_csv(\"https://raw.githubusercontent.com/csbfx/advpy122-data/master/worldwide_data.csv\")\n",
    "worldwide.head()"
   ]
  },
  {
   "cell_type": "code",
   "execution_count": 13,
   "metadata": {
    "colab": {
     "base_uri": "https://localhost:8080/"
    },
    "id": "zcQoIKpd1joU",
    "executionInfo": {
     "status": "ok",
     "timestamp": 1663698181803,
     "user_tz": 420,
     "elapsed": 8,
     "user": {
      "displayName": "Wendy Lee",
      "userId": "00975543233646854828"
     }
    },
    "outputId": "67c31a23-55ae-4796-8568-3d5c7ce9bbe8",
    "ExecuteTime": {
     "end_time": "2024-02-21T17:58:38.761582Z",
     "start_time": "2024-02-21T17:58:38.748583Z"
    }
   },
   "outputs": [
    {
     "data": {
      "text/plain": "Index(['continent', 'country', 'gdpPercap_1952', 'gdpPercap_1957',\n       'gdpPercap_1962', 'gdpPercap_1967', 'gdpPercap_1972', 'gdpPercap_1977',\n       'gdpPercap_1982', 'gdpPercap_1987', 'gdpPercap_1992', 'gdpPercap_1997',\n       'gdpPercap_2002', 'gdpPercap_2007', 'lifeExp_1952', 'lifeExp_1957',\n       'lifeExp_1962', 'lifeExp_1967', 'lifeExp_1972', 'lifeExp_1977',\n       'lifeExp_1982', 'lifeExp_1987', 'lifeExp_1992', 'lifeExp_1997',\n       'lifeExp_2002', 'lifeExp_2007', 'pop_1952', 'pop_1957', 'pop_1962',\n       'pop_1967', 'pop_1972', 'pop_1977', 'pop_1982', 'pop_1987', 'pop_1992',\n       'pop_1997', 'pop_2002', 'pop_2007'],\n      dtype='object')"
     },
     "execution_count": 13,
     "metadata": {},
     "output_type": "execute_result"
    }
   ],
   "source": [
    "# examine the columns\n",
    "worldwide.columns"
   ]
  },
  {
   "cell_type": "markdown",
   "source": [
    "We need to specify \"stubnames\" to extract the prefix from column variable names. In our example, `stubnames=['lifeExp','gdpPercap','pop']`. We also need to specify how the column names are separated `sep='_'`. We also need to specify a column that is unique to each row. In our example, `i='country'` is unique to each row. And finally, we need to specify the new variable name we create. In our example `j='year'`."
   ],
   "metadata": {
    "id": "xml7TcDyLCOF"
   }
  },
  {
   "cell_type": "code",
   "execution_count": 16,
   "metadata": {
    "colab": {
     "base_uri": "https://localhost:8080/",
     "height": 455
    },
    "id": "xeW34lG41joV",
    "executionInfo": {
     "status": "ok",
     "timestamp": 1663702641185,
     "user_tz": 420,
     "elapsed": 247,
     "user": {
      "displayName": "Wendy Lee",
      "userId": "00975543233646854828"
     }
    },
    "outputId": "4293209b-bd28-47b8-c001-f3aad0c546d8",
    "ExecuteTime": {
     "end_time": "2024-02-21T18:02:15.960658Z",
     "start_time": "2024-02-21T18:02:15.882660Z"
    }
   },
   "outputs": [
    {
     "data": {
      "text/plain": "                    continent  lifeExp     gdpPercap         pop\ncountry        year                                             \nAlgeria        1952    Africa   43.077   2449.008185   9279525.0\nAngola         1952    Africa   30.015   3520.610273   4232095.0\nBenin          1952    Africa   38.223   1062.752200   1738315.0\nBotswana       1952    Africa   47.622    851.241141    442308.0\nBurkina Faso   1952    Africa   31.975    543.255241   4469979.0\n...                       ...      ...           ...         ...\nSwitzerland    2007    Europe   81.701  37506.419070   7554661.0\nTurkey         2007    Europe   71.777   8458.276384  71158647.0\nUnited Kingdom 2007    Europe   79.425  33203.261280  60776238.0\nAustralia      2007   Oceania   81.235  34435.367440  20434176.0\nNew Zealand    2007   Oceania   80.204  25185.009110   4115771.0\n\n[1704 rows x 4 columns]",
      "text/html": "<div>\n<style scoped>\n    .dataframe tbody tr th:only-of-type {\n        vertical-align: middle;\n    }\n\n    .dataframe tbody tr th {\n        vertical-align: top;\n    }\n\n    .dataframe thead th {\n        text-align: right;\n    }\n</style>\n<table border=\"1\" class=\"dataframe\">\n  <thead>\n    <tr style=\"text-align: right;\">\n      <th></th>\n      <th></th>\n      <th>continent</th>\n      <th>lifeExp</th>\n      <th>gdpPercap</th>\n      <th>pop</th>\n    </tr>\n    <tr>\n      <th>country</th>\n      <th>year</th>\n      <th></th>\n      <th></th>\n      <th></th>\n      <th></th>\n    </tr>\n  </thead>\n  <tbody>\n    <tr>\n      <th>Algeria</th>\n      <th>1952</th>\n      <td>Africa</td>\n      <td>43.077</td>\n      <td>2449.008185</td>\n      <td>9279525.0</td>\n    </tr>\n    <tr>\n      <th>Angola</th>\n      <th>1952</th>\n      <td>Africa</td>\n      <td>30.015</td>\n      <td>3520.610273</td>\n      <td>4232095.0</td>\n    </tr>\n    <tr>\n      <th>Benin</th>\n      <th>1952</th>\n      <td>Africa</td>\n      <td>38.223</td>\n      <td>1062.752200</td>\n      <td>1738315.0</td>\n    </tr>\n    <tr>\n      <th>Botswana</th>\n      <th>1952</th>\n      <td>Africa</td>\n      <td>47.622</td>\n      <td>851.241141</td>\n      <td>442308.0</td>\n    </tr>\n    <tr>\n      <th>Burkina Faso</th>\n      <th>1952</th>\n      <td>Africa</td>\n      <td>31.975</td>\n      <td>543.255241</td>\n      <td>4469979.0</td>\n    </tr>\n    <tr>\n      <th>...</th>\n      <th>...</th>\n      <td>...</td>\n      <td>...</td>\n      <td>...</td>\n      <td>...</td>\n    </tr>\n    <tr>\n      <th>Switzerland</th>\n      <th>2007</th>\n      <td>Europe</td>\n      <td>81.701</td>\n      <td>37506.419070</td>\n      <td>7554661.0</td>\n    </tr>\n    <tr>\n      <th>Turkey</th>\n      <th>2007</th>\n      <td>Europe</td>\n      <td>71.777</td>\n      <td>8458.276384</td>\n      <td>71158647.0</td>\n    </tr>\n    <tr>\n      <th>United Kingdom</th>\n      <th>2007</th>\n      <td>Europe</td>\n      <td>79.425</td>\n      <td>33203.261280</td>\n      <td>60776238.0</td>\n    </tr>\n    <tr>\n      <th>Australia</th>\n      <th>2007</th>\n      <td>Oceania</td>\n      <td>81.235</td>\n      <td>34435.367440</td>\n      <td>20434176.0</td>\n    </tr>\n    <tr>\n      <th>New Zealand</th>\n      <th>2007</th>\n      <td>Oceania</td>\n      <td>80.204</td>\n      <td>25185.009110</td>\n      <td>4115771.0</td>\n    </tr>\n  </tbody>\n</table>\n<p>1704 rows × 4 columns</p>\n</div>"
     },
     "execution_count": 16,
     "metadata": {},
     "output_type": "execute_result"
    }
   ],
   "source": [
    "world_tidy = pd.wide_to_long(worldwide, stubnames=['lifeExp', 'gdpPercap', 'pop'], i='country',\n",
    "                             j='year', sep='_')\n",
    "world_tidy"
   ]
  },
  {
   "cell_type": "markdown",
   "metadata": {
    "id": "2u_ubzGe1joV"
   },
   "source": [
    "## CategoricalDtype"
   ]
  },
  {
   "cell_type": "code",
   "execution_count": 17,
   "metadata": {
    "scrolled": true,
    "colab": {
     "base_uri": "https://localhost:8080/",
     "height": 424
    },
    "id": "dEuDUnsS1joW",
    "executionInfo": {
     "status": "ok",
     "timestamp": 1663703174605,
     "user_tz": 420,
     "elapsed": 665,
     "user": {
      "displayName": "Wendy Lee",
      "userId": "00975543233646854828"
     }
    },
    "outputId": "8d8db385-e21a-4b47-8924-6e3887731abf",
    "ExecuteTime": {
     "end_time": "2024-02-21T18:04:44.463086Z",
     "start_time": "2024-02-21T18:04:43.956631Z"
    }
   },
   "outputs": [
    {
     "data": {
      "text/plain": "         City  Year    Month  Day of year  Day of month  Mean temperature\n0      Berlin  1960  January            1             1               6.4\n1      Berlin  1960  January            2             2               8.1\n2      Berlin  1960  January            3             3               5.4\n3      Berlin  1960  January            4             4               3.9\n4      Berlin  1960  January            5             5               6.0\n...       ...   ...      ...          ...           ...               ...\n63711  London  2018  October          300            27               4.9\n63712  London  2018  October          301            28               7.4\n63713  London  2018  October          302            29               5.8\n63714  London  2018  October          303            30               6.6\n63715  London  2018  October          304            31               7.0\n\n[63716 rows x 6 columns]",
      "text/html": "<div>\n<style scoped>\n    .dataframe tbody tr th:only-of-type {\n        vertical-align: middle;\n    }\n\n    .dataframe tbody tr th {\n        vertical-align: top;\n    }\n\n    .dataframe thead th {\n        text-align: right;\n    }\n</style>\n<table border=\"1\" class=\"dataframe\">\n  <thead>\n    <tr style=\"text-align: right;\">\n      <th></th>\n      <th>City</th>\n      <th>Year</th>\n      <th>Month</th>\n      <th>Day of year</th>\n      <th>Day of month</th>\n      <th>Mean temperature</th>\n    </tr>\n  </thead>\n  <tbody>\n    <tr>\n      <th>0</th>\n      <td>Berlin</td>\n      <td>1960</td>\n      <td>January</td>\n      <td>1</td>\n      <td>1</td>\n      <td>6.4</td>\n    </tr>\n    <tr>\n      <th>1</th>\n      <td>Berlin</td>\n      <td>1960</td>\n      <td>January</td>\n      <td>2</td>\n      <td>2</td>\n      <td>8.1</td>\n    </tr>\n    <tr>\n      <th>2</th>\n      <td>Berlin</td>\n      <td>1960</td>\n      <td>January</td>\n      <td>3</td>\n      <td>3</td>\n      <td>5.4</td>\n    </tr>\n    <tr>\n      <th>3</th>\n      <td>Berlin</td>\n      <td>1960</td>\n      <td>January</td>\n      <td>4</td>\n      <td>4</td>\n      <td>3.9</td>\n    </tr>\n    <tr>\n      <th>4</th>\n      <td>Berlin</td>\n      <td>1960</td>\n      <td>January</td>\n      <td>5</td>\n      <td>5</td>\n      <td>6.0</td>\n    </tr>\n    <tr>\n      <th>...</th>\n      <td>...</td>\n      <td>...</td>\n      <td>...</td>\n      <td>...</td>\n      <td>...</td>\n      <td>...</td>\n    </tr>\n    <tr>\n      <th>63711</th>\n      <td>London</td>\n      <td>2018</td>\n      <td>October</td>\n      <td>300</td>\n      <td>27</td>\n      <td>4.9</td>\n    </tr>\n    <tr>\n      <th>63712</th>\n      <td>London</td>\n      <td>2018</td>\n      <td>October</td>\n      <td>301</td>\n      <td>28</td>\n      <td>7.4</td>\n    </tr>\n    <tr>\n      <th>63713</th>\n      <td>London</td>\n      <td>2018</td>\n      <td>October</td>\n      <td>302</td>\n      <td>29</td>\n      <td>5.8</td>\n    </tr>\n    <tr>\n      <th>63714</th>\n      <td>London</td>\n      <td>2018</td>\n      <td>October</td>\n      <td>303</td>\n      <td>30</td>\n      <td>6.6</td>\n    </tr>\n    <tr>\n      <th>63715</th>\n      <td>London</td>\n      <td>2018</td>\n      <td>October</td>\n      <td>304</td>\n      <td>31</td>\n      <td>7.0</td>\n    </tr>\n  </tbody>\n</table>\n<p>63716 rows × 6 columns</p>\n</div>"
     },
     "execution_count": 17,
     "metadata": {},
     "output_type": "execute_result"
    }
   ],
   "source": [
    "weather = pd.read_csv(\"https://raw.githubusercontent.com/csbfx/advpy122-data/master/weather.csv\")\n",
    "weather"
   ]
  },
  {
   "cell_type": "code",
   "source": [
    "weather.info()"
   ],
   "metadata": {
    "colab": {
     "base_uri": "https://localhost:8080/"
    },
    "id": "1mQgEqIbb-Xf",
    "executionInfo": {
     "status": "ok",
     "timestamp": 1663703185006,
     "user_tz": 420,
     "elapsed": 288,
     "user": {
      "displayName": "Wendy Lee",
      "userId": "00975543233646854828"
     }
    },
    "outputId": "2e8d2637-2f53-4dfb-b393-62f5c2654fa6",
    "ExecuteTime": {
     "end_time": "2024-02-21T18:04:49.311445Z",
     "start_time": "2024-02-21T18:04:49.283447Z"
    }
   },
   "execution_count": 18,
   "outputs": [
    {
     "name": "stdout",
     "output_type": "stream",
     "text": [
      "<class 'pandas.core.frame.DataFrame'>\n",
      "RangeIndex: 63716 entries, 0 to 63715\n",
      "Data columns (total 6 columns):\n",
      " #   Column            Non-Null Count  Dtype  \n",
      "---  ------            --------------  -----  \n",
      " 0   City              63716 non-null  object \n",
      " 1   Year              63716 non-null  int64  \n",
      " 2   Month             63716 non-null  object \n",
      " 3   Day of year       63716 non-null  int64  \n",
      " 4   Day of month      63716 non-null  int64  \n",
      " 5   Mean temperature  63716 non-null  float64\n",
      "dtypes: float64(1), int64(3), object(2)\n",
      "memory usage: 2.9+ MB\n"
     ]
    }
   ]
  },
  {
   "cell_type": "code",
   "source": [],
   "metadata": {
    "id": "w4x_bxlIb9rj",
    "ExecuteTime": {
     "end_time": "2024-02-21T18:04:54.285927Z",
     "start_time": "2024-02-21T18:04:54.271894Z"
    }
   },
   "execution_count": 18,
   "outputs": []
  },
  {
   "cell_type": "code",
   "execution_count": 19,
   "metadata": {
    "colab": {
     "base_uri": "https://localhost:8080/",
     "height": 1000
    },
    "id": "7nJLlMfh1joW",
    "executionInfo": {
     "status": "ok",
     "timestamp": 1663703242161,
     "user_tz": 420,
     "elapsed": 270,
     "user": {
      "displayName": "Wendy Lee",
      "userId": "00975543233646854828"
     }
    },
    "outputId": "b295ab5f-0958-4a79-db14-b74f60a92c2d",
    "ExecuteTime": {
     "end_time": "2024-02-21T18:04:54.763888Z",
     "start_time": "2024-02-21T18:04:54.724888Z"
    }
   },
   "outputs": [
    {
     "data": {
      "text/plain": "         City      Month  Mean temperature\n0      Berlin      April          9.364859\n1      Berlin     August         18.931547\n2      Berlin   December          1.689043\n3      Berlin   February          1.289862\n4      Berlin    January          0.384746\n5      Berlin       July         19.419191\n6      Berlin       June         17.599718\n7      Berlin      March          4.609295\n8      Berlin        May         14.345380\n9      Berlin   November          5.084885\n10     Berlin    October         10.028868\n11     Berlin  September         14.868362\n12  Edinburgh      April          7.819472\n13  Edinburgh     August         14.883135\n14  Edinburgh   December          4.310194\n15  Edinburgh   February          4.164991\n16  Edinburgh    January          3.975806\n17  Edinburgh       July         15.006232\n18  Edinburgh       June         13.400118\n19  Edinburgh      March          5.839445\n20  Edinburgh        May         10.519242\n21  Edinburgh   November          6.277895\n22  Edinburgh    October          9.915563\n23  Edinburgh  September         12.876171\n24     London      April          9.655367\n25     London     August         17.978075\n26     London   December          5.468242\n27     London   February          5.086563\n28     London    January          4.864079\n29     London       July         18.332641\n30     London       June         16.222542\n31     London      March          7.185621\n32     London        May         13.081848\n33     London   November          7.774138\n34     London    October         11.984910\n35     London  September         15.438983",
      "text/html": "<div>\n<style scoped>\n    .dataframe tbody tr th:only-of-type {\n        vertical-align: middle;\n    }\n\n    .dataframe tbody tr th {\n        vertical-align: top;\n    }\n\n    .dataframe thead th {\n        text-align: right;\n    }\n</style>\n<table border=\"1\" class=\"dataframe\">\n  <thead>\n    <tr style=\"text-align: right;\">\n      <th></th>\n      <th>City</th>\n      <th>Month</th>\n      <th>Mean temperature</th>\n    </tr>\n  </thead>\n  <tbody>\n    <tr>\n      <th>0</th>\n      <td>Berlin</td>\n      <td>April</td>\n      <td>9.364859</td>\n    </tr>\n    <tr>\n      <th>1</th>\n      <td>Berlin</td>\n      <td>August</td>\n      <td>18.931547</td>\n    </tr>\n    <tr>\n      <th>2</th>\n      <td>Berlin</td>\n      <td>December</td>\n      <td>1.689043</td>\n    </tr>\n    <tr>\n      <th>3</th>\n      <td>Berlin</td>\n      <td>February</td>\n      <td>1.289862</td>\n    </tr>\n    <tr>\n      <th>4</th>\n      <td>Berlin</td>\n      <td>January</td>\n      <td>0.384746</td>\n    </tr>\n    <tr>\n      <th>5</th>\n      <td>Berlin</td>\n      <td>July</td>\n      <td>19.419191</td>\n    </tr>\n    <tr>\n      <th>6</th>\n      <td>Berlin</td>\n      <td>June</td>\n      <td>17.599718</td>\n    </tr>\n    <tr>\n      <th>7</th>\n      <td>Berlin</td>\n      <td>March</td>\n      <td>4.609295</td>\n    </tr>\n    <tr>\n      <th>8</th>\n      <td>Berlin</td>\n      <td>May</td>\n      <td>14.345380</td>\n    </tr>\n    <tr>\n      <th>9</th>\n      <td>Berlin</td>\n      <td>November</td>\n      <td>5.084885</td>\n    </tr>\n    <tr>\n      <th>10</th>\n      <td>Berlin</td>\n      <td>October</td>\n      <td>10.028868</td>\n    </tr>\n    <tr>\n      <th>11</th>\n      <td>Berlin</td>\n      <td>September</td>\n      <td>14.868362</td>\n    </tr>\n    <tr>\n      <th>12</th>\n      <td>Edinburgh</td>\n      <td>April</td>\n      <td>7.819472</td>\n    </tr>\n    <tr>\n      <th>13</th>\n      <td>Edinburgh</td>\n      <td>August</td>\n      <td>14.883135</td>\n    </tr>\n    <tr>\n      <th>14</th>\n      <td>Edinburgh</td>\n      <td>December</td>\n      <td>4.310194</td>\n    </tr>\n    <tr>\n      <th>15</th>\n      <td>Edinburgh</td>\n      <td>February</td>\n      <td>4.164991</td>\n    </tr>\n    <tr>\n      <th>16</th>\n      <td>Edinburgh</td>\n      <td>January</td>\n      <td>3.975806</td>\n    </tr>\n    <tr>\n      <th>17</th>\n      <td>Edinburgh</td>\n      <td>July</td>\n      <td>15.006232</td>\n    </tr>\n    <tr>\n      <th>18</th>\n      <td>Edinburgh</td>\n      <td>June</td>\n      <td>13.400118</td>\n    </tr>\n    <tr>\n      <th>19</th>\n      <td>Edinburgh</td>\n      <td>March</td>\n      <td>5.839445</td>\n    </tr>\n    <tr>\n      <th>20</th>\n      <td>Edinburgh</td>\n      <td>May</td>\n      <td>10.519242</td>\n    </tr>\n    <tr>\n      <th>21</th>\n      <td>Edinburgh</td>\n      <td>November</td>\n      <td>6.277895</td>\n    </tr>\n    <tr>\n      <th>22</th>\n      <td>Edinburgh</td>\n      <td>October</td>\n      <td>9.915563</td>\n    </tr>\n    <tr>\n      <th>23</th>\n      <td>Edinburgh</td>\n      <td>September</td>\n      <td>12.876171</td>\n    </tr>\n    <tr>\n      <th>24</th>\n      <td>London</td>\n      <td>April</td>\n      <td>9.655367</td>\n    </tr>\n    <tr>\n      <th>25</th>\n      <td>London</td>\n      <td>August</td>\n      <td>17.978075</td>\n    </tr>\n    <tr>\n      <th>26</th>\n      <td>London</td>\n      <td>December</td>\n      <td>5.468242</td>\n    </tr>\n    <tr>\n      <th>27</th>\n      <td>London</td>\n      <td>February</td>\n      <td>5.086563</td>\n    </tr>\n    <tr>\n      <th>28</th>\n      <td>London</td>\n      <td>January</td>\n      <td>4.864079</td>\n    </tr>\n    <tr>\n      <th>29</th>\n      <td>London</td>\n      <td>July</td>\n      <td>18.332641</td>\n    </tr>\n    <tr>\n      <th>30</th>\n      <td>London</td>\n      <td>June</td>\n      <td>16.222542</td>\n    </tr>\n    <tr>\n      <th>31</th>\n      <td>London</td>\n      <td>March</td>\n      <td>7.185621</td>\n    </tr>\n    <tr>\n      <th>32</th>\n      <td>London</td>\n      <td>May</td>\n      <td>13.081848</td>\n    </tr>\n    <tr>\n      <th>33</th>\n      <td>London</td>\n      <td>November</td>\n      <td>7.774138</td>\n    </tr>\n    <tr>\n      <th>34</th>\n      <td>London</td>\n      <td>October</td>\n      <td>11.984910</td>\n    </tr>\n    <tr>\n      <th>35</th>\n      <td>London</td>\n      <td>September</td>\n      <td>15.438983</td>\n    </tr>\n  </tbody>\n</table>\n</div>"
     },
     "execution_count": 19,
     "metadata": {},
     "output_type": "execute_result"
    }
   ],
   "source": [
    "mean_temp = weather.groupby([\"City\", \"Month\"])[\"Mean temperature\"].mean().reset_index()\n",
    "mean_temp"
   ]
  },
  {
   "cell_type": "code",
   "source": [
    "mean_temp.info()"
   ],
   "metadata": {
    "colab": {
     "base_uri": "https://localhost:8080/"
    },
    "id": "59RMItWicCDb",
    "executionInfo": {
     "status": "ok",
     "timestamp": 1663703245550,
     "user_tz": 420,
     "elapsed": 588,
     "user": {
      "displayName": "Wendy Lee",
      "userId": "00975543233646854828"
     }
    },
    "outputId": "61b0b19a-b9d0-456c-f823-4f7b3b2671dc",
    "ExecuteTime": {
     "end_time": "2024-02-21T18:06:16.516679Z",
     "start_time": "2024-02-21T18:06:16.503676Z"
    }
   },
   "execution_count": 20,
   "outputs": [
    {
     "name": "stdout",
     "output_type": "stream",
     "text": [
      "<class 'pandas.core.frame.DataFrame'>\n",
      "RangeIndex: 36 entries, 0 to 35\n",
      "Data columns (total 3 columns):\n",
      " #   Column            Non-Null Count  Dtype  \n",
      "---  ------            --------------  -----  \n",
      " 0   City              36 non-null     object \n",
      " 1   Month             36 non-null     object \n",
      " 2   Mean temperature  36 non-null     float64\n",
      "dtypes: float64(1), object(2)\n",
      "memory usage: 992.0+ bytes\n"
     ]
    }
   ]
  },
  {
   "cell_type": "code",
   "execution_count": 23,
   "metadata": {
    "colab": {
     "base_uri": "https://localhost:8080/",
     "height": 385
    },
    "id": "jSHboseK1joW",
    "executionInfo": {
     "status": "ok",
     "timestamp": 1663703264079,
     "user_tz": 420,
     "elapsed": 1176,
     "user": {
      "displayName": "Wendy Lee",
      "userId": "00975543233646854828"
     }
    },
    "outputId": "9944f1ba-61a9-4582-a685-0b1bf677dc4a",
    "ExecuteTime": {
     "end_time": "2024-02-21T18:06:47.236572Z",
     "start_time": "2024-02-21T18:06:45.644571Z"
    }
   },
   "outputs": [
    {
     "data": {
      "text/plain": "<Figure size 613.5x500 with 1 Axes>",
      "image/png": "[encoded data removed]"
     },
     "metadata": {},
     "output_type": "display_data"
    }
   ],
   "source": [
    "months = [\"January\", \"February\", \"March\", \"April\", \"May\", \\\n",
    "          \"June\", \"July\", \"August\", \"September\", \"October\", \\\n",
    "          \"November\", \"December\"]\n",
    "\n",
    "sns.catplot(\n",
    "    data=mean_temp,\n",
    "    y=\"Month\",\n",
    "    x=\"Mean temperature\",\n",
    "    hue=\"City\",\n",
    "    kind=\"bar\",\n",
    "    order=months\n",
    ")\n",
    "plt.title(\"Mean temperature for each city by month\");"
   ]
  },
  {
   "cell_type": "markdown",
   "metadata": {
    "id": "gASo8fI01joX"
   },
   "source": [
    "Sometimes we want to plot the data in a specific order. For instance, from January to Decemember. We can use the module `CategoricalDtype` from `pandas.api.types`"
   ]
  },
  {
   "cell_type": "code",
   "execution_count": null,
   "metadata": {
    "id": "d8rTZ4fS1joX"
   },
   "outputs": [],
   "source": [
    "from pandas.api.types import CategoricalDtype\n",
    "\n",
    "months = [\"January\", \"February\", \"March\", \"April\", \"May\", \\\n",
    "          \"June\", \"July\", \"August\", \"September\", \"October\", \\\n",
    "          \"November\", \"December\"]\n",
    "\n",
    "mean_temp[\"Month\"] = mean_temp[\"Month\"].astype(\n",
    "    CategoricalDtype(categories=months, ordered=True)\n",
    ")"
   ]
  },
  {
   "cell_type": "code",
   "execution_count": null,
   "metadata": {
    "colab": {
     "base_uri": "https://localhost:8080/"
    },
    "id": "KXbqoIQe1joX",
    "executionInfo": {
     "status": "ok",
     "timestamp": 1663703299612,
     "user_tz": 420,
     "elapsed": 237,
     "user": {
      "displayName": "Wendy Lee",
      "userId": "00975543233646854828"
     }
    },
    "outputId": "a9db95fd-0a34-46f0-efc1-8d67642298e3"
   },
   "outputs": [
    {
     "output_type": "execute_result",
     "data": {
      "text/plain": [
       "City                  object\n",
       "Month               category\n",
       "Mean temperature     float64\n",
       "dtype: object"
      ]
     },
     "metadata": {},
     "execution_count": 79
    }
   ],
   "source": [
    "mean_temp.dtypes"
   ]
  },
  {
   "cell_type": "code",
   "execution_count": null,
   "metadata": {
    "colab": {
     "base_uri": "https://localhost:8080/",
     "height": 385
    },
    "id": "b3OfBjRr1joX",
    "executionInfo": {
     "status": "ok",
     "timestamp": 1663703302581,
     "user_tz": 420,
     "elapsed": 661,
     "user": {
      "displayName": "Wendy Lee",
      "userId": "00975543233646854828"
     }
    },
    "outputId": "35d0bd30-7454-4be0-d144-564722eb3184"
   },
   "outputs": [
    {
     "output_type": "display_data",
     "data": {
      "text/plain": [
       "<Figure size 447.25x360 with 1 Axes>"
      ],
      "image/png": "[encoded data removed]"
     },
     "metadata": {
      "needs_background": "light"
     }
    }
   ],
   "source": [
    "sns.catplot(\n",
    "    data=mean_temp,\n",
    "    y=\"Month\",\n",
    "    x=\"Mean temperature\",\n",
    "    hue=\"City\",\n",
    "    kind=\"bar\"\n",
    ")\n",
    "plt.title(\"Mean temperature for each city by month\");"
   ]
  },
  {
   "cell_type": "markdown",
   "metadata": {
    "id": "fgEOPHnC1joY"
   },
   "source": [
    "## Reshape dataframe from long (tidy) to wide (summary) \n",
    "Sometime we may want to take data frame with fewer columns, say in long format, summarize and convert into a data frame with multiple columns, i.e. a wide data frame. We can use pandas function `pivot_table` to help us with the summarization and conversion of dataframe in long form to dataframe in wide form."
   ]
  },
  {
   "cell_type": "code",
   "execution_count": null,
   "metadata": {
    "colab": {
     "base_uri": "https://localhost:8080/",
     "height": 424
    },
    "id": "gjbJ3yAI1joY",
    "executionInfo": {
     "status": "ok",
     "timestamp": 1663703333591,
     "user_tz": 420,
     "elapsed": 655,
     "user": {
      "displayName": "Wendy Lee",
      "userId": "00975543233646854828"
     }
    },
    "outputId": "6c427057-b5cf-4ae1-d817-e712996badc6"
   },
   "outputs": [
    {
     "output_type": "execute_result",
     "data": {
      "text/plain": [
       "          country  year         pop continent  lifeExp   gdpPercap\n",
       "0     Afghanistan  1952   8425333.0      Asia   28.801  779.445314\n",
       "1     Afghanistan  1957   9240934.0      Asia   30.332  820.853030\n",
       "2     Afghanistan  1962  10267083.0      Asia   31.997  853.100710\n",
       "3     Afghanistan  1967  11537966.0      Asia   34.020  836.197138\n",
       "4     Afghanistan  1972  13079460.0      Asia   36.088  739.981106\n",
       "...           ...   ...         ...       ...      ...         ...\n",
       "1699     Zimbabwe  1987   9216418.0    Africa   62.351  706.157306\n",
       "1700     Zimbabwe  1992  10704340.0    Africa   60.377  693.420786\n",
       "1701     Zimbabwe  1997  11404948.0    Africa   46.809  792.449960\n",
       "1702     Zimbabwe  2002  11926563.0    Africa   39.989  672.038623\n",
       "1703     Zimbabwe  2007  12311143.0    Africa   43.487  469.709298\n",
       "\n",
       "[1704 rows x 6 columns]"
      ],
      "text/html": [
       "\n",
       "  <div id=\"df-f4adb945-286c-405b-9390-adc80bf29830\">\n",
       "    <div class=\"colab-df-container\">\n",
       "      <div>\n",
       "<style scoped>\n",
       "    .dataframe tbody tr th:only-of-type {\n",
       "        vertical-align: middle;\n",
       "    }\n",
       "\n",
       "    .dataframe tbody tr th {\n",
       "        vertical-align: top;\n",
       "    }\n",
       "\n",
       "    .dataframe thead th {\n",
       "        text-align: right;\n",
       "    }\n",
       "</style>\n",
       "<table border=\"1\" class=\"dataframe\">\n",
       "  <thead>\n",
       "    <tr style=\"text-align: right;\">\n",
       "      <th></th>\n",
       "      <th>country</th>\n",
       "      <th>year</th>\n",
       "      <th>pop</th>\n",
       "      <th>continent</th>\n",
       "      <th>lifeExp</th>\n",
       "      <th>gdpPercap</th>\n",
       "    </tr>\n",
       "  </thead>\n",
       "  <tbody>\n",
       "    <tr>\n",
       "      <th>0</th>\n",
       "      <td>Afghanistan</td>\n",
       "      <td>1952</td>\n",
       "      <td>8425333.0</td>\n",
       "      <td>Asia</td>\n",
       "      <td>28.801</td>\n",
       "      <td>779.445314</td>\n",
       "    </tr>\n",
       "    <tr>\n",
       "      <th>1</th>\n",
       "      <td>Afghanistan</td>\n",
       "      <td>1957</td>\n",
       "      <td>9240934.0</td>\n",
       "      <td>Asia</td>\n",
       "      <td>30.332</td>\n",
       "      <td>820.853030</td>\n",
       "    </tr>\n",
       "    <tr>\n",
       "      <th>2</th>\n",
       "      <td>Afghanistan</td>\n",
       "      <td>1962</td>\n",
       "      <td>10267083.0</td>\n",
       "      <td>Asia</td>\n",
       "      <td>31.997</td>\n",
       "      <td>853.100710</td>\n",
       "    </tr>\n",
       "    <tr>\n",
       "      <th>3</th>\n",
       "      <td>Afghanistan</td>\n",
       "      <td>1967</td>\n",
       "      <td>11537966.0</td>\n",
       "      <td>Asia</td>\n",
       "      <td>34.020</td>\n",
       "      <td>836.197138</td>\n",
       "    </tr>\n",
       "    <tr>\n",
       "      <th>4</th>\n",
       "      <td>Afghanistan</td>\n",
       "      <td>1972</td>\n",
       "      <td>13079460.0</td>\n",
       "      <td>Asia</td>\n",
       "      <td>36.088</td>\n",
       "      <td>739.981106</td>\n",
       "    </tr>\n",
       "    <tr>\n",
       "      <th>...</th>\n",
       "      <td>...</td>\n",
       "      <td>...</td>\n",
       "      <td>...</td>\n",
       "      <td>...</td>\n",
       "      <td>...</td>\n",
       "      <td>...</td>\n",
       "    </tr>\n",
       "    <tr>\n",
       "      <th>1699</th>\n",
       "      <td>Zimbabwe</td>\n",
       "      <td>1987</td>\n",
       "      <td>9216418.0</td>\n",
       "      <td>Africa</td>\n",
       "      <td>62.351</td>\n",
       "      <td>706.157306</td>\n",
       "    </tr>\n",
       "    <tr>\n",
       "      <th>1700</th>\n",
       "      <td>Zimbabwe</td>\n",
       "      <td>1992</td>\n",
       "      <td>10704340.0</td>\n",
       "      <td>Africa</td>\n",
       "      <td>60.377</td>\n",
       "      <td>693.420786</td>\n",
       "    </tr>\n",
       "    <tr>\n",
       "      <th>1701</th>\n",
       "      <td>Zimbabwe</td>\n",
       "      <td>1997</td>\n",
       "      <td>11404948.0</td>\n",
       "      <td>Africa</td>\n",
       "      <td>46.809</td>\n",
       "      <td>792.449960</td>\n",
       "    </tr>\n",
       "    <tr>\n",
       "      <th>1702</th>\n",
       "      <td>Zimbabwe</td>\n",
       "      <td>2002</td>\n",
       "      <td>11926563.0</td>\n",
       "      <td>Africa</td>\n",
       "      <td>39.989</td>\n",
       "      <td>672.038623</td>\n",
       "    </tr>\n",
       "    <tr>\n",
       "      <th>1703</th>\n",
       "      <td>Zimbabwe</td>\n",
       "      <td>2007</td>\n",
       "      <td>12311143.0</td>\n",
       "      <td>Africa</td>\n",
       "      <td>43.487</td>\n",
       "      <td>469.709298</td>\n",
       "    </tr>\n",
       "  </tbody>\n",
       "</table>\n",
       "<p>1704 rows × 6 columns</p>\n",
       "</div>\n",
       "      <button class=\"colab-df-convert\" onclick=\"convertToInteractive('df-f4adb945-286c-405b-9390-adc80bf29830')\"\n",
       "              title=\"Convert this dataframe to an interactive table.\"\n",
       "              style=\"display:none;\">\n",
       "        \n",
       "  <svg xmlns=\"http://www.w3.org/2000/svg\" height=\"24px\"viewBox=\"0 0 24 24\"\n",
       "       width=\"24px\">\n",
       "    <path d=\"M0 0h24v24H0V0z\" fill=\"none\"/>\n",
       "    <path d=\"M18.56 5.44l.94 2.06.94-2.06 2.06-.94-2.06-.94-.94-2.06-.94 2.06-2.06.94zm-11 1L8.5 8.5l.94-2.06 2.06-.94-2.06-.94L8.5 2.5l-.94 2.06-2.06.94zm10 10l.94 2.06.94-2.06 2.06-.94-2.06-.94-.94-2.06-.94 2.06-2.06.94z\"/><path d=\"M17.41 7.96l-1.37-1.37c-.4-.4-.92-.59-1.43-.59-.52 0-1.04.2-1.43.59L10.3 9.45l-7.72 7.72c-.78.78-.78 2.05 0 2.83L4 21.41c.39.39.9.59 1.41.59.51 0 1.02-.2 1.41-.59l7.78-7.78 2.81-2.81c.8-.78.8-2.07 0-2.86zM5.41 20L4 18.59l7.72-7.72 1.47 1.35L5.41 20z\"/>\n",
       "  </svg>\n",
       "      </button>\n",
       "      \n",
       "  <style>\n",
       "    .colab-df-container {\n",
       "      display:flex;\n",
       "      flex-wrap:wrap;\n",
       "      gap: 12px;\n",
       "    }\n",
       "\n",
       "    .colab-df-convert {\n",
       "      background-color: #E8F0FE;\n",
       "      border: none;\n",
       "      border-radius: 50%;\n",
       "      cursor: pointer;\n",
       "      display: none;\n",
       "      fill: #1967D2;\n",
       "      height: 32px;\n",
       "      padding: 0 0 0 0;\n",
       "      width: 32px;\n",
       "    }\n",
       "\n",
       "    .colab-df-convert:hover {\n",
       "      background-color: #E2EBFA;\n",
       "      box-shadow: 0px 1px 2px rgba(60, 64, 67, 0.3), 0px 1px 3px 1px rgba(60, 64, 67, 0.15);\n",
       "      fill: #174EA6;\n",
       "    }\n",
       "\n",
       "    [theme=dark] .colab-df-convert {\n",
       "      background-color: #3B4455;\n",
       "      fill: #D2E3FC;\n",
       "    }\n",
       "\n",
       "    [theme=dark] .colab-df-convert:hover {\n",
       "      background-color: #434B5C;\n",
       "      box-shadow: 0px 1px 3px 1px rgba(0, 0, 0, 0.15);\n",
       "      filter: drop-shadow(0px 1px 2px rgba(0, 0, 0, 0.3));\n",
       "      fill: #FFFFFF;\n",
       "    }\n",
       "  </style>\n",
       "\n",
       "      <script>\n",
       "        const buttonEl =\n",
       "          document.querySelector('#df-f4adb945-286c-405b-9390-adc80bf29830 button.colab-df-convert');\n",
       "        buttonEl.style.display =\n",
       "          google.colab.kernel.accessAllowed ? 'block' : 'none';\n",
       "\n",
       "        async function convertToInteractive(key) {\n",
       "          const element = document.querySelector('#df-f4adb945-286c-405b-9390-adc80bf29830');\n",
       "          const dataTable =\n",
       "            await google.colab.kernel.invokeFunction('convertToInteractive',\n",
       "                                                     [key], {});\n",
       "          if (!dataTable) return;\n",
       "\n",
       "          const docLinkHtml = 'Like what you see? Visit the ' +\n",
       "            '<a target=\"_blank\" href=https://colab.research.google.com/notebooks/data_table.ipynb>data table notebook</a>'\n",
       "            + ' to learn more about interactive tables.';\n",
       "          element.innerHTML = '';\n",
       "          dataTable['output_type'] = 'display_data';\n",
       "          await google.colab.output.renderOutput(dataTable, element);\n",
       "          const docLink = document.createElement('div');\n",
       "          docLink.innerHTML = docLinkHtml;\n",
       "          element.appendChild(docLink);\n",
       "        }\n",
       "      </script>\n",
       "    </div>\n",
       "  </div>\n",
       "  "
      ]
     },
     "metadata": {},
     "execution_count": 81
    }
   ],
   "source": [
    "world = pd.read_csv(\"https://raw.githubusercontent.com/csbfx/advpy122-data/master/world_data.csv\")\n",
    "world"
   ]
  },
  {
   "cell_type": "markdown",
   "metadata": {
    "id": "CfkCUHmR1joY"
   },
   "source": [
    "Let us see a simple example of python `pivot_table` using a dataframe with just two columns. Let us subset our dataframe to contain just two columns: `continent` and `lifeExp`."
   ]
  },
  {
   "cell_type": "code",
   "execution_count": null,
   "metadata": {
    "colab": {
     "base_uri": "https://localhost:8080/",
     "height": 81
    },
    "id": "BfJzs88V1joY",
    "executionInfo": {
     "status": "ok",
     "timestamp": 1663699601031,
     "user_tz": 420,
     "elapsed": 264,
     "user": {
      "displayName": "Wendy Lee",
      "userId": "00975543233646854828"
     }
    },
    "outputId": "c2308839-754f-4f7e-dc7b-a9925edc497c"
   },
   "outputs": [
    {
     "output_type": "execute_result",
     "data": {
      "text/plain": [
       "continent    Africa   Americas       Asia     Europe    Oceania\n",
       "lifeExp    48.86533  64.658737  60.064903  71.903686  74.326208"
      ],
      "text/html": [
       "\n",
       "  <div id=\"df-cafa4938-c506-4c23-8573-f79d26987926\">\n",
       "    <div class=\"colab-df-container\">\n",
       "      <div>\n",
       "<style scoped>\n",
       "    .dataframe tbody tr th:only-of-type {\n",
       "        vertical-align: middle;\n",
       "    }\n",
       "\n",
       "    .dataframe tbody tr th {\n",
       "        vertical-align: top;\n",
       "    }\n",
       "\n",
       "    .dataframe thead th {\n",
       "        text-align: right;\n",
       "    }\n",
       "</style>\n",
       "<table border=\"1\" class=\"dataframe\">\n",
       "  <thead>\n",
       "    <tr style=\"text-align: right;\">\n",
       "      <th>continent</th>\n",
       "      <th>Africa</th>\n",
       "      <th>Americas</th>\n",
       "      <th>Asia</th>\n",
       "      <th>Europe</th>\n",
       "      <th>Oceania</th>\n",
       "    </tr>\n",
       "  </thead>\n",
       "  <tbody>\n",
       "    <tr>\n",
       "      <th>lifeExp</th>\n",
       "      <td>48.86533</td>\n",
       "      <td>64.658737</td>\n",
       "      <td>60.064903</td>\n",
       "      <td>71.903686</td>\n",
       "      <td>74.326208</td>\n",
       "    </tr>\n",
       "  </tbody>\n",
       "</table>\n",
       "</div>\n",
       "      <button class=\"colab-df-convert\" onclick=\"convertToInteractive('df-cafa4938-c506-4c23-8573-f79d26987926')\"\n",
       "              title=\"Convert this dataframe to an interactive table.\"\n",
       "              style=\"display:none;\">\n",
       "        \n",
       "  <svg xmlns=\"http://www.w3.org/2000/svg\" height=\"24px\"viewBox=\"0 0 24 24\"\n",
       "       width=\"24px\">\n",
       "    <path d=\"M0 0h24v24H0V0z\" fill=\"none\"/>\n",
       "    <path d=\"M18.56 5.44l.94 2.06.94-2.06 2.06-.94-2.06-.94-.94-2.06-.94 2.06-2.06.94zm-11 1L8.5 8.5l.94-2.06 2.06-.94-2.06-.94L8.5 2.5l-.94 2.06-2.06.94zm10 10l.94 2.06.94-2.06 2.06-.94-2.06-.94-.94-2.06-.94 2.06-2.06.94z\"/><path d=\"M17.41 7.96l-1.37-1.37c-.4-.4-.92-.59-1.43-.59-.52 0-1.04.2-1.43.59L10.3 9.45l-7.72 7.72c-.78.78-.78 2.05 0 2.83L4 21.41c.39.39.9.59 1.41.59.51 0 1.02-.2 1.41-.59l7.78-7.78 2.81-2.81c.8-.78.8-2.07 0-2.86zM5.41 20L4 18.59l7.72-7.72 1.47 1.35L5.41 20z\"/>\n",
       "  </svg>\n",
       "      </button>\n",
       "      \n",
       "  <style>\n",
       "    .colab-df-container {\n",
       "      display:flex;\n",
       "      flex-wrap:wrap;\n",
       "      gap: 12px;\n",
       "    }\n",
       "\n",
       "    .colab-df-convert {\n",
       "      background-color: #E8F0FE;\n",
       "      border: none;\n",
       "      border-radius: 50%;\n",
       "      cursor: pointer;\n",
       "      display: none;\n",
       "      fill: #1967D2;\n",
       "      height: 32px;\n",
       "      padding: 0 0 0 0;\n",
       "      width: 32px;\n",
       "    }\n",
       "\n",
       "    .colab-df-convert:hover {\n",
       "      background-color: #E2EBFA;\n",
       "      box-shadow: 0px 1px 2px rgba(60, 64, 67, 0.3), 0px 1px 3px 1px rgba(60, 64, 67, 0.15);\n",
       "      fill: #174EA6;\n",
       "    }\n",
       "\n",
       "    [theme=dark] .colab-df-convert {\n",
       "      background-color: #3B4455;\n",
       "      fill: #D2E3FC;\n",
       "    }\n",
       "\n",
       "    [theme=dark] .colab-df-convert:hover {\n",
       "      background-color: #434B5C;\n",
       "      box-shadow: 0px 1px 3px 1px rgba(0, 0, 0, 0.15);\n",
       "      filter: drop-shadow(0px 1px 2px rgba(0, 0, 0, 0.3));\n",
       "      fill: #FFFFFF;\n",
       "    }\n",
       "  </style>\n",
       "\n",
       "      <script>\n",
       "        const buttonEl =\n",
       "          document.querySelector('#df-cafa4938-c506-4c23-8573-f79d26987926 button.colab-df-convert');\n",
       "        buttonEl.style.display =\n",
       "          google.colab.kernel.accessAllowed ? 'block' : 'none';\n",
       "\n",
       "        async function convertToInteractive(key) {\n",
       "          const element = document.querySelector('#df-cafa4938-c506-4c23-8573-f79d26987926');\n",
       "          const dataTable =\n",
       "            await google.colab.kernel.invokeFunction('convertToInteractive',\n",
       "                                                     [key], {});\n",
       "          if (!dataTable) return;\n",
       "\n",
       "          const docLinkHtml = 'Like what you see? Visit the ' +\n",
       "            '<a target=\"_blank\" href=https://colab.research.google.com/notebooks/data_table.ipynb>data table notebook</a>'\n",
       "            + ' to learn more about interactive tables.';\n",
       "          element.innerHTML = '';\n",
       "          dataTable['output_type'] = 'display_data';\n",
       "          await google.colab.output.renderOutput(dataTable, element);\n",
       "          const docLink = document.createElement('div');\n",
       "          docLink.innerHTML = docLinkHtml;\n",
       "          element.appendChild(docLink);\n",
       "        }\n",
       "      </script>\n",
       "    </div>\n",
       "  </div>\n",
       "  "
      ]
     },
     "metadata": {},
     "execution_count": 39
    }
   ],
   "source": [
    "# simple example with pivot_table\n",
    "pd.pivot_table(world, values='lifeExp', columns='continent')"
   ]
  },
  {
   "cell_type": "code",
   "source": [
    "# simple example with pivot_table\n",
    "pd.pivot_table(world, values=['lifeExp', 'gdpPercap'], columns='continent')"
   ],
   "metadata": {
    "colab": {
     "base_uri": "https://localhost:8080/",
     "height": 112
    },
    "id": "F_BGHyaqOUtH",
    "executionInfo": {
     "status": "ok",
     "timestamp": 1663703488639,
     "user_tz": 420,
     "elapsed": 298,
     "user": {
      "displayName": "Wendy Lee",
      "userId": "00975543233646854828"
     }
    },
    "outputId": "d8175c51-494b-41dd-b8a1-c5ceac77dcec"
   },
   "execution_count": null,
   "outputs": [
    {
     "output_type": "execute_result",
     "data": {
      "text/plain": [
       "continent       Africa     Americas         Asia        Europe       Oceania\n",
       "gdpPercap  2193.754578  7136.110356  7902.150428  14469.475533  18621.609223\n",
       "lifeExp      48.865330    64.658737    60.064903     71.903686     74.326208"
      ],
      "text/html": [
       "\n",
       "  <div id=\"df-293f4c7e-b49d-407e-8ed5-1830a720baa0\">\n",
       "    <div class=\"colab-df-container\">\n",
       "      <div>\n",
       "<style scoped>\n",
       "    .dataframe tbody tr th:only-of-type {\n",
       "        vertical-align: middle;\n",
       "    }\n",
       "\n",
       "    .dataframe tbody tr th {\n",
       "        vertical-align: top;\n",
       "    }\n",
       "\n",
       "    .dataframe thead th {\n",
       "        text-align: right;\n",
       "    }\n",
       "</style>\n",
       "<table border=\"1\" class=\"dataframe\">\n",
       "  <thead>\n",
       "    <tr style=\"text-align: right;\">\n",
       "      <th>continent</th>\n",
       "      <th>Africa</th>\n",
       "      <th>Americas</th>\n",
       "      <th>Asia</th>\n",
       "      <th>Europe</th>\n",
       "      <th>Oceania</th>\n",
       "    </tr>\n",
       "  </thead>\n",
       "  <tbody>\n",
       "    <tr>\n",
       "      <th>gdpPercap</th>\n",
       "      <td>2193.754578</td>\n",
       "      <td>7136.110356</td>\n",
       "      <td>7902.150428</td>\n",
       "      <td>14469.475533</td>\n",
       "      <td>18621.609223</td>\n",
       "    </tr>\n",
       "    <tr>\n",
       "      <th>lifeExp</th>\n",
       "      <td>48.865330</td>\n",
       "      <td>64.658737</td>\n",
       "      <td>60.064903</td>\n",
       "      <td>71.903686</td>\n",
       "      <td>74.326208</td>\n",
       "    </tr>\n",
       "  </tbody>\n",
       "</table>\n",
       "</div>\n",
       "      <button class=\"colab-df-convert\" onclick=\"convertToInteractive('df-293f4c7e-b49d-407e-8ed5-1830a720baa0')\"\n",
       "              title=\"Convert this dataframe to an interactive table.\"\n",
       "              style=\"display:none;\">\n",
       "        \n",
       "  <svg xmlns=\"http://www.w3.org/2000/svg\" height=\"24px\"viewBox=\"0 0 24 24\"\n",
       "       width=\"24px\">\n",
       "    <path d=\"M0 0h24v24H0V0z\" fill=\"none\"/>\n",
       "    <path d=\"M18.56 5.44l.94 2.06.94-2.06 2.06-.94-2.06-.94-.94-2.06-.94 2.06-2.06.94zm-11 1L8.5 8.5l.94-2.06 2.06-.94-2.06-.94L8.5 2.5l-.94 2.06-2.06.94zm10 10l.94 2.06.94-2.06 2.06-.94-2.06-.94-.94-2.06-.94 2.06-2.06.94z\"/><path d=\"M17.41 7.96l-1.37-1.37c-.4-.4-.92-.59-1.43-.59-.52 0-1.04.2-1.43.59L10.3 9.45l-7.72 7.72c-.78.78-.78 2.05 0 2.83L4 21.41c.39.39.9.59 1.41.59.51 0 1.02-.2 1.41-.59l7.78-7.78 2.81-2.81c.8-.78.8-2.07 0-2.86zM5.41 20L4 18.59l7.72-7.72 1.47 1.35L5.41 20z\"/>\n",
       "  </svg>\n",
       "      </button>\n",
       "      \n",
       "  <style>\n",
       "    .colab-df-container {\n",
       "      display:flex;\n",
       "      flex-wrap:wrap;\n",
       "      gap: 12px;\n",
       "    }\n",
       "\n",
       "    .colab-df-convert {\n",
       "      background-color: #E8F0FE;\n",
       "      border: none;\n",
       "      border-radius: 50%;\n",
       "      cursor: pointer;\n",
       "      display: none;\n",
       "      fill: #1967D2;\n",
       "      height: 32px;\n",
       "      padding: 0 0 0 0;\n",
       "      width: 32px;\n",
       "    }\n",
       "\n",
       "    .colab-df-convert:hover {\n",
       "      background-color: #E2EBFA;\n",
       "      box-shadow: 0px 1px 2px rgba(60, 64, 67, 0.3), 0px 1px 3px 1px rgba(60, 64, 67, 0.15);\n",
       "      fill: #174EA6;\n",
       "    }\n",
       "\n",
       "    [theme=dark] .colab-df-convert {\n",
       "      background-color: #3B4455;\n",
       "      fill: #D2E3FC;\n",
       "    }\n",
       "\n",
       "    [theme=dark] .colab-df-convert:hover {\n",
       "      background-color: #434B5C;\n",
       "      box-shadow: 0px 1px 3px 1px rgba(0, 0, 0, 0.15);\n",
       "      filter: drop-shadow(0px 1px 2px rgba(0, 0, 0, 0.3));\n",
       "      fill: #FFFFFF;\n",
       "    }\n",
       "  </style>\n",
       "\n",
       "      <script>\n",
       "        const buttonEl =\n",
       "          document.querySelector('#df-293f4c7e-b49d-407e-8ed5-1830a720baa0 button.colab-df-convert');\n",
       "        buttonEl.style.display =\n",
       "          google.colab.kernel.accessAllowed ? 'block' : 'none';\n",
       "\n",
       "        async function convertToInteractive(key) {\n",
       "          const element = document.querySelector('#df-293f4c7e-b49d-407e-8ed5-1830a720baa0');\n",
       "          const dataTable =\n",
       "            await google.colab.kernel.invokeFunction('convertToInteractive',\n",
       "                                                     [key], {});\n",
       "          if (!dataTable) return;\n",
       "\n",
       "          const docLinkHtml = 'Like what you see? Visit the ' +\n",
       "            '<a target=\"_blank\" href=https://colab.research.google.com/notebooks/data_table.ipynb>data table notebook</a>'\n",
       "            + ' to learn more about interactive tables.';\n",
       "          element.innerHTML = '';\n",
       "          dataTable['output_type'] = 'display_data';\n",
       "          await google.colab.output.renderOutput(dataTable, element);\n",
       "          const docLink = document.createElement('div');\n",
       "          docLink.innerHTML = docLinkHtml;\n",
       "          element.appendChild(docLink);\n",
       "        }\n",
       "      </script>\n",
       "    </div>\n",
       "  </div>\n",
       "  "
      ]
     },
     "metadata": {},
     "execution_count": 84
    }
   ]
  },
  {
   "cell_type": "markdown",
   "metadata": {
    "id": "Rldt3O1a1joY"
   },
   "source": [
    "Here we use `pivot_table` to convert the long dataframe to a wide dataframe, and computes the mean lifeExp across continents. `pd.pivot_table` with the dataframe `world` as one of the arguments and specify which variable we would like use for columns (`continent`) and which variable we would like to summarize (`lifeExp`). One of the arguments of `pivot_table`, `aggfunc` has mean as default."
   ]
  },
  {
   "cell_type": "markdown",
   "metadata": {
    "id": "PpiihCKt1joZ"
   },
   "source": [
    "In the above example we used `pivot_table` to compute mean `lifeExp` for each continent. We can compute mean lifeExp for each country, by simply specifying \"country\" for columns argument."
   ]
  },
  {
   "cell_type": "code",
   "execution_count": null,
   "metadata": {
    "colab": {
     "base_uri": "https://localhost:8080/",
     "height": 424
    },
    "id": "SwlVF0vM1joZ",
    "executionInfo": {
     "status": "ok",
     "timestamp": 1663698183943,
     "user_tz": 420,
     "elapsed": 14,
     "user": {
      "displayName": "Wendy Lee",
      "userId": "00975543233646854828"
     }
    },
    "outputId": "ec402363-6439-4cf0-8c00-630af6b023f0"
   },
   "outputs": [
    {
     "output_type": "execute_result",
     "data": {
      "text/plain": [
       "          country  lifeExp\n",
       "0     Afghanistan   28.801\n",
       "1     Afghanistan   30.332\n",
       "2     Afghanistan   31.997\n",
       "3     Afghanistan   34.020\n",
       "4     Afghanistan   36.088\n",
       "...           ...      ...\n",
       "1699     Zimbabwe   62.351\n",
       "1700     Zimbabwe   60.377\n",
       "1701     Zimbabwe   46.809\n",
       "1702     Zimbabwe   39.989\n",
       "1703     Zimbabwe   43.487\n",
       "\n",
       "[1704 rows x 2 columns]"
      ],
      "text/html": [
       "\n",
       "  <div id=\"df-c99d0afa-002f-481d-b1c0-b98ebef3d502\">\n",
       "    <div class=\"colab-df-container\">\n",
       "      <div>\n",
       "<style scoped>\n",
       "    .dataframe tbody tr th:only-of-type {\n",
       "        vertical-align: middle;\n",
       "    }\n",
       "\n",
       "    .dataframe tbody tr th {\n",
       "        vertical-align: top;\n",
       "    }\n",
       "\n",
       "    .dataframe thead th {\n",
       "        text-align: right;\n",
       "    }\n",
       "</style>\n",
       "<table border=\"1\" class=\"dataframe\">\n",
       "  <thead>\n",
       "    <tr style=\"text-align: right;\">\n",
       "      <th></th>\n",
       "      <th>country</th>\n",
       "      <th>lifeExp</th>\n",
       "    </tr>\n",
       "  </thead>\n",
       "  <tbody>\n",
       "    <tr>\n",
       "      <th>0</th>\n",
       "      <td>Afghanistan</td>\n",
       "      <td>28.801</td>\n",
       "    </tr>\n",
       "    <tr>\n",
       "      <th>1</th>\n",
       "      <td>Afghanistan</td>\n",
       "      <td>30.332</td>\n",
       "    </tr>\n",
       "    <tr>\n",
       "      <th>2</th>\n",
       "      <td>Afghanistan</td>\n",
       "      <td>31.997</td>\n",
       "    </tr>\n",
       "    <tr>\n",
       "      <th>3</th>\n",
       "      <td>Afghanistan</td>\n",
       "      <td>34.020</td>\n",
       "    </tr>\n",
       "    <tr>\n",
       "      <th>4</th>\n",
       "      <td>Afghanistan</td>\n",
       "      <td>36.088</td>\n",
       "    </tr>\n",
       "    <tr>\n",
       "      <th>...</th>\n",
       "      <td>...</td>\n",
       "      <td>...</td>\n",
       "    </tr>\n",
       "    <tr>\n",
       "      <th>1699</th>\n",
       "      <td>Zimbabwe</td>\n",
       "      <td>62.351</td>\n",
       "    </tr>\n",
       "    <tr>\n",
       "      <th>1700</th>\n",
       "      <td>Zimbabwe</td>\n",
       "      <td>60.377</td>\n",
       "    </tr>\n",
       "    <tr>\n",
       "      <th>1701</th>\n",
       "      <td>Zimbabwe</td>\n",
       "      <td>46.809</td>\n",
       "    </tr>\n",
       "    <tr>\n",
       "      <th>1702</th>\n",
       "      <td>Zimbabwe</td>\n",
       "      <td>39.989</td>\n",
       "    </tr>\n",
       "    <tr>\n",
       "      <th>1703</th>\n",
       "      <td>Zimbabwe</td>\n",
       "      <td>43.487</td>\n",
       "    </tr>\n",
       "  </tbody>\n",
       "</table>\n",
       "<p>1704 rows × 2 columns</p>\n",
       "</div>\n",
       "      <button class=\"colab-df-convert\" onclick=\"convertToInteractive('df-c99d0afa-002f-481d-b1c0-b98ebef3d502')\"\n",
       "              title=\"Convert this dataframe to an interactive table.\"\n",
       "              style=\"display:none;\">\n",
       "        \n",
       "  <svg xmlns=\"http://www.w3.org/2000/svg\" height=\"24px\"viewBox=\"0 0 24 24\"\n",
       "       width=\"24px\">\n",
       "    <path d=\"M0 0h24v24H0V0z\" fill=\"none\"/>\n",
       "    <path d=\"M18.56 5.44l.94 2.06.94-2.06 2.06-.94-2.06-.94-.94-2.06-.94 2.06-2.06.94zm-11 1L8.5 8.5l.94-2.06 2.06-.94-2.06-.94L8.5 2.5l-.94 2.06-2.06.94zm10 10l.94 2.06.94-2.06 2.06-.94-2.06-.94-.94-2.06-.94 2.06-2.06.94z\"/><path d=\"M17.41 7.96l-1.37-1.37c-.4-.4-.92-.59-1.43-.59-.52 0-1.04.2-1.43.59L10.3 9.45l-7.72 7.72c-.78.78-.78 2.05 0 2.83L4 21.41c.39.39.9.59 1.41.59.51 0 1.02-.2 1.41-.59l7.78-7.78 2.81-2.81c.8-.78.8-2.07 0-2.86zM5.41 20L4 18.59l7.72-7.72 1.47 1.35L5.41 20z\"/>\n",
       "  </svg>\n",
       "      </button>\n",
       "      \n",
       "  <style>\n",
       "    .colab-df-container {\n",
       "      display:flex;\n",
       "      flex-wrap:wrap;\n",
       "      gap: 12px;\n",
       "    }\n",
       "\n",
       "    .colab-df-convert {\n",
       "      background-color: #E8F0FE;\n",
       "      border: none;\n",
       "      border-radius: 50%;\n",
       "      cursor: pointer;\n",
       "      display: none;\n",
       "      fill: #1967D2;\n",
       "      height: 32px;\n",
       "      padding: 0 0 0 0;\n",
       "      width: 32px;\n",
       "    }\n",
       "\n",
       "    .colab-df-convert:hover {\n",
       "      background-color: #E2EBFA;\n",
       "      box-shadow: 0px 1px 2px rgba(60, 64, 67, 0.3), 0px 1px 3px 1px rgba(60, 64, 67, 0.15);\n",
       "      fill: #174EA6;\n",
       "    }\n",
       "\n",
       "    [theme=dark] .colab-df-convert {\n",
       "      background-color: #3B4455;\n",
       "      fill: #D2E3FC;\n",
       "    }\n",
       "\n",
       "    [theme=dark] .colab-df-convert:hover {\n",
       "      background-color: #434B5C;\n",
       "      box-shadow: 0px 1px 3px 1px rgba(0, 0, 0, 0.15);\n",
       "      filter: drop-shadow(0px 1px 2px rgba(0, 0, 0, 0.3));\n",
       "      fill: #FFFFFF;\n",
       "    }\n",
       "  </style>\n",
       "\n",
       "      <script>\n",
       "        const buttonEl =\n",
       "          document.querySelector('#df-c99d0afa-002f-481d-b1c0-b98ebef3d502 button.colab-df-convert');\n",
       "        buttonEl.style.display =\n",
       "          google.colab.kernel.accessAllowed ? 'block' : 'none';\n",
       "\n",
       "        async function convertToInteractive(key) {\n",
       "          const element = document.querySelector('#df-c99d0afa-002f-481d-b1c0-b98ebef3d502');\n",
       "          const dataTable =\n",
       "            await google.colab.kernel.invokeFunction('convertToInteractive',\n",
       "                                                     [key], {});\n",
       "          if (!dataTable) return;\n",
       "\n",
       "          const docLinkHtml = 'Like what you see? Visit the ' +\n",
       "            '<a target=\"_blank\" href=https://colab.research.google.com/notebooks/data_table.ipynb>data table notebook</a>'\n",
       "            + ' to learn more about interactive tables.';\n",
       "          element.innerHTML = '';\n",
       "          dataTable['output_type'] = 'display_data';\n",
       "          await google.colab.output.renderOutput(dataTable, element);\n",
       "          const docLink = document.createElement('div');\n",
       "          docLink.innerHTML = docLinkHtml;\n",
       "          element.appendChild(docLink);\n",
       "        }\n",
       "      </script>\n",
       "    </div>\n",
       "  </div>\n",
       "  "
      ]
     },
     "metadata": {},
     "execution_count": 21
    }
   ],
   "source": [
    "country = world[['country', 'lifeExp']]\n",
    "country"
   ]
  },
  {
   "cell_type": "code",
   "execution_count": null,
   "metadata": {
    "id": "11wE-OS91joZ",
    "outputId": "062620f4-5ce7-4e47-9029-634407006073",
    "colab": {
     "base_uri": "https://localhost:8080/",
     "height": 110
    },
    "executionInfo": {
     "status": "ok",
     "timestamp": 1663698183944,
     "user_tz": 420,
     "elapsed": 14,
     "user": {
      "displayName": "Wendy Lee",
      "userId": "00975543233646854828"
     }
    }
   },
   "outputs": [
    {
     "output_type": "execute_result",
     "data": {
      "text/plain": [
       "country  Afghanistan    Albania    Algeria   Angola  Argentina  Australia  \\\n",
       "lifeExp    37.478833  68.432917  59.030167  37.8835  69.060417  74.662917   \n",
       "\n",
       "country   Austria    Bahrain  Bangladesh   Belgium  ...     Uganda  \\\n",
       "lifeExp  73.10325  65.605667   49.834083  73.64175  ...  47.618833   \n",
       "\n",
       "country  United Kingdom  United States    Uruguay  Venezuela  Vietnam  \\\n",
       "lifeExp       73.922583        73.4785  70.781583  66.580667  57.4795   \n",
       "\n",
       "country  West Bank and Gaza  Yemen Rep.     Zambia   Zimbabwe  \n",
       "lifeExp           60.328667   46.780417  45.996333  52.663167  \n",
       "\n",
       "[1 rows x 142 columns]"
      ],
      "text/html": [
       "\n",
       "  <div id=\"df-73d3e444-8516-45c1-9705-3e5cbf708a6a\">\n",
       "    <div class=\"colab-df-container\">\n",
       "      <div>\n",
       "<style scoped>\n",
       "    .dataframe tbody tr th:only-of-type {\n",
       "        vertical-align: middle;\n",
       "    }\n",
       "\n",
       "    .dataframe tbody tr th {\n",
       "        vertical-align: top;\n",
       "    }\n",
       "\n",
       "    .dataframe thead th {\n",
       "        text-align: right;\n",
       "    }\n",
       "</style>\n",
       "<table border=\"1\" class=\"dataframe\">\n",
       "  <thead>\n",
       "    <tr style=\"text-align: right;\">\n",
       "      <th>country</th>\n",
       "      <th>Afghanistan</th>\n",
       "      <th>Albania</th>\n",
       "      <th>Algeria</th>\n",
       "      <th>Angola</th>\n",
       "      <th>Argentina</th>\n",
       "      <th>Australia</th>\n",
       "      <th>Austria</th>\n",
       "      <th>Bahrain</th>\n",
       "      <th>Bangladesh</th>\n",
       "      <th>Belgium</th>\n",
       "      <th>...</th>\n",
       "      <th>Uganda</th>\n",
       "      <th>United Kingdom</th>\n",
       "      <th>United States</th>\n",
       "      <th>Uruguay</th>\n",
       "      <th>Venezuela</th>\n",
       "      <th>Vietnam</th>\n",
       "      <th>West Bank and Gaza</th>\n",
       "      <th>Yemen Rep.</th>\n",
       "      <th>Zambia</th>\n",
       "      <th>Zimbabwe</th>\n",
       "    </tr>\n",
       "  </thead>\n",
       "  <tbody>\n",
       "    <tr>\n",
       "      <th>lifeExp</th>\n",
       "      <td>37.478833</td>\n",
       "      <td>68.432917</td>\n",
       "      <td>59.030167</td>\n",
       "      <td>37.8835</td>\n",
       "      <td>69.060417</td>\n",
       "      <td>74.662917</td>\n",
       "      <td>73.10325</td>\n",
       "      <td>65.605667</td>\n",
       "      <td>49.834083</td>\n",
       "      <td>73.64175</td>\n",
       "      <td>...</td>\n",
       "      <td>47.618833</td>\n",
       "      <td>73.922583</td>\n",
       "      <td>73.4785</td>\n",
       "      <td>70.781583</td>\n",
       "      <td>66.580667</td>\n",
       "      <td>57.4795</td>\n",
       "      <td>60.328667</td>\n",
       "      <td>46.780417</td>\n",
       "      <td>45.996333</td>\n",
       "      <td>52.663167</td>\n",
       "    </tr>\n",
       "  </tbody>\n",
       "</table>\n",
       "<p>1 rows × 142 columns</p>\n",
       "</div>\n",
       "      <button class=\"colab-df-convert\" onclick=\"convertToInteractive('df-73d3e444-8516-45c1-9705-3e5cbf708a6a')\"\n",
       "              title=\"Convert this dataframe to an interactive table.\"\n",
       "              style=\"display:none;\">\n",
       "        \n",
       "  <svg xmlns=\"http://www.w3.org/2000/svg\" height=\"24px\"viewBox=\"0 0 24 24\"\n",
       "       width=\"24px\">\n",
       "    <path d=\"M0 0h24v24H0V0z\" fill=\"none\"/>\n",
       "    <path d=\"M18.56 5.44l.94 2.06.94-2.06 2.06-.94-2.06-.94-.94-2.06-.94 2.06-2.06.94zm-11 1L8.5 8.5l.94-2.06 2.06-.94-2.06-.94L8.5 2.5l-.94 2.06-2.06.94zm10 10l.94 2.06.94-2.06 2.06-.94-2.06-.94-.94-2.06-.94 2.06-2.06.94z\"/><path d=\"M17.41 7.96l-1.37-1.37c-.4-.4-.92-.59-1.43-.59-.52 0-1.04.2-1.43.59L10.3 9.45l-7.72 7.72c-.78.78-.78 2.05 0 2.83L4 21.41c.39.39.9.59 1.41.59.51 0 1.02-.2 1.41-.59l7.78-7.78 2.81-2.81c.8-.78.8-2.07 0-2.86zM5.41 20L4 18.59l7.72-7.72 1.47 1.35L5.41 20z\"/>\n",
       "  </svg>\n",
       "      </button>\n",
       "      \n",
       "  <style>\n",
       "    .colab-df-container {\n",
       "      display:flex;\n",
       "      flex-wrap:wrap;\n",
       "      gap: 12px;\n",
       "    }\n",
       "\n",
       "    .colab-df-convert {\n",
       "      background-color: #E8F0FE;\n",
       "      border: none;\n",
       "      border-radius: 50%;\n",
       "      cursor: pointer;\n",
       "      display: none;\n",
       "      fill: #1967D2;\n",
       "      height: 32px;\n",
       "      padding: 0 0 0 0;\n",
       "      width: 32px;\n",
       "    }\n",
       "\n",
       "    .colab-df-convert:hover {\n",
       "      background-color: #E2EBFA;\n",
       "      box-shadow: 0px 1px 2px rgba(60, 64, 67, 0.3), 0px 1px 3px 1px rgba(60, 64, 67, 0.15);\n",
       "      fill: #174EA6;\n",
       "    }\n",
       "\n",
       "    [theme=dark] .colab-df-convert {\n",
       "      background-color: #3B4455;\n",
       "      fill: #D2E3FC;\n",
       "    }\n",
       "\n",
       "    [theme=dark] .colab-df-convert:hover {\n",
       "      background-color: #434B5C;\n",
       "      box-shadow: 0px 1px 3px 1px rgba(0, 0, 0, 0.15);\n",
       "      filter: drop-shadow(0px 1px 2px rgba(0, 0, 0, 0.3));\n",
       "      fill: #FFFFFF;\n",
       "    }\n",
       "  </style>\n",
       "\n",
       "      <script>\n",
       "        const buttonEl =\n",
       "          document.querySelector('#df-73d3e444-8516-45c1-9705-3e5cbf708a6a button.colab-df-convert');\n",
       "        buttonEl.style.display =\n",
       "          google.colab.kernel.accessAllowed ? 'block' : 'none';\n",
       "\n",
       "        async function convertToInteractive(key) {\n",
       "          const element = document.querySelector('#df-73d3e444-8516-45c1-9705-3e5cbf708a6a');\n",
       "          const dataTable =\n",
       "            await google.colab.kernel.invokeFunction('convertToInteractive',\n",
       "                                                     [key], {});\n",
       "          if (!dataTable) return;\n",
       "\n",
       "          const docLinkHtml = 'Like what you see? Visit the ' +\n",
       "            '<a target=\"_blank\" href=https://colab.research.google.com/notebooks/data_table.ipynb>data table notebook</a>'\n",
       "            + ' to learn more about interactive tables.';\n",
       "          element.innerHTML = '';\n",
       "          dataTable['output_type'] = 'display_data';\n",
       "          await google.colab.output.renderOutput(dataTable, element);\n",
       "          const docLink = document.createElement('div');\n",
       "          docLink.innerHTML = docLinkHtml;\n",
       "          element.appendChild(docLink);\n",
       "        }\n",
       "      </script>\n",
       "    </div>\n",
       "  </div>\n",
       "  "
      ]
     },
     "metadata": {},
     "execution_count": 22
    }
   ],
   "source": [
    "pd.pivot_table(country, values='lifeExp', columns='country', aggfunc=\"mean\")"
   ]
  },
  {
   "cell_type": "markdown",
   "metadata": {
    "id": "neDEmaWg1joZ"
   },
   "source": [
    "## Pandas `pivot_table` on dataframes with three columns\n",
    "Pandas `pivot_table` becomes more powerful when we try to summarize and convert a tidy dataframe with more than two variables into a wide dataframe. "
   ]
  },
  {
   "cell_type": "code",
   "execution_count": null,
   "metadata": {
    "colab": {
     "base_uri": "https://localhost:8080/",
     "height": 424
    },
    "id": "FF8Z6i0R1joZ",
    "executionInfo": {
     "status": "ok",
     "timestamp": 1663698183944,
     "user_tz": 420,
     "elapsed": 13,
     "user": {
      "displayName": "Wendy Lee",
      "userId": "00975543233646854828"
     }
    },
    "outputId": "eabe63ae-9c14-4d64-ae92-253af505f4e5"
   },
   "outputs": [
    {
     "output_type": "execute_result",
     "data": {
      "text/plain": [
       "     continent  year  lifeExp\n",
       "0         Asia  1952   28.801\n",
       "1         Asia  1957   30.332\n",
       "2         Asia  1962   31.997\n",
       "3         Asia  1967   34.020\n",
       "4         Asia  1972   36.088\n",
       "...        ...   ...      ...\n",
       "1699    Africa  1987   62.351\n",
       "1700    Africa  1992   60.377\n",
       "1701    Africa  1997   46.809\n",
       "1702    Africa  2002   39.989\n",
       "1703    Africa  2007   43.487\n",
       "\n",
       "[1704 rows x 3 columns]"
      ],
      "text/html": [
       "\n",
       "  <div id=\"df-8808e090-cad4-4475-a5a2-d6ef8876fcd5\">\n",
       "    <div class=\"colab-df-container\">\n",
       "      <div>\n",
       "<style scoped>\n",
       "    .dataframe tbody tr th:only-of-type {\n",
       "        vertical-align: middle;\n",
       "    }\n",
       "\n",
       "    .dataframe tbody tr th {\n",
       "        vertical-align: top;\n",
       "    }\n",
       "\n",
       "    .dataframe thead th {\n",
       "        text-align: right;\n",
       "    }\n",
       "</style>\n",
       "<table border=\"1\" class=\"dataframe\">\n",
       "  <thead>\n",
       "    <tr style=\"text-align: right;\">\n",
       "      <th></th>\n",
       "      <th>continent</th>\n",
       "      <th>year</th>\n",
       "      <th>lifeExp</th>\n",
       "    </tr>\n",
       "  </thead>\n",
       "  <tbody>\n",
       "    <tr>\n",
       "      <th>0</th>\n",
       "      <td>Asia</td>\n",
       "      <td>1952</td>\n",
       "      <td>28.801</td>\n",
       "    </tr>\n",
       "    <tr>\n",
       "      <th>1</th>\n",
       "      <td>Asia</td>\n",
       "      <td>1957</td>\n",
       "      <td>30.332</td>\n",
       "    </tr>\n",
       "    <tr>\n",
       "      <th>2</th>\n",
       "      <td>Asia</td>\n",
       "      <td>1962</td>\n",
       "      <td>31.997</td>\n",
       "    </tr>\n",
       "    <tr>\n",
       "      <th>3</th>\n",
       "      <td>Asia</td>\n",
       "      <td>1967</td>\n",
       "      <td>34.020</td>\n",
       "    </tr>\n",
       "    <tr>\n",
       "      <th>4</th>\n",
       "      <td>Asia</td>\n",
       "      <td>1972</td>\n",
       "      <td>36.088</td>\n",
       "    </tr>\n",
       "    <tr>\n",
       "      <th>...</th>\n",
       "      <td>...</td>\n",
       "      <td>...</td>\n",
       "      <td>...</td>\n",
       "    </tr>\n",
       "    <tr>\n",
       "      <th>1699</th>\n",
       "      <td>Africa</td>\n",
       "      <td>1987</td>\n",
       "      <td>62.351</td>\n",
       "    </tr>\n",
       "    <tr>\n",
       "      <th>1700</th>\n",
       "      <td>Africa</td>\n",
       "      <td>1992</td>\n",
       "      <td>60.377</td>\n",
       "    </tr>\n",
       "    <tr>\n",
       "      <th>1701</th>\n",
       "      <td>Africa</td>\n",
       "      <td>1997</td>\n",
       "      <td>46.809</td>\n",
       "    </tr>\n",
       "    <tr>\n",
       "      <th>1702</th>\n",
       "      <td>Africa</td>\n",
       "      <td>2002</td>\n",
       "      <td>39.989</td>\n",
       "    </tr>\n",
       "    <tr>\n",
       "      <th>1703</th>\n",
       "      <td>Africa</td>\n",
       "      <td>2007</td>\n",
       "      <td>43.487</td>\n",
       "    </tr>\n",
       "  </tbody>\n",
       "</table>\n",
       "<p>1704 rows × 3 columns</p>\n",
       "</div>\n",
       "      <button class=\"colab-df-convert\" onclick=\"convertToInteractive('df-8808e090-cad4-4475-a5a2-d6ef8876fcd5')\"\n",
       "              title=\"Convert this dataframe to an interactive table.\"\n",
       "              style=\"display:none;\">\n",
       "        \n",
       "  <svg xmlns=\"http://www.w3.org/2000/svg\" height=\"24px\"viewBox=\"0 0 24 24\"\n",
       "       width=\"24px\">\n",
       "    <path d=\"M0 0h24v24H0V0z\" fill=\"none\"/>\n",
       "    <path d=\"M18.56 5.44l.94 2.06.94-2.06 2.06-.94-2.06-.94-.94-2.06-.94 2.06-2.06.94zm-11 1L8.5 8.5l.94-2.06 2.06-.94-2.06-.94L8.5 2.5l-.94 2.06-2.06.94zm10 10l.94 2.06.94-2.06 2.06-.94-2.06-.94-.94-2.06-.94 2.06-2.06.94z\"/><path d=\"M17.41 7.96l-1.37-1.37c-.4-.4-.92-.59-1.43-.59-.52 0-1.04.2-1.43.59L10.3 9.45l-7.72 7.72c-.78.78-.78 2.05 0 2.83L4 21.41c.39.39.9.59 1.41.59.51 0 1.02-.2 1.41-.59l7.78-7.78 2.81-2.81c.8-.78.8-2.07 0-2.86zM5.41 20L4 18.59l7.72-7.72 1.47 1.35L5.41 20z\"/>\n",
       "  </svg>\n",
       "      </button>\n",
       "      \n",
       "  <style>\n",
       "    .colab-df-container {\n",
       "      display:flex;\n",
       "      flex-wrap:wrap;\n",
       "      gap: 12px;\n",
       "    }\n",
       "\n",
       "    .colab-df-convert {\n",
       "      background-color: #E8F0FE;\n",
       "      border: none;\n",
       "      border-radius: 50%;\n",
       "      cursor: pointer;\n",
       "      display: none;\n",
       "      fill: #1967D2;\n",
       "      height: 32px;\n",
       "      padding: 0 0 0 0;\n",
       "      width: 32px;\n",
       "    }\n",
       "\n",
       "    .colab-df-convert:hover {\n",
       "      background-color: #E2EBFA;\n",
       "      box-shadow: 0px 1px 2px rgba(60, 64, 67, 0.3), 0px 1px 3px 1px rgba(60, 64, 67, 0.15);\n",
       "      fill: #174EA6;\n",
       "    }\n",
       "\n",
       "    [theme=dark] .colab-df-convert {\n",
       "      background-color: #3B4455;\n",
       "      fill: #D2E3FC;\n",
       "    }\n",
       "\n",
       "    [theme=dark] .colab-df-convert:hover {\n",
       "      background-color: #434B5C;\n",
       "      box-shadow: 0px 1px 3px 1px rgba(0, 0, 0, 0.15);\n",
       "      filter: drop-shadow(0px 1px 2px rgba(0, 0, 0, 0.3));\n",
       "      fill: #FFFFFF;\n",
       "    }\n",
       "  </style>\n",
       "\n",
       "      <script>\n",
       "        const buttonEl =\n",
       "          document.querySelector('#df-8808e090-cad4-4475-a5a2-d6ef8876fcd5 button.colab-df-convert');\n",
       "        buttonEl.style.display =\n",
       "          google.colab.kernel.accessAllowed ? 'block' : 'none';\n",
       "\n",
       "        async function convertToInteractive(key) {\n",
       "          const element = document.querySelector('#df-8808e090-cad4-4475-a5a2-d6ef8876fcd5');\n",
       "          const dataTable =\n",
       "            await google.colab.kernel.invokeFunction('convertToInteractive',\n",
       "                                                     [key], {});\n",
       "          if (!dataTable) return;\n",
       "\n",
       "          const docLinkHtml = 'Like what you see? Visit the ' +\n",
       "            '<a target=\"_blank\" href=https://colab.research.google.com/notebooks/data_table.ipynb>data table notebook</a>'\n",
       "            + ' to learn more about interactive tables.';\n",
       "          element.innerHTML = '';\n",
       "          dataTable['output_type'] = 'display_data';\n",
       "          await google.colab.output.renderOutput(dataTable, element);\n",
       "          const docLink = document.createElement('div');\n",
       "          docLink.innerHTML = docLinkHtml;\n",
       "          element.appendChild(docLink);\n",
       "        }\n",
       "      </script>\n",
       "    </div>\n",
       "  </div>\n",
       "  "
      ]
     },
     "metadata": {},
     "execution_count": 23
    }
   ],
   "source": [
    "world3 = world[['continent', 'year', 'lifeExp']]\n",
    "world3"
   ]
  },
  {
   "cell_type": "code",
   "execution_count": null,
   "metadata": {
    "colab": {
     "base_uri": "https://localhost:8080/",
     "height": 457
    },
    "id": "vLeKqgUp1joa",
    "executionInfo": {
     "status": "ok",
     "timestamp": 1663698183945,
     "user_tz": 420,
     "elapsed": 13,
     "user": {
      "displayName": "Wendy Lee",
      "userId": "00975543233646854828"
     }
    },
    "outputId": "8066a129-8b93-4138-fb95-2c61001b3940"
   },
   "outputs": [
    {
     "output_type": "execute_result",
     "data": {
      "text/plain": [
       "continent  Africa  Americas    Asia  Europe  Oceania\n",
       "year                                                \n",
       "1952       30.000    37.579  28.801  43.585   69.120\n",
       "1957       31.570    40.696  30.332  48.079   70.260\n",
       "1962       32.767    43.428  31.997  52.098   70.930\n",
       "1967       34.113    45.032  34.020  54.336   71.100\n",
       "1972       35.400    46.714  36.088  57.005   71.890\n",
       "1977       36.788    49.923  31.220  59.507   72.220\n",
       "1982       38.445    51.461  39.854  61.036   73.840\n",
       "1987       39.906    53.636  40.822  63.108   74.320\n",
       "1992       23.599    55.089  41.674  66.146   76.330\n",
       "1997       36.087    56.671  41.763  68.835   77.550\n",
       "2002       39.193    58.137  42.129  70.845   79.110\n",
       "2007       39.613    60.916  43.828  71.777   80.204"
      ],
      "text/html": [
       "\n",
       "  <div id=\"df-5d91989f-3b94-4fbd-934c-f5e694550b38\">\n",
       "    <div class=\"colab-df-container\">\n",
       "      <div>\n",
       "<style scoped>\n",
       "    .dataframe tbody tr th:only-of-type {\n",
       "        vertical-align: middle;\n",
       "    }\n",
       "\n",
       "    .dataframe tbody tr th {\n",
       "        vertical-align: top;\n",
       "    }\n",
       "\n",
       "    .dataframe thead th {\n",
       "        text-align: right;\n",
       "    }\n",
       "</style>\n",
       "<table border=\"1\" class=\"dataframe\">\n",
       "  <thead>\n",
       "    <tr style=\"text-align: right;\">\n",
       "      <th>continent</th>\n",
       "      <th>Africa</th>\n",
       "      <th>Americas</th>\n",
       "      <th>Asia</th>\n",
       "      <th>Europe</th>\n",
       "      <th>Oceania</th>\n",
       "    </tr>\n",
       "    <tr>\n",
       "      <th>year</th>\n",
       "      <th></th>\n",
       "      <th></th>\n",
       "      <th></th>\n",
       "      <th></th>\n",
       "      <th></th>\n",
       "    </tr>\n",
       "  </thead>\n",
       "  <tbody>\n",
       "    <tr>\n",
       "      <th>1952</th>\n",
       "      <td>30.000</td>\n",
       "      <td>37.579</td>\n",
       "      <td>28.801</td>\n",
       "      <td>43.585</td>\n",
       "      <td>69.120</td>\n",
       "    </tr>\n",
       "    <tr>\n",
       "      <th>1957</th>\n",
       "      <td>31.570</td>\n",
       "      <td>40.696</td>\n",
       "      <td>30.332</td>\n",
       "      <td>48.079</td>\n",
       "      <td>70.260</td>\n",
       "    </tr>\n",
       "    <tr>\n",
       "      <th>1962</th>\n",
       "      <td>32.767</td>\n",
       "      <td>43.428</td>\n",
       "      <td>31.997</td>\n",
       "      <td>52.098</td>\n",
       "      <td>70.930</td>\n",
       "    </tr>\n",
       "    <tr>\n",
       "      <th>1967</th>\n",
       "      <td>34.113</td>\n",
       "      <td>45.032</td>\n",
       "      <td>34.020</td>\n",
       "      <td>54.336</td>\n",
       "      <td>71.100</td>\n",
       "    </tr>\n",
       "    <tr>\n",
       "      <th>1972</th>\n",
       "      <td>35.400</td>\n",
       "      <td>46.714</td>\n",
       "      <td>36.088</td>\n",
       "      <td>57.005</td>\n",
       "      <td>71.890</td>\n",
       "    </tr>\n",
       "    <tr>\n",
       "      <th>1977</th>\n",
       "      <td>36.788</td>\n",
       "      <td>49.923</td>\n",
       "      <td>31.220</td>\n",
       "      <td>59.507</td>\n",
       "      <td>72.220</td>\n",
       "    </tr>\n",
       "    <tr>\n",
       "      <th>1982</th>\n",
       "      <td>38.445</td>\n",
       "      <td>51.461</td>\n",
       "      <td>39.854</td>\n",
       "      <td>61.036</td>\n",
       "      <td>73.840</td>\n",
       "    </tr>\n",
       "    <tr>\n",
       "      <th>1987</th>\n",
       "      <td>39.906</td>\n",
       "      <td>53.636</td>\n",
       "      <td>40.822</td>\n",
       "      <td>63.108</td>\n",
       "      <td>74.320</td>\n",
       "    </tr>\n",
       "    <tr>\n",
       "      <th>1992</th>\n",
       "      <td>23.599</td>\n",
       "      <td>55.089</td>\n",
       "      <td>41.674</td>\n",
       "      <td>66.146</td>\n",
       "      <td>76.330</td>\n",
       "    </tr>\n",
       "    <tr>\n",
       "      <th>1997</th>\n",
       "      <td>36.087</td>\n",
       "      <td>56.671</td>\n",
       "      <td>41.763</td>\n",
       "      <td>68.835</td>\n",
       "      <td>77.550</td>\n",
       "    </tr>\n",
       "    <tr>\n",
       "      <th>2002</th>\n",
       "      <td>39.193</td>\n",
       "      <td>58.137</td>\n",
       "      <td>42.129</td>\n",
       "      <td>70.845</td>\n",
       "      <td>79.110</td>\n",
       "    </tr>\n",
       "    <tr>\n",
       "      <th>2007</th>\n",
       "      <td>39.613</td>\n",
       "      <td>60.916</td>\n",
       "      <td>43.828</td>\n",
       "      <td>71.777</td>\n",
       "      <td>80.204</td>\n",
       "    </tr>\n",
       "  </tbody>\n",
       "</table>\n",
       "</div>\n",
       "      <button class=\"colab-df-convert\" onclick=\"convertToInteractive('df-5d91989f-3b94-4fbd-934c-f5e694550b38')\"\n",
       "              title=\"Convert this dataframe to an interactive table.\"\n",
       "              style=\"display:none;\">\n",
       "        \n",
       "  <svg xmlns=\"http://www.w3.org/2000/svg\" height=\"24px\"viewBox=\"0 0 24 24\"\n",
       "       width=\"24px\">\n",
       "    <path d=\"M0 0h24v24H0V0z\" fill=\"none\"/>\n",
       "    <path d=\"M18.56 5.44l.94 2.06.94-2.06 2.06-.94-2.06-.94-.94-2.06-.94 2.06-2.06.94zm-11 1L8.5 8.5l.94-2.06 2.06-.94-2.06-.94L8.5 2.5l-.94 2.06-2.06.94zm10 10l.94 2.06.94-2.06 2.06-.94-2.06-.94-.94-2.06-.94 2.06-2.06.94z\"/><path d=\"M17.41 7.96l-1.37-1.37c-.4-.4-.92-.59-1.43-.59-.52 0-1.04.2-1.43.59L10.3 9.45l-7.72 7.72c-.78.78-.78 2.05 0 2.83L4 21.41c.39.39.9.59 1.41.59.51 0 1.02-.2 1.41-.59l7.78-7.78 2.81-2.81c.8-.78.8-2.07 0-2.86zM5.41 20L4 18.59l7.72-7.72 1.47 1.35L5.41 20z\"/>\n",
       "  </svg>\n",
       "      </button>\n",
       "      \n",
       "  <style>\n",
       "    .colab-df-container {\n",
       "      display:flex;\n",
       "      flex-wrap:wrap;\n",
       "      gap: 12px;\n",
       "    }\n",
       "\n",
       "    .colab-df-convert {\n",
       "      background-color: #E8F0FE;\n",
       "      border: none;\n",
       "      border-radius: 50%;\n",
       "      cursor: pointer;\n",
       "      display: none;\n",
       "      fill: #1967D2;\n",
       "      height: 32px;\n",
       "      padding: 0 0 0 0;\n",
       "      width: 32px;\n",
       "    }\n",
       "\n",
       "    .colab-df-convert:hover {\n",
       "      background-color: #E2EBFA;\n",
       "      box-shadow: 0px 1px 2px rgba(60, 64, 67, 0.3), 0px 1px 3px 1px rgba(60, 64, 67, 0.15);\n",
       "      fill: #174EA6;\n",
       "    }\n",
       "\n",
       "    [theme=dark] .colab-df-convert {\n",
       "      background-color: #3B4455;\n",
       "      fill: #D2E3FC;\n",
       "    }\n",
       "\n",
       "    [theme=dark] .colab-df-convert:hover {\n",
       "      background-color: #434B5C;\n",
       "      box-shadow: 0px 1px 3px 1px rgba(0, 0, 0, 0.15);\n",
       "      filter: drop-shadow(0px 1px 2px rgba(0, 0, 0, 0.3));\n",
       "      fill: #FFFFFF;\n",
       "    }\n",
       "  </style>\n",
       "\n",
       "      <script>\n",
       "        const buttonEl =\n",
       "          document.querySelector('#df-5d91989f-3b94-4fbd-934c-f5e694550b38 button.colab-df-convert');\n",
       "        buttonEl.style.display =\n",
       "          google.colab.kernel.accessAllowed ? 'block' : 'none';\n",
       "\n",
       "        async function convertToInteractive(key) {\n",
       "          const element = document.querySelector('#df-5d91989f-3b94-4fbd-934c-f5e694550b38');\n",
       "          const dataTable =\n",
       "            await google.colab.kernel.invokeFunction('convertToInteractive',\n",
       "                                                     [key], {});\n",
       "          if (!dataTable) return;\n",
       "\n",
       "          const docLinkHtml = 'Like what you see? Visit the ' +\n",
       "            '<a target=\"_blank\" href=https://colab.research.google.com/notebooks/data_table.ipynb>data table notebook</a>'\n",
       "            + ' to learn more about interactive tables.';\n",
       "          element.innerHTML = '';\n",
       "          dataTable['output_type'] = 'display_data';\n",
       "          await google.colab.output.renderOutput(dataTable, element);\n",
       "          const docLink = document.createElement('div');\n",
       "          docLink.innerHTML = docLinkHtml;\n",
       "          element.appendChild(docLink);\n",
       "        }\n",
       "      </script>\n",
       "    </div>\n",
       "  </div>\n",
       "  "
      ]
     },
     "metadata": {},
     "execution_count": 24
    }
   ],
   "source": [
    "# pivot table example with three columns\n",
    "pd.pivot_table(world3, values='lifeExp',\n",
    "               index=['year'],\n",
    "               columns='continent',\n",
    "               aggfunc='min'\n",
    "               )"
   ]
  },
  {
   "cell_type": "markdown",
   "metadata": {
    "id": "0Cp-9_k41joa"
   },
   "source": [
    "## `pivot_table` with Different Aggregating Function\n",
    "`pivot_table` uses mean function for aggregating or summarizing data by default. We can change the aggregating function, if needed. For example, we can use `aggfunc='min'` to compute \"minimum\" lifeExp instead of \"mean\" lifeExp for each year and continent values."
   ]
  },
  {
   "cell_type": "code",
   "execution_count": null,
   "metadata": {
    "colab": {
     "base_uri": "https://localhost:8080/",
     "height": 457
    },
    "id": "4jzei2l-1joa",
    "executionInfo": {
     "status": "ok",
     "timestamp": 1663698183945,
     "user_tz": 420,
     "elapsed": 12,
     "user": {
      "displayName": "Wendy Lee",
      "userId": "00975543233646854828"
     }
    },
    "outputId": "67733047-b9c4-4683-994a-615f54af2b68"
   },
   "outputs": [
    {
     "output_type": "execute_result",
     "data": {
      "text/plain": [
       "continent  Africa  Americas    Asia  Europe  Oceania\n",
       "year                                                \n",
       "1952       30.000    37.579  28.801  43.585   69.120\n",
       "1957       31.570    40.696  30.332  48.079   70.260\n",
       "1962       32.767    43.428  31.997  52.098   70.930\n",
       "1967       34.113    45.032  34.020  54.336   71.100\n",
       "1972       35.400    46.714  36.088  57.005   71.890\n",
       "1977       36.788    49.923  31.220  59.507   72.220\n",
       "1982       38.445    51.461  39.854  61.036   73.840\n",
       "1987       39.906    53.636  40.822  63.108   74.320\n",
       "1992       23.599    55.089  41.674  66.146   76.330\n",
       "1997       36.087    56.671  41.763  68.835   77.550\n",
       "2002       39.193    58.137  42.129  70.845   79.110\n",
       "2007       39.613    60.916  43.828  71.777   80.204"
      ],
      "text/html": [
       "\n",
       "  <div id=\"df-e22847ff-418c-4401-89ad-414a5429f03e\">\n",
       "    <div class=\"colab-df-container\">\n",
       "      <div>\n",
       "<style scoped>\n",
       "    .dataframe tbody tr th:only-of-type {\n",
       "        vertical-align: middle;\n",
       "    }\n",
       "\n",
       "    .dataframe tbody tr th {\n",
       "        vertical-align: top;\n",
       "    }\n",
       "\n",
       "    .dataframe thead th {\n",
       "        text-align: right;\n",
       "    }\n",
       "</style>\n",
       "<table border=\"1\" class=\"dataframe\">\n",
       "  <thead>\n",
       "    <tr style=\"text-align: right;\">\n",
       "      <th>continent</th>\n",
       "      <th>Africa</th>\n",
       "      <th>Americas</th>\n",
       "      <th>Asia</th>\n",
       "      <th>Europe</th>\n",
       "      <th>Oceania</th>\n",
       "    </tr>\n",
       "    <tr>\n",
       "      <th>year</th>\n",
       "      <th></th>\n",
       "      <th></th>\n",
       "      <th></th>\n",
       "      <th></th>\n",
       "      <th></th>\n",
       "    </tr>\n",
       "  </thead>\n",
       "  <tbody>\n",
       "    <tr>\n",
       "      <th>1952</th>\n",
       "      <td>30.000</td>\n",
       "      <td>37.579</td>\n",
       "      <td>28.801</td>\n",
       "      <td>43.585</td>\n",
       "      <td>69.120</td>\n",
       "    </tr>\n",
       "    <tr>\n",
       "      <th>1957</th>\n",
       "      <td>31.570</td>\n",
       "      <td>40.696</td>\n",
       "      <td>30.332</td>\n",
       "      <td>48.079</td>\n",
       "      <td>70.260</td>\n",
       "    </tr>\n",
       "    <tr>\n",
       "      <th>1962</th>\n",
       "      <td>32.767</td>\n",
       "      <td>43.428</td>\n",
       "      <td>31.997</td>\n",
       "      <td>52.098</td>\n",
       "      <td>70.930</td>\n",
       "    </tr>\n",
       "    <tr>\n",
       "      <th>1967</th>\n",
       "      <td>34.113</td>\n",
       "      <td>45.032</td>\n",
       "      <td>34.020</td>\n",
       "      <td>54.336</td>\n",
       "      <td>71.100</td>\n",
       "    </tr>\n",
       "    <tr>\n",
       "      <th>1972</th>\n",
       "      <td>35.400</td>\n",
       "      <td>46.714</td>\n",
       "      <td>36.088</td>\n",
       "      <td>57.005</td>\n",
       "      <td>71.890</td>\n",
       "    </tr>\n",
       "    <tr>\n",
       "      <th>1977</th>\n",
       "      <td>36.788</td>\n",
       "      <td>49.923</td>\n",
       "      <td>31.220</td>\n",
       "      <td>59.507</td>\n",
       "      <td>72.220</td>\n",
       "    </tr>\n",
       "    <tr>\n",
       "      <th>1982</th>\n",
       "      <td>38.445</td>\n",
       "      <td>51.461</td>\n",
       "      <td>39.854</td>\n",
       "      <td>61.036</td>\n",
       "      <td>73.840</td>\n",
       "    </tr>\n",
       "    <tr>\n",
       "      <th>1987</th>\n",
       "      <td>39.906</td>\n",
       "      <td>53.636</td>\n",
       "      <td>40.822</td>\n",
       "      <td>63.108</td>\n",
       "      <td>74.320</td>\n",
       "    </tr>\n",
       "    <tr>\n",
       "      <th>1992</th>\n",
       "      <td>23.599</td>\n",
       "      <td>55.089</td>\n",
       "      <td>41.674</td>\n",
       "      <td>66.146</td>\n",
       "      <td>76.330</td>\n",
       "    </tr>\n",
       "    <tr>\n",
       "      <th>1997</th>\n",
       "      <td>36.087</td>\n",
       "      <td>56.671</td>\n",
       "      <td>41.763</td>\n",
       "      <td>68.835</td>\n",
       "      <td>77.550</td>\n",
       "    </tr>\n",
       "    <tr>\n",
       "      <th>2002</th>\n",
       "      <td>39.193</td>\n",
       "      <td>58.137</td>\n",
       "      <td>42.129</td>\n",
       "      <td>70.845</td>\n",
       "      <td>79.110</td>\n",
       "    </tr>\n",
       "    <tr>\n",
       "      <th>2007</th>\n",
       "      <td>39.613</td>\n",
       "      <td>60.916</td>\n",
       "      <td>43.828</td>\n",
       "      <td>71.777</td>\n",
       "      <td>80.204</td>\n",
       "    </tr>\n",
       "  </tbody>\n",
       "</table>\n",
       "</div>\n",
       "      <button class=\"colab-df-convert\" onclick=\"convertToInteractive('df-e22847ff-418c-4401-89ad-414a5429f03e')\"\n",
       "              title=\"Convert this dataframe to an interactive table.\"\n",
       "              style=\"display:none;\">\n",
       "        \n",
       "  <svg xmlns=\"http://www.w3.org/2000/svg\" height=\"24px\"viewBox=\"0 0 24 24\"\n",
       "       width=\"24px\">\n",
       "    <path d=\"M0 0h24v24H0V0z\" fill=\"none\"/>\n",
       "    <path d=\"M18.56 5.44l.94 2.06.94-2.06 2.06-.94-2.06-.94-.94-2.06-.94 2.06-2.06.94zm-11 1L8.5 8.5l.94-2.06 2.06-.94-2.06-.94L8.5 2.5l-.94 2.06-2.06.94zm10 10l.94 2.06.94-2.06 2.06-.94-2.06-.94-.94-2.06-.94 2.06-2.06.94z\"/><path d=\"M17.41 7.96l-1.37-1.37c-.4-.4-.92-.59-1.43-.59-.52 0-1.04.2-1.43.59L10.3 9.45l-7.72 7.72c-.78.78-.78 2.05 0 2.83L4 21.41c.39.39.9.59 1.41.59.51 0 1.02-.2 1.41-.59l7.78-7.78 2.81-2.81c.8-.78.8-2.07 0-2.86zM5.41 20L4 18.59l7.72-7.72 1.47 1.35L5.41 20z\"/>\n",
       "  </svg>\n",
       "      </button>\n",
       "      \n",
       "  <style>\n",
       "    .colab-df-container {\n",
       "      display:flex;\n",
       "      flex-wrap:wrap;\n",
       "      gap: 12px;\n",
       "    }\n",
       "\n",
       "    .colab-df-convert {\n",
       "      background-color: #E8F0FE;\n",
       "      border: none;\n",
       "      border-radius: 50%;\n",
       "      cursor: pointer;\n",
       "      display: none;\n",
       "      fill: #1967D2;\n",
       "      height: 32px;\n",
       "      padding: 0 0 0 0;\n",
       "      width: 32px;\n",
       "    }\n",
       "\n",
       "    .colab-df-convert:hover {\n",
       "      background-color: #E2EBFA;\n",
       "      box-shadow: 0px 1px 2px rgba(60, 64, 67, 0.3), 0px 1px 3px 1px rgba(60, 64, 67, 0.15);\n",
       "      fill: #174EA6;\n",
       "    }\n",
       "\n",
       "    [theme=dark] .colab-df-convert {\n",
       "      background-color: #3B4455;\n",
       "      fill: #D2E3FC;\n",
       "    }\n",
       "\n",
       "    [theme=dark] .colab-df-convert:hover {\n",
       "      background-color: #434B5C;\n",
       "      box-shadow: 0px 1px 3px 1px rgba(0, 0, 0, 0.15);\n",
       "      filter: drop-shadow(0px 1px 2px rgba(0, 0, 0, 0.3));\n",
       "      fill: #FFFFFF;\n",
       "    }\n",
       "  </style>\n",
       "\n",
       "      <script>\n",
       "        const buttonEl =\n",
       "          document.querySelector('#df-e22847ff-418c-4401-89ad-414a5429f03e button.colab-df-convert');\n",
       "        buttonEl.style.display =\n",
       "          google.colab.kernel.accessAllowed ? 'block' : 'none';\n",
       "\n",
       "        async function convertToInteractive(key) {\n",
       "          const element = document.querySelector('#df-e22847ff-418c-4401-89ad-414a5429f03e');\n",
       "          const dataTable =\n",
       "            await google.colab.kernel.invokeFunction('convertToInteractive',\n",
       "                                                     [key], {});\n",
       "          if (!dataTable) return;\n",
       "\n",
       "          const docLinkHtml = 'Like what you see? Visit the ' +\n",
       "            '<a target=\"_blank\" href=https://colab.research.google.com/notebooks/data_table.ipynb>data table notebook</a>'\n",
       "            + ' to learn more about interactive tables.';\n",
       "          element.innerHTML = '';\n",
       "          dataTable['output_type'] = 'display_data';\n",
       "          await google.colab.output.renderOutput(dataTable, element);\n",
       "          const docLink = document.createElement('div');\n",
       "          docLink.innerHTML = docLinkHtml;\n",
       "          element.appendChild(docLink);\n",
       "        }\n",
       "      </script>\n",
       "    </div>\n",
       "  </div>\n",
       "  "
      ]
     },
     "metadata": {},
     "execution_count": 25
    }
   ],
   "source": [
    "pd.pivot_table(world3, values='lifeExp',\n",
    "               index=['year'],\n",
    "               columns='continent',\n",
    "               aggfunc='min')"
   ]
  },
  {
   "cell_type": "markdown",
   "metadata": {
    "id": "Myg-RB-z1joa"
   },
   "source": [
    "We can also specify more than one aggregating functions. For example, if we are interested in bot minimum and maximum values of lifeExp for each year and continent, we can specify the functions as a list to the argument \"aggfunc\"."
   ]
  },
  {
   "cell_type": "code",
   "execution_count": null,
   "metadata": {
    "colab": {
     "base_uri": "https://localhost:8080/",
     "height": 488
    },
    "id": "aYuV5b9V1joa",
    "executionInfo": {
     "status": "ok",
     "timestamp": 1663698183945,
     "user_tz": 420,
     "elapsed": 11,
     "user": {
      "displayName": "Wendy Lee",
      "userId": "00975543233646854828"
     }
    },
    "outputId": "d635eb03-0efa-4f8b-ec49-61e9a74ea73a"
   },
   "outputs": [
    {
     "output_type": "execute_result",
     "data": {
      "text/plain": [
       "              min                                      max                   \\\n",
       "continent  Africa Americas    Asia  Europe Oceania  Africa Americas    Asia   \n",
       "year                                                                          \n",
       "1952       30.000   37.579  28.801  43.585  69.120  52.724   68.750  65.390   \n",
       "1957       31.570   40.696  30.332  48.079  70.260  58.089   69.960  67.840   \n",
       "1962       32.767   43.428  31.997  52.098  70.930  60.246   71.300  69.390   \n",
       "1967       34.113   45.032  34.020  54.336  71.100  61.557   72.130  71.430   \n",
       "1972       35.400   46.714  36.088  57.005  71.890  64.274   72.880  73.420   \n",
       "1977       36.788   49.923  31.220  59.507  72.220  67.064   74.210  75.380   \n",
       "1982       38.445   51.461  39.854  61.036  73.840  69.885   75.760  77.110   \n",
       "1987       39.906   53.636  40.822  63.108  74.320  71.913   76.860  78.670   \n",
       "1992       23.599   55.089  41.674  66.146  76.330  73.615   77.950  79.360   \n",
       "1997       36.087   56.671  41.763  68.835  77.550  74.772   78.610  80.690   \n",
       "2002       39.193   58.137  42.129  70.845  79.110  75.744   79.770  82.000   \n",
       "2007       39.613   60.916  43.828  71.777  80.204  76.442   80.653  82.603   \n",
       "\n",
       "                                mean                                           \n",
       "continent  Europe Oceania     Africa  Americas       Asia     Europe  Oceania  \n",
       "year                                                                           \n",
       "1952       72.670  69.390  39.135500  53.27984  46.314394  64.408500  69.2550  \n",
       "1957       73.470  70.330  41.266346  55.96028  49.318544  66.703067  70.2950  \n",
       "1962       73.680  71.240  43.319442  58.39876  51.563223  68.539233  71.0850  \n",
       "1967       74.160  71.520  45.334538  60.41092  54.663640  69.737600  71.3100  \n",
       "1972       74.720  71.930  47.450942  62.39492  57.319269  70.775033  71.9100  \n",
       "1977       76.110  73.490  49.580423  64.39156  59.610556  71.937767  72.8550  \n",
       "1982       76.990  74.740  51.592865  66.22884  62.617939  72.806400  74.2900  \n",
       "1987       77.410  76.320  53.344788  68.09072  64.851182  73.642167  75.3200  \n",
       "1992       78.770  77.560  53.629577  69.56836  66.537212  74.440100  76.9450  \n",
       "1997       79.390  78.830  53.598269  71.15048  68.020515  75.505167  78.1900  \n",
       "2002       80.620  80.370  53.325231  72.42204  69.233879  76.700600  79.7400  \n",
       "2007       81.757  81.235  54.806038  73.60812  70.728485  77.648600  80.7195  "
      ],
      "text/html": [
       "\n",
       "  <div id=\"df-36856f9c-be66-493c-9a02-62be1c07eeda\">\n",
       "    <div class=\"colab-df-container\">\n",
       "      <div>\n",
       "<style scoped>\n",
       "    .dataframe tbody tr th:only-of-type {\n",
       "        vertical-align: middle;\n",
       "    }\n",
       "\n",
       "    .dataframe tbody tr th {\n",
       "        vertical-align: top;\n",
       "    }\n",
       "\n",
       "    .dataframe thead tr th {\n",
       "        text-align: left;\n",
       "    }\n",
       "\n",
       "    .dataframe thead tr:last-of-type th {\n",
       "        text-align: right;\n",
       "    }\n",
       "</style>\n",
       "<table border=\"1\" class=\"dataframe\">\n",
       "  <thead>\n",
       "    <tr>\n",
       "      <th></th>\n",
       "      <th colspan=\"5\" halign=\"left\">min</th>\n",
       "      <th colspan=\"5\" halign=\"left\">max</th>\n",
       "      <th colspan=\"5\" halign=\"left\">mean</th>\n",
       "    </tr>\n",
       "    <tr>\n",
       "      <th>continent</th>\n",
       "      <th>Africa</th>\n",
       "      <th>Americas</th>\n",
       "      <th>Asia</th>\n",
       "      <th>Europe</th>\n",
       "      <th>Oceania</th>\n",
       "      <th>Africa</th>\n",
       "      <th>Americas</th>\n",
       "      <th>Asia</th>\n",
       "      <th>Europe</th>\n",
       "      <th>Oceania</th>\n",
       "      <th>Africa</th>\n",
       "      <th>Americas</th>\n",
       "      <th>Asia</th>\n",
       "      <th>Europe</th>\n",
       "      <th>Oceania</th>\n",
       "    </tr>\n",
       "    <tr>\n",
       "      <th>year</th>\n",
       "      <th></th>\n",
       "      <th></th>\n",
       "      <th></th>\n",
       "      <th></th>\n",
       "      <th></th>\n",
       "      <th></th>\n",
       "      <th></th>\n",
       "      <th></th>\n",
       "      <th></th>\n",
       "      <th></th>\n",
       "      <th></th>\n",
       "      <th></th>\n",
       "      <th></th>\n",
       "      <th></th>\n",
       "      <th></th>\n",
       "    </tr>\n",
       "  </thead>\n",
       "  <tbody>\n",
       "    <tr>\n",
       "      <th>1952</th>\n",
       "      <td>30.000</td>\n",
       "      <td>37.579</td>\n",
       "      <td>28.801</td>\n",
       "      <td>43.585</td>\n",
       "      <td>69.120</td>\n",
       "      <td>52.724</td>\n",
       "      <td>68.750</td>\n",
       "      <td>65.390</td>\n",
       "      <td>72.670</td>\n",
       "      <td>69.390</td>\n",
       "      <td>39.135500</td>\n",
       "      <td>53.27984</td>\n",
       "      <td>46.314394</td>\n",
       "      <td>64.408500</td>\n",
       "      <td>69.2550</td>\n",
       "    </tr>\n",
       "    <tr>\n",
       "      <th>1957</th>\n",
       "      <td>31.570</td>\n",
       "      <td>40.696</td>\n",
       "      <td>30.332</td>\n",
       "      <td>48.079</td>\n",
       "      <td>70.260</td>\n",
       "      <td>58.089</td>\n",
       "      <td>69.960</td>\n",
       "      <td>67.840</td>\n",
       "      <td>73.470</td>\n",
       "      <td>70.330</td>\n",
       "      <td>41.266346</td>\n",
       "      <td>55.96028</td>\n",
       "      <td>49.318544</td>\n",
       "      <td>66.703067</td>\n",
       "      <td>70.2950</td>\n",
       "    </tr>\n",
       "    <tr>\n",
       "      <th>1962</th>\n",
       "      <td>32.767</td>\n",
       "      <td>43.428</td>\n",
       "      <td>31.997</td>\n",
       "      <td>52.098</td>\n",
       "      <td>70.930</td>\n",
       "      <td>60.246</td>\n",
       "      <td>71.300</td>\n",
       "      <td>69.390</td>\n",
       "      <td>73.680</td>\n",
       "      <td>71.240</td>\n",
       "      <td>43.319442</td>\n",
       "      <td>58.39876</td>\n",
       "      <td>51.563223</td>\n",
       "      <td>68.539233</td>\n",
       "      <td>71.0850</td>\n",
       "    </tr>\n",
       "    <tr>\n",
       "      <th>1967</th>\n",
       "      <td>34.113</td>\n",
       "      <td>45.032</td>\n",
       "      <td>34.020</td>\n",
       "      <td>54.336</td>\n",
       "      <td>71.100</td>\n",
       "      <td>61.557</td>\n",
       "      <td>72.130</td>\n",
       "      <td>71.430</td>\n",
       "      <td>74.160</td>\n",
       "      <td>71.520</td>\n",
       "      <td>45.334538</td>\n",
       "      <td>60.41092</td>\n",
       "      <td>54.663640</td>\n",
       "      <td>69.737600</td>\n",
       "      <td>71.3100</td>\n",
       "    </tr>\n",
       "    <tr>\n",
       "      <th>1972</th>\n",
       "      <td>35.400</td>\n",
       "      <td>46.714</td>\n",
       "      <td>36.088</td>\n",
       "      <td>57.005</td>\n",
       "      <td>71.890</td>\n",
       "      <td>64.274</td>\n",
       "      <td>72.880</td>\n",
       "      <td>73.420</td>\n",
       "      <td>74.720</td>\n",
       "      <td>71.930</td>\n",
       "      <td>47.450942</td>\n",
       "      <td>62.39492</td>\n",
       "      <td>57.319269</td>\n",
       "      <td>70.775033</td>\n",
       "      <td>71.9100</td>\n",
       "    </tr>\n",
       "    <tr>\n",
       "      <th>1977</th>\n",
       "      <td>36.788</td>\n",
       "      <td>49.923</td>\n",
       "      <td>31.220</td>\n",
       "      <td>59.507</td>\n",
       "      <td>72.220</td>\n",
       "      <td>67.064</td>\n",
       "      <td>74.210</td>\n",
       "      <td>75.380</td>\n",
       "      <td>76.110</td>\n",
       "      <td>73.490</td>\n",
       "      <td>49.580423</td>\n",
       "      <td>64.39156</td>\n",
       "      <td>59.610556</td>\n",
       "      <td>71.937767</td>\n",
       "      <td>72.8550</td>\n",
       "    </tr>\n",
       "    <tr>\n",
       "      <th>1982</th>\n",
       "      <td>38.445</td>\n",
       "      <td>51.461</td>\n",
       "      <td>39.854</td>\n",
       "      <td>61.036</td>\n",
       "      <td>73.840</td>\n",
       "      <td>69.885</td>\n",
       "      <td>75.760</td>\n",
       "      <td>77.110</td>\n",
       "      <td>76.990</td>\n",
       "      <td>74.740</td>\n",
       "      <td>51.592865</td>\n",
       "      <td>66.22884</td>\n",
       "      <td>62.617939</td>\n",
       "      <td>72.806400</td>\n",
       "      <td>74.2900</td>\n",
       "    </tr>\n",
       "    <tr>\n",
       "      <th>1987</th>\n",
       "      <td>39.906</td>\n",
       "      <td>53.636</td>\n",
       "      <td>40.822</td>\n",
       "      <td>63.108</td>\n",
       "      <td>74.320</td>\n",
       "      <td>71.913</td>\n",
       "      <td>76.860</td>\n",
       "      <td>78.670</td>\n",
       "      <td>77.410</td>\n",
       "      <td>76.320</td>\n",
       "      <td>53.344788</td>\n",
       "      <td>68.09072</td>\n",
       "      <td>64.851182</td>\n",
       "      <td>73.642167</td>\n",
       "      <td>75.3200</td>\n",
       "    </tr>\n",
       "    <tr>\n",
       "      <th>1992</th>\n",
       "      <td>23.599</td>\n",
       "      <td>55.089</td>\n",
       "      <td>41.674</td>\n",
       "      <td>66.146</td>\n",
       "      <td>76.330</td>\n",
       "      <td>73.615</td>\n",
       "      <td>77.950</td>\n",
       "      <td>79.360</td>\n",
       "      <td>78.770</td>\n",
       "      <td>77.560</td>\n",
       "      <td>53.629577</td>\n",
       "      <td>69.56836</td>\n",
       "      <td>66.537212</td>\n",
       "      <td>74.440100</td>\n",
       "      <td>76.9450</td>\n",
       "    </tr>\n",
       "    <tr>\n",
       "      <th>1997</th>\n",
       "      <td>36.087</td>\n",
       "      <td>56.671</td>\n",
       "      <td>41.763</td>\n",
       "      <td>68.835</td>\n",
       "      <td>77.550</td>\n",
       "      <td>74.772</td>\n",
       "      <td>78.610</td>\n",
       "      <td>80.690</td>\n",
       "      <td>79.390</td>\n",
       "      <td>78.830</td>\n",
       "      <td>53.598269</td>\n",
       "      <td>71.15048</td>\n",
       "      <td>68.020515</td>\n",
       "      <td>75.505167</td>\n",
       "      <td>78.1900</td>\n",
       "    </tr>\n",
       "    <tr>\n",
       "      <th>2002</th>\n",
       "      <td>39.193</td>\n",
       "      <td>58.137</td>\n",
       "      <td>42.129</td>\n",
       "      <td>70.845</td>\n",
       "      <td>79.110</td>\n",
       "      <td>75.744</td>\n",
       "      <td>79.770</td>\n",
       "      <td>82.000</td>\n",
       "      <td>80.620</td>\n",
       "      <td>80.370</td>\n",
       "      <td>53.325231</td>\n",
       "      <td>72.42204</td>\n",
       "      <td>69.233879</td>\n",
       "      <td>76.700600</td>\n",
       "      <td>79.7400</td>\n",
       "    </tr>\n",
       "    <tr>\n",
       "      <th>2007</th>\n",
       "      <td>39.613</td>\n",
       "      <td>60.916</td>\n",
       "      <td>43.828</td>\n",
       "      <td>71.777</td>\n",
       "      <td>80.204</td>\n",
       "      <td>76.442</td>\n",
       "      <td>80.653</td>\n",
       "      <td>82.603</td>\n",
       "      <td>81.757</td>\n",
       "      <td>81.235</td>\n",
       "      <td>54.806038</td>\n",
       "      <td>73.60812</td>\n",
       "      <td>70.728485</td>\n",
       "      <td>77.648600</td>\n",
       "      <td>80.7195</td>\n",
       "    </tr>\n",
       "  </tbody>\n",
       "</table>\n",
       "</div>\n",
       "      <button class=\"colab-df-convert\" onclick=\"convertToInteractive('df-36856f9c-be66-493c-9a02-62be1c07eeda')\"\n",
       "              title=\"Convert this dataframe to an interactive table.\"\n",
       "              style=\"display:none;\">\n",
       "        \n",
       "  <svg xmlns=\"http://www.w3.org/2000/svg\" height=\"24px\"viewBox=\"0 0 24 24\"\n",
       "       width=\"24px\">\n",
       "    <path d=\"M0 0h24v24H0V0z\" fill=\"none\"/>\n",
       "    <path d=\"M18.56 5.44l.94 2.06.94-2.06 2.06-.94-2.06-.94-.94-2.06-.94 2.06-2.06.94zm-11 1L8.5 8.5l.94-2.06 2.06-.94-2.06-.94L8.5 2.5l-.94 2.06-2.06.94zm10 10l.94 2.06.94-2.06 2.06-.94-2.06-.94-.94-2.06-.94 2.06-2.06.94z\"/><path d=\"M17.41 7.96l-1.37-1.37c-.4-.4-.92-.59-1.43-.59-.52 0-1.04.2-1.43.59L10.3 9.45l-7.72 7.72c-.78.78-.78 2.05 0 2.83L4 21.41c.39.39.9.59 1.41.59.51 0 1.02-.2 1.41-.59l7.78-7.78 2.81-2.81c.8-.78.8-2.07 0-2.86zM5.41 20L4 18.59l7.72-7.72 1.47 1.35L5.41 20z\"/>\n",
       "  </svg>\n",
       "      </button>\n",
       "      \n",
       "  <style>\n",
       "    .colab-df-container {\n",
       "      display:flex;\n",
       "      flex-wrap:wrap;\n",
       "      gap: 12px;\n",
       "    }\n",
       "\n",
       "    .colab-df-convert {\n",
       "      background-color: #E8F0FE;\n",
       "      border: none;\n",
       "      border-radius: 50%;\n",
       "      cursor: pointer;\n",
       "      display: none;\n",
       "      fill: #1967D2;\n",
       "      height: 32px;\n",
       "      padding: 0 0 0 0;\n",
       "      width: 32px;\n",
       "    }\n",
       "\n",
       "    .colab-df-convert:hover {\n",
       "      background-color: #E2EBFA;\n",
       "      box-shadow: 0px 1px 2px rgba(60, 64, 67, 0.3), 0px 1px 3px 1px rgba(60, 64, 67, 0.15);\n",
       "      fill: #174EA6;\n",
       "    }\n",
       "\n",
       "    [theme=dark] .colab-df-convert {\n",
       "      background-color: #3B4455;\n",
       "      fill: #D2E3FC;\n",
       "    }\n",
       "\n",
       "    [theme=dark] .colab-df-convert:hover {\n",
       "      background-color: #434B5C;\n",
       "      box-shadow: 0px 1px 3px 1px rgba(0, 0, 0, 0.15);\n",
       "      filter: drop-shadow(0px 1px 2px rgba(0, 0, 0, 0.3));\n",
       "      fill: #FFFFFF;\n",
       "    }\n",
       "  </style>\n",
       "\n",
       "      <script>\n",
       "        const buttonEl =\n",
       "          document.querySelector('#df-36856f9c-be66-493c-9a02-62be1c07eeda button.colab-df-convert');\n",
       "        buttonEl.style.display =\n",
       "          google.colab.kernel.accessAllowed ? 'block' : 'none';\n",
       "\n",
       "        async function convertToInteractive(key) {\n",
       "          const element = document.querySelector('#df-36856f9c-be66-493c-9a02-62be1c07eeda');\n",
       "          const dataTable =\n",
       "            await google.colab.kernel.invokeFunction('convertToInteractive',\n",
       "                                                     [key], {});\n",
       "          if (!dataTable) return;\n",
       "\n",
       "          const docLinkHtml = 'Like what you see? Visit the ' +\n",
       "            '<a target=\"_blank\" href=https://colab.research.google.com/notebooks/data_table.ipynb>data table notebook</a>'\n",
       "            + ' to learn more about interactive tables.';\n",
       "          element.innerHTML = '';\n",
       "          dataTable['output_type'] = 'display_data';\n",
       "          await google.colab.output.renderOutput(dataTable, element);\n",
       "          const docLink = document.createElement('div');\n",
       "          docLink.innerHTML = docLinkHtml;\n",
       "          element.appendChild(docLink);\n",
       "        }\n",
       "      </script>\n",
       "    </div>\n",
       "  </div>\n",
       "  "
      ]
     },
     "metadata": {},
     "execution_count": 26
    }
   ],
   "source": [
    "pd.pivot_table(world3, values='lifeExp',\n",
    "               index=['year'],\n",
    "               columns='continent',\n",
    "               aggfunc=[\"min\", \"max\", \"mean\"])"
   ]
  },
  {
   "cell_type": "markdown",
   "metadata": {
    "id": "4trb1unh1job"
   },
   "source": [
    "When we give multiple aggregating functions, we would get a multi-indexed data frame as output."
   ]
  }
 ],
 "metadata": {
  "kernelspec": {
   "display_name": "Python 3",
   "language": "python",
   "name": "python3"
  },
  "language_info": {
   "codemirror_mode": {
    "name": "ipython",
    "version": 3
   },
   "file_extension": ".py",
   "mimetype": "text/x-python",
   "name": "python",
   "nbconvert_exporter": "python",
   "pygments_lexer": "ipython3",
   "version": "3.7.6"
  },
  "colab": {
   "provenance": [],
   "collapsed_sections": []
  }
 },
 "nbformat": 4,
 "nbformat_minor": 0
}
