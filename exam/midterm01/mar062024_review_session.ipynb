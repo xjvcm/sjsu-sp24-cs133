{
 "cells": [
  {
   "cell_type": "markdown",
   "source": [
    "# Review Session March 06, 2024\n",
    "\n",
    "Practical advice:\n",
    "\n",
    "- Readable Titles and Axes!\n",
    "- Bullet points are okay\n",
    "- Know what is in each Hands-On/Lecture. You do not want to waste time searching.\n",
    "- Read through all the questions and consider point values\n",
    "- Partial credit is available. Outline what you would do. Mentioning specific functions/methods/etc... would be better\n",
    "\n",
    "Sample DataFrame:\n",
    "\n",
    "| name   | level | date   | relationship |\n",
    "|--------|-------|--------|--------------|\n",
    "| String | int   | String | String       |\n"
   ],
   "metadata": {
    "collapsed": false
   },
   "id": "66fc154990dfe550"
  },
  {
   "cell_type": "code",
   "outputs": [],
   "source": [
    "strip = df.groupby(\"Name\").level.max()\n",
    "sns.catplot(strip,y=\"Name\", x=\"level\")"
   ],
   "metadata": {
    "collapsed": false
   },
   "id": "e5c70aa418edc60f"
  },
  {
   "cell_type": "markdown",
   "source": [
    "Sample DataFrame (Cal):\n",
    "\n",
    "| duration | event_title | invitee | date   |\n",
    "|----------|-------------|---------|--------|\n",
    "| int      | string      | string  | string |\n",
    "\n",
    "Name — Coffee\n",
    "\n",
    "How does the amount of time spect with someone influence their level of intimacy?"
   ],
   "metadata": {
    "collapsed": false
   },
   "id": "fb54be8a0bd257aa"
  },
  {
   "cell_type": "code",
   "outputs": [
    {
     "ename": "NameError",
     "evalue": "name 'cal' is not defined",
     "output_type": "error",
     "traceback": [
      "\u001B[1;31m---------------------------------------------------------------------------\u001B[0m",
      "\u001B[1;31mNameError\u001B[0m                                 Traceback (most recent call last)",
      "Cell \u001B[1;32mIn[1], line 1\u001B[0m\n\u001B[1;32m----> 1\u001B[0m cal[\u001B[38;5;124m\"\u001B[39m\u001B[38;5;124mName\u001B[39m\u001B[38;5;124m\"\u001B[39m] \u001B[38;5;241m=\u001B[39m \u001B[43mcal\u001B[49m[eventitle]\u001B[38;5;241m.\u001B[39mstr\u001B[38;5;241m.\u001B[39mstrip(\u001B[38;5;124m\"\u001B[39m\u001B[38;5;124m-\u001B[39m\u001B[38;5;124m\"\u001B[39m)\u001B[38;5;241m.\u001B[39mstr[\u001B[38;5;241m0\u001B[39m]\n\u001B[0;32m      2\u001B[0m time \u001B[38;5;241m=\u001B[39m cal\u001B[38;5;241m.\u001B[39mmerge(strip, on\u001B[38;5;241m=\u001B[39m[\u001B[38;5;124m\"\u001B[39m\u001B[38;5;124mName\u001B[39m\u001B[38;5;124m\"\u001B[39m, \u001B[38;5;124m\"\u001B[39m\u001B[38;5;124mdate\u001B[39m\u001B[38;5;124m\"\u001B[39m], how\u001B[38;5;241m=\u001B[39m\u001B[38;5;124m\"\u001B[39m\u001B[38;5;124minner\u001B[39m\u001B[38;5;124m\"\u001B[39m)\n\u001B[0;32m      3\u001B[0m time\u001B[38;5;241m.\u001B[39mgroupby(\u001B[38;5;124m\"\u001B[39m\u001B[38;5;124mname\u001B[39m\u001B[38;5;124m\"\u001B[39m)[\u001B[38;5;124m\"\u001B[39m\u001B[38;5;124mduration\u001B[39m\u001B[38;5;124m\"\u001B[39m]\u001B[38;5;241m.\u001B[39msum()\n",
      "\u001B[1;31mNameError\u001B[0m: name 'cal' is not defined"
     ]
    }
   ],
   "source": [
    "cal[\"Name\"] = cal[eventitle].str.strip(\"-\").str[0]\n",
    "time = cal.merge(strip, on=[\"Name\", \"date\"], how=\"inner\")\n",
    "time.groupby(\"name\")[\"duration\"].sum()"
   ],
   "metadata": {
    "collapsed": false,
    "ExecuteTime": {
     "end_time": "2024-03-06T18:16:03.236146Z",
     "start_time": "2024-03-06T18:16:02.622002Z"
    }
   },
   "id": "3e20401f99242b3a",
   "execution_count": 1
  },
  {
   "cell_type": "markdown",
   "source": [
    "Person x become very close w person y faster than anyone else.\n",
    "# days since first interaction"
   ],
   "metadata": {
    "collapsed": false
   },
   "id": "47d656e41a842497"
  },
  {
   "cell_type": "code",
   "outputs": [],
   "source": [
    "first_met = dt.groupby(\"name\").date.min()\n",
    "df[] - first_met[\"name\"]"
   ],
   "metadata": {
    "collapsed": false
   },
   "id": "d0438fd0316b1985"
  }
 ],
 "metadata": {
  "kernelspec": {
   "display_name": "Python 3",
   "language": "python",
   "name": "python3"
  },
  "language_info": {
   "codemirror_mode": {
    "name": "ipython",
    "version": 2
   },
   "file_extension": ".py",
   "mimetype": "text/x-python",
   "name": "python",
   "nbconvert_exporter": "python",
   "pygments_lexer": "ipython2",
   "version": "2.7.6"
  }
 },
 "nbformat": 4,
 "nbformat_minor": 5
}
